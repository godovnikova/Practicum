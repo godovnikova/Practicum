{
 "cells": [
  {
   "cell_type": "markdown",
   "metadata": {},
   "source": [
    "# SQL"
   ]
  },
  {
   "cell_type": "markdown",
   "metadata": {},
   "source": [
    "## Project goal"
   ]
  },
  {
   "cell_type": "markdown",
   "metadata": {},
   "source": [
    "The coronavirus has taken the world by surprise, changing the usual order of things. In their free time, city residents no longer go out, do not visit cafes and shopping centers. But there is more time for books. Startupers noticed this and rushed to create applications for those who like to read.\n",
    "\n",
    "Your company decided to be on the wave and bought a large service for reading books by subscription. Your first task as an analyst is to analyze the database.\n",
    "It contains information about books, publishers, authors, as well as user reviews of books. This data will help formulate a value proposition for a new product."
   ]
  },
  {
   "cell_type": "markdown",
   "metadata": {},
   "source": [
    "## Database connection"
   ]
  },
  {
   "cell_type": "code",
   "execution_count": 1,
   "metadata": {},
   "outputs": [],
   "source": [
    "# import all packages\n",
    "import pandas as pd\n",
    "from sqlalchemy import create_engine"
   ]
  },
  {
   "cell_type": "code",
   "execution_count": 2,
   "metadata": {},
   "outputs": [],
   "source": [
    "# parameter setting\n",
    "db_config = {'user': 'praktikum_student', \n",
    "              'pwd': 'Sdf4$2;d-d30pp', \n",
    "             'host': 'rc1b-wcoijxj3yxfsf3fs.mdb.yandexcloud.net',\n",
    "             'port': 6432, # \n",
    "               'db': 'data-analyst-final-project-db'} \n",
    "\n",
    "connection_string = 'postgresql://{}:{}@{}:{}/{}'.format(db_config['user'], \n",
    "                                                         db_config['pwd'], \n",
    "                                                         db_config['host'], \n",
    "                                                         db_config['port'],\n",
    "                                                         db_config['db']) \n",
    "# save connector\n",
    "engine = create_engine(connection_string, connect_args={'sslmode':'require'})"
   ]
  },
  {
   "cell_type": "markdown",
   "metadata": {},
   "source": [
    "## Exploring tables"
   ]
  },
  {
   "cell_type": "markdown",
   "metadata": {},
   "source": [
    "### Data Description\n",
    "\n",
    "**Table `books`**\n",
    "\n",
    "Contains information about books:\n",
    "\n",
    "- `book_id` — book identifier;\n",
    "- `author_id` — author identifier;\n",
    "- `title` — title of the book;\n",
    "- `num_pages` - number of pages;\n",
    "- `publication_date` - publication date of the book;\n",
    "- `publisher_id` - publisher identifier.\n",
    "\n",
    "**The `authors` table**\n",
    "\n",
    "Contains information about the authors:\n",
    "\n",
    "- `author_id` — author identifier;\n",
    "- `author` is the name of the author.\n",
    "\n",
    "**Table `publishers`**\n",
    "\n",
    "Contains information about publishers:\n",
    "\n",
    "- `publisher_id` — publisher identifier;\n",
    "- `publisher` — publisher name;\n",
    "\n",
    "**Table `ratings`**\n",
    "\n",
    "Contains data about user ratings of books:\n",
    "\n",
    "- `rating_id` — rating identifier;\n",
    "- `book_id` — book identifier;\n",
    "- `username` - the name of the user who left the rating;\n",
    "- `rating` - rating of the book.\n",
    "\n",
    "**Table `reviews`**\n",
    "\n",
    "Contains data about user reviews of books:\n",
    "\n",
    "- `review_id` — review identifier;\n",
    "- `book_id` — book identifier;\n",
    "- `username` - the name of the user who wrote the review;\n",
    "- `text` — review text."
   ]
  },
  {
   "cell_type": "markdown",
   "metadata": {},
   "source": [
    "![](https://www.notion.so/image/https%3A%2F%2Fs3-us-west-2.amazonaws.com%2Fsecure.notion-static.com%2F069818d1-0e5c-4d87-a461-0de584ab9c33%2FUntitled_(33).png?table=block&id=bd53c8db-b4fd-49eb-8cc9-572ebb3c9163&spaceId=9e4bd47b-c6e6-4ca3-bcee-279794b47315&width=2000&userId=d635827d-e7fd-4206-9d2a-00f59cd9d0eb&cache=v2)"
   ]
  },
  {
   "cell_type": "markdown",
   "metadata": {},
   "source": [
    "### Database table queries"
   ]
  },
  {
   "cell_type": "markdown",
   "metadata": {},
   "source": [
    "#### Table 'books'"
   ]
  },
  {
   "cell_type": "code",
   "execution_count": 3,
   "metadata": {},
   "outputs": [
    {
     "data": {
      "text/html": [
       "<div>\n",
       "<style scoped>\n",
       "    .dataframe tbody tr th:only-of-type {\n",
       "        vertical-align: middle;\n",
       "    }\n",
       "\n",
       "    .dataframe tbody tr th {\n",
       "        vertical-align: top;\n",
       "    }\n",
       "\n",
       "    .dataframe thead th {\n",
       "        text-align: right;\n",
       "    }\n",
       "</style>\n",
       "<table border=\"1\" class=\"dataframe\">\n",
       "  <thead>\n",
       "    <tr style=\"text-align: right;\">\n",
       "      <th></th>\n",
       "      <th>book_id</th>\n",
       "      <th>author_id</th>\n",
       "      <th>title</th>\n",
       "      <th>num_pages</th>\n",
       "      <th>publication_date</th>\n",
       "      <th>publisher_id</th>\n",
       "    </tr>\n",
       "  </thead>\n",
       "  <tbody>\n",
       "    <tr>\n",
       "      <th>0</th>\n",
       "      <td>1</td>\n",
       "      <td>546</td>\n",
       "      <td>'Salem's Lot</td>\n",
       "      <td>594</td>\n",
       "      <td>2005-11-01</td>\n",
       "      <td>93</td>\n",
       "    </tr>\n",
       "    <tr>\n",
       "      <th>1</th>\n",
       "      <td>2</td>\n",
       "      <td>465</td>\n",
       "      <td>1 000 Places to See Before You Die</td>\n",
       "      <td>992</td>\n",
       "      <td>2003-05-22</td>\n",
       "      <td>336</td>\n",
       "    </tr>\n",
       "    <tr>\n",
       "      <th>2</th>\n",
       "      <td>3</td>\n",
       "      <td>407</td>\n",
       "      <td>13 Little Blue Envelopes (Little Blue Envelope...</td>\n",
       "      <td>322</td>\n",
       "      <td>2010-12-21</td>\n",
       "      <td>135</td>\n",
       "    </tr>\n",
       "    <tr>\n",
       "      <th>3</th>\n",
       "      <td>4</td>\n",
       "      <td>82</td>\n",
       "      <td>1491: New Revelations of the Americas Before C...</td>\n",
       "      <td>541</td>\n",
       "      <td>2006-10-10</td>\n",
       "      <td>309</td>\n",
       "    </tr>\n",
       "    <tr>\n",
       "      <th>4</th>\n",
       "      <td>5</td>\n",
       "      <td>125</td>\n",
       "      <td>1776</td>\n",
       "      <td>386</td>\n",
       "      <td>2006-07-04</td>\n",
       "      <td>268</td>\n",
       "    </tr>\n",
       "  </tbody>\n",
       "</table>\n",
       "</div>"
      ],
      "text/plain": [
       "   book_id  author_id                                              title  \\\n",
       "0        1        546                                       'Salem's Lot   \n",
       "1        2        465                 1 000 Places to See Before You Die   \n",
       "2        3        407  13 Little Blue Envelopes (Little Blue Envelope...   \n",
       "3        4         82  1491: New Revelations of the Americas Before C...   \n",
       "4        5        125                                               1776   \n",
       "\n",
       "   num_pages publication_date  publisher_id  \n",
       "0        594       2005-11-01            93  \n",
       "1        992       2003-05-22           336  \n",
       "2        322       2010-12-21           135  \n",
       "3        541       2006-10-10           309  \n",
       "4        386       2006-07-04           268  "
      ]
     },
     "execution_count": 3,
     "metadata": {},
     "output_type": "execute_result"
    }
   ],
   "source": [
    "query = '''\n",
    "    SELECT *\n",
    "    FROM books\n",
    "    LIMIT 5\n",
    "    '''\n",
    "pd.read_sql(query, con = engine)"
   ]
  },
  {
   "cell_type": "markdown",
   "metadata": {},
   "source": [
    "#### Table 'authors'"
   ]
  },
  {
   "cell_type": "code",
   "execution_count": 4,
   "metadata": {
    "scrolled": false
   },
   "outputs": [
    {
     "data": {
      "text/html": [
       "<div>\n",
       "<style scoped>\n",
       "    .dataframe tbody tr th:only-of-type {\n",
       "        vertical-align: middle;\n",
       "    }\n",
       "\n",
       "    .dataframe tbody tr th {\n",
       "        vertical-align: top;\n",
       "    }\n",
       "\n",
       "    .dataframe thead th {\n",
       "        text-align: right;\n",
       "    }\n",
       "</style>\n",
       "<table border=\"1\" class=\"dataframe\">\n",
       "  <thead>\n",
       "    <tr style=\"text-align: right;\">\n",
       "      <th></th>\n",
       "      <th>author_id</th>\n",
       "      <th>author</th>\n",
       "    </tr>\n",
       "  </thead>\n",
       "  <tbody>\n",
       "    <tr>\n",
       "      <th>0</th>\n",
       "      <td>1</td>\n",
       "      <td>A.S. Byatt</td>\n",
       "    </tr>\n",
       "    <tr>\n",
       "      <th>1</th>\n",
       "      <td>2</td>\n",
       "      <td>Aesop/Laura Harris/Laura Gibbs</td>\n",
       "    </tr>\n",
       "    <tr>\n",
       "      <th>2</th>\n",
       "      <td>3</td>\n",
       "      <td>Agatha Christie</td>\n",
       "    </tr>\n",
       "    <tr>\n",
       "      <th>3</th>\n",
       "      <td>4</td>\n",
       "      <td>Alan Brennert</td>\n",
       "    </tr>\n",
       "    <tr>\n",
       "      <th>4</th>\n",
       "      <td>5</td>\n",
       "      <td>Alan Moore/David   Lloyd</td>\n",
       "    </tr>\n",
       "  </tbody>\n",
       "</table>\n",
       "</div>"
      ],
      "text/plain": [
       "   author_id                          author\n",
       "0          1                      A.S. Byatt\n",
       "1          2  Aesop/Laura Harris/Laura Gibbs\n",
       "2          3                 Agatha Christie\n",
       "3          4                   Alan Brennert\n",
       "4          5        Alan Moore/David   Lloyd"
      ]
     },
     "execution_count": 4,
     "metadata": {},
     "output_type": "execute_result"
    }
   ],
   "source": [
    "query = '''\n",
    "    SELECT *\n",
    "    FROM authors\n",
    "    LIMIT 5\n",
    "    '''\n",
    "pd.read_sql(query, con = engine)"
   ]
  },
  {
   "cell_type": "markdown",
   "metadata": {},
   "source": [
    "#### Table  'ratings'"
   ]
  },
  {
   "cell_type": "code",
   "execution_count": 5,
   "metadata": {
    "scrolled": false
   },
   "outputs": [
    {
     "data": {
      "text/html": [
       "<div>\n",
       "<style scoped>\n",
       "    .dataframe tbody tr th:only-of-type {\n",
       "        vertical-align: middle;\n",
       "    }\n",
       "\n",
       "    .dataframe tbody tr th {\n",
       "        vertical-align: top;\n",
       "    }\n",
       "\n",
       "    .dataframe thead th {\n",
       "        text-align: right;\n",
       "    }\n",
       "</style>\n",
       "<table border=\"1\" class=\"dataframe\">\n",
       "  <thead>\n",
       "    <tr style=\"text-align: right;\">\n",
       "      <th></th>\n",
       "      <th>rating_id</th>\n",
       "      <th>book_id</th>\n",
       "      <th>username</th>\n",
       "      <th>rating</th>\n",
       "    </tr>\n",
       "  </thead>\n",
       "  <tbody>\n",
       "    <tr>\n",
       "      <th>0</th>\n",
       "      <td>1</td>\n",
       "      <td>1</td>\n",
       "      <td>ryanfranco</td>\n",
       "      <td>4</td>\n",
       "    </tr>\n",
       "    <tr>\n",
       "      <th>1</th>\n",
       "      <td>2</td>\n",
       "      <td>1</td>\n",
       "      <td>grantpatricia</td>\n",
       "      <td>2</td>\n",
       "    </tr>\n",
       "    <tr>\n",
       "      <th>2</th>\n",
       "      <td>3</td>\n",
       "      <td>1</td>\n",
       "      <td>brandtandrea</td>\n",
       "      <td>5</td>\n",
       "    </tr>\n",
       "    <tr>\n",
       "      <th>3</th>\n",
       "      <td>4</td>\n",
       "      <td>2</td>\n",
       "      <td>lorichen</td>\n",
       "      <td>3</td>\n",
       "    </tr>\n",
       "    <tr>\n",
       "      <th>4</th>\n",
       "      <td>5</td>\n",
       "      <td>2</td>\n",
       "      <td>mariokeller</td>\n",
       "      <td>2</td>\n",
       "    </tr>\n",
       "  </tbody>\n",
       "</table>\n",
       "</div>"
      ],
      "text/plain": [
       "   rating_id  book_id       username  rating\n",
       "0          1        1     ryanfranco       4\n",
       "1          2        1  grantpatricia       2\n",
       "2          3        1   brandtandrea       5\n",
       "3          4        2       lorichen       3\n",
       "4          5        2    mariokeller       2"
      ]
     },
     "execution_count": 5,
     "metadata": {},
     "output_type": "execute_result"
    }
   ],
   "source": [
    "query = '''\n",
    "    SELECT *\n",
    "    FROM ratings\n",
    "    LIMIT 5\n",
    "    '''\n",
    "pd.read_sql(query, con = engine)"
   ]
  },
  {
   "cell_type": "markdown",
   "metadata": {},
   "source": [
    "#### Table 'reviews'"
   ]
  },
  {
   "cell_type": "code",
   "execution_count": 6,
   "metadata": {
    "scrolled": false
   },
   "outputs": [
    {
     "data": {
      "text/html": [
       "<div>\n",
       "<style scoped>\n",
       "    .dataframe tbody tr th:only-of-type {\n",
       "        vertical-align: middle;\n",
       "    }\n",
       "\n",
       "    .dataframe tbody tr th {\n",
       "        vertical-align: top;\n",
       "    }\n",
       "\n",
       "    .dataframe thead th {\n",
       "        text-align: right;\n",
       "    }\n",
       "</style>\n",
       "<table border=\"1\" class=\"dataframe\">\n",
       "  <thead>\n",
       "    <tr style=\"text-align: right;\">\n",
       "      <th></th>\n",
       "      <th>review_id</th>\n",
       "      <th>book_id</th>\n",
       "      <th>username</th>\n",
       "      <th>text</th>\n",
       "    </tr>\n",
       "  </thead>\n",
       "  <tbody>\n",
       "    <tr>\n",
       "      <th>0</th>\n",
       "      <td>1</td>\n",
       "      <td>1</td>\n",
       "      <td>brandtandrea</td>\n",
       "      <td>Mention society tell send professor analysis. ...</td>\n",
       "    </tr>\n",
       "    <tr>\n",
       "      <th>1</th>\n",
       "      <td>2</td>\n",
       "      <td>1</td>\n",
       "      <td>ryanfranco</td>\n",
       "      <td>Foot glass pretty audience hit themselves. Amo...</td>\n",
       "    </tr>\n",
       "    <tr>\n",
       "      <th>2</th>\n",
       "      <td>3</td>\n",
       "      <td>2</td>\n",
       "      <td>lorichen</td>\n",
       "      <td>Listen treat keep worry. Miss husband tax but ...</td>\n",
       "    </tr>\n",
       "    <tr>\n",
       "      <th>3</th>\n",
       "      <td>4</td>\n",
       "      <td>3</td>\n",
       "      <td>johnsonamanda</td>\n",
       "      <td>Finally month interesting blue could nature cu...</td>\n",
       "    </tr>\n",
       "    <tr>\n",
       "      <th>4</th>\n",
       "      <td>5</td>\n",
       "      <td>3</td>\n",
       "      <td>scotttamara</td>\n",
       "      <td>Nation purpose heavy give wait song will. List...</td>\n",
       "    </tr>\n",
       "  </tbody>\n",
       "</table>\n",
       "</div>"
      ],
      "text/plain": [
       "   review_id  book_id       username  \\\n",
       "0          1        1   brandtandrea   \n",
       "1          2        1     ryanfranco   \n",
       "2          3        2       lorichen   \n",
       "3          4        3  johnsonamanda   \n",
       "4          5        3    scotttamara   \n",
       "\n",
       "                                                text  \n",
       "0  Mention society tell send professor analysis. ...  \n",
       "1  Foot glass pretty audience hit themselves. Amo...  \n",
       "2  Listen treat keep worry. Miss husband tax but ...  \n",
       "3  Finally month interesting blue could nature cu...  \n",
       "4  Nation purpose heavy give wait song will. List...  "
      ]
     },
     "execution_count": 6,
     "metadata": {},
     "output_type": "execute_result"
    }
   ],
   "source": [
    "query = '''\n",
    "    SELECT *\n",
    "    FROM reviews\n",
    "    LIMIT 5\n",
    "    '''\n",
    "pd.read_sql(query, con = engine)"
   ]
  },
  {
   "cell_type": "markdown",
   "metadata": {},
   "source": [
    "#### Table 'publishers'"
   ]
  },
  {
   "cell_type": "code",
   "execution_count": 7,
   "metadata": {
    "scrolled": true
   },
   "outputs": [
    {
     "data": {
      "text/html": [
       "<div>\n",
       "<style scoped>\n",
       "    .dataframe tbody tr th:only-of-type {\n",
       "        vertical-align: middle;\n",
       "    }\n",
       "\n",
       "    .dataframe tbody tr th {\n",
       "        vertical-align: top;\n",
       "    }\n",
       "\n",
       "    .dataframe thead th {\n",
       "        text-align: right;\n",
       "    }\n",
       "</style>\n",
       "<table border=\"1\" class=\"dataframe\">\n",
       "  <thead>\n",
       "    <tr style=\"text-align: right;\">\n",
       "      <th></th>\n",
       "      <th>publisher_id</th>\n",
       "      <th>publisher</th>\n",
       "    </tr>\n",
       "  </thead>\n",
       "  <tbody>\n",
       "    <tr>\n",
       "      <th>0</th>\n",
       "      <td>1</td>\n",
       "      <td>Ace</td>\n",
       "    </tr>\n",
       "    <tr>\n",
       "      <th>1</th>\n",
       "      <td>2</td>\n",
       "      <td>Ace Book</td>\n",
       "    </tr>\n",
       "    <tr>\n",
       "      <th>2</th>\n",
       "      <td>3</td>\n",
       "      <td>Ace Books</td>\n",
       "    </tr>\n",
       "    <tr>\n",
       "      <th>3</th>\n",
       "      <td>4</td>\n",
       "      <td>Ace Hardcover</td>\n",
       "    </tr>\n",
       "    <tr>\n",
       "      <th>4</th>\n",
       "      <td>5</td>\n",
       "      <td>Addison Wesley Publishing Company</td>\n",
       "    </tr>\n",
       "  </tbody>\n",
       "</table>\n",
       "</div>"
      ],
      "text/plain": [
       "   publisher_id                          publisher\n",
       "0             1                                Ace\n",
       "1             2                           Ace Book\n",
       "2             3                          Ace Books\n",
       "3             4                      Ace Hardcover\n",
       "4             5  Addison Wesley Publishing Company"
      ]
     },
     "execution_count": 7,
     "metadata": {},
     "output_type": "execute_result"
    }
   ],
   "source": [
    "query = '''\n",
    "    SELECT *\n",
    "    FROM publishers\n",
    "    LIMIT 5\n",
    "    '''\n",
    "pd.read_sql(query, con = engine)"
   ]
  },
  {
   "cell_type": "markdown",
   "metadata": {},
   "source": [
    "## Study"
   ]
  },
  {
   "cell_type": "markdown",
   "metadata": {},
   "source": [
    "### Let's count how many books came out after January 1, 2000"
   ]
  },
  {
   "cell_type": "code",
   "execution_count": 8,
   "metadata": {
    "scrolled": true
   },
   "outputs": [
    {
     "data": {
      "text/html": [
       "<div>\n",
       "<style scoped>\n",
       "    .dataframe tbody tr th:only-of-type {\n",
       "        vertical-align: middle;\n",
       "    }\n",
       "\n",
       "    .dataframe tbody tr th {\n",
       "        vertical-align: top;\n",
       "    }\n",
       "\n",
       "    .dataframe thead th {\n",
       "        text-align: right;\n",
       "    }\n",
       "</style>\n",
       "<table border=\"1\" class=\"dataframe\">\n",
       "  <thead>\n",
       "    <tr style=\"text-align: right;\">\n",
       "      <th></th>\n",
       "      <th>count</th>\n",
       "    </tr>\n",
       "  </thead>\n",
       "  <tbody>\n",
       "    <tr>\n",
       "      <th>0</th>\n",
       "      <td>819</td>\n",
       "    </tr>\n",
       "  </tbody>\n",
       "</table>\n",
       "</div>"
      ],
      "text/plain": [
       "   count\n",
       "0    819"
      ]
     },
     "execution_count": 8,
     "metadata": {},
     "output_type": "execute_result"
    }
   ],
   "source": [
    "query = '''\n",
    "    SELECT COUNT(book_id)\n",
    "    FROM books\n",
    "    WHERE publication_date > '2000-01-01';\n",
    "'''\n",
    "pd.read_sql(query, con = engine)"
   ]
  },
  {
   "cell_type": "markdown",
   "metadata": {},
   "source": [
    "### For each book, we calculate the number of reviews and the average rating"
   ]
  },
  {
   "cell_type": "code",
   "execution_count": 9,
   "metadata": {
    "scrolled": false
   },
   "outputs": [
    {
     "data": {
      "text/html": [
       "<div>\n",
       "<style scoped>\n",
       "    .dataframe tbody tr th:only-of-type {\n",
       "        vertical-align: middle;\n",
       "    }\n",
       "\n",
       "    .dataframe tbody tr th {\n",
       "        vertical-align: top;\n",
       "    }\n",
       "\n",
       "    .dataframe thead th {\n",
       "        text-align: right;\n",
       "    }\n",
       "</style>\n",
       "<table border=\"1\" class=\"dataframe\">\n",
       "  <thead>\n",
       "    <tr style=\"text-align: right;\">\n",
       "      <th></th>\n",
       "      <th>book_id</th>\n",
       "      <th>title</th>\n",
       "      <th>count_review</th>\n",
       "      <th>avg_rating</th>\n",
       "    </tr>\n",
       "  </thead>\n",
       "  <tbody>\n",
       "    <tr>\n",
       "      <th>0</th>\n",
       "      <td>948</td>\n",
       "      <td>Twilight (Twilight  #1)</td>\n",
       "      <td>7</td>\n",
       "      <td>3.66</td>\n",
       "    </tr>\n",
       "    <tr>\n",
       "      <th>1</th>\n",
       "      <td>302</td>\n",
       "      <td>Harry Potter and the Prisoner of Azkaban (Harr...</td>\n",
       "      <td>6</td>\n",
       "      <td>4.41</td>\n",
       "    </tr>\n",
       "    <tr>\n",
       "      <th>2</th>\n",
       "      <td>299</td>\n",
       "      <td>Harry Potter and the Chamber of Secrets (Harry...</td>\n",
       "      <td>6</td>\n",
       "      <td>4.29</td>\n",
       "    </tr>\n",
       "    <tr>\n",
       "      <th>3</th>\n",
       "      <td>656</td>\n",
       "      <td>The Book Thief</td>\n",
       "      <td>6</td>\n",
       "      <td>4.26</td>\n",
       "    </tr>\n",
       "    <tr>\n",
       "      <th>4</th>\n",
       "      <td>734</td>\n",
       "      <td>The Glass Castle</td>\n",
       "      <td>6</td>\n",
       "      <td>4.21</td>\n",
       "    </tr>\n",
       "    <tr>\n",
       "      <th>...</th>\n",
       "      <td>...</td>\n",
       "      <td>...</td>\n",
       "      <td>...</td>\n",
       "      <td>...</td>\n",
       "    </tr>\n",
       "    <tr>\n",
       "      <th>995</th>\n",
       "      <td>191</td>\n",
       "      <td>Disney's Beauty and the Beast (A Little Golden...</td>\n",
       "      <td>0</td>\n",
       "      <td>4.00</td>\n",
       "    </tr>\n",
       "    <tr>\n",
       "      <th>996</th>\n",
       "      <td>387</td>\n",
       "      <td>Leonardo's Notebooks</td>\n",
       "      <td>0</td>\n",
       "      <td>4.00</td>\n",
       "    </tr>\n",
       "    <tr>\n",
       "      <th>997</th>\n",
       "      <td>221</td>\n",
       "      <td>Essential Tales and Poems</td>\n",
       "      <td>0</td>\n",
       "      <td>4.00</td>\n",
       "    </tr>\n",
       "    <tr>\n",
       "      <th>998</th>\n",
       "      <td>83</td>\n",
       "      <td>Anne Rice's The Vampire Lestat: A Graphic Novel</td>\n",
       "      <td>0</td>\n",
       "      <td>3.67</td>\n",
       "    </tr>\n",
       "    <tr>\n",
       "      <th>999</th>\n",
       "      <td>808</td>\n",
       "      <td>The Natural Way to Draw</td>\n",
       "      <td>0</td>\n",
       "      <td>3.00</td>\n",
       "    </tr>\n",
       "  </tbody>\n",
       "</table>\n",
       "<p>1000 rows × 4 columns</p>\n",
       "</div>"
      ],
      "text/plain": [
       "     book_id                                              title  count_review  \\\n",
       "0        948                            Twilight (Twilight  #1)             7   \n",
       "1        302  Harry Potter and the Prisoner of Azkaban (Harr...             6   \n",
       "2        299  Harry Potter and the Chamber of Secrets (Harry...             6   \n",
       "3        656                                     The Book Thief             6   \n",
       "4        734                                   The Glass Castle             6   \n",
       "..       ...                                                ...           ...   \n",
       "995      191  Disney's Beauty and the Beast (A Little Golden...             0   \n",
       "996      387                               Leonardo's Notebooks             0   \n",
       "997      221                          Essential Tales and Poems             0   \n",
       "998       83    Anne Rice's The Vampire Lestat: A Graphic Novel             0   \n",
       "999      808                            The Natural Way to Draw             0   \n",
       "\n",
       "     avg_rating  \n",
       "0          3.66  \n",
       "1          4.41  \n",
       "2          4.29  \n",
       "3          4.26  \n",
       "4          4.21  \n",
       "..          ...  \n",
       "995        4.00  \n",
       "996        4.00  \n",
       "997        4.00  \n",
       "998        3.67  \n",
       "999        3.00  \n",
       "\n",
       "[1000 rows x 4 columns]"
      ]
     },
     "execution_count": 9,
     "metadata": {},
     "output_type": "execute_result"
    }
   ],
   "source": [
    "query = '''\n",
    "    SELECT b.book_id, \n",
    "        b.title,\n",
    "        COUNT(DISTINCT rv.review_id) AS count_review,\n",
    "        ROUND(AVG(rt.rating), 2) AS avg_rating\n",
    "    FROM books AS b\n",
    "    LEFT JOIN reviews AS rv ON b.book_id = rv.book_id\n",
    "    LEFT JOIN ratings AS rt ON b.book_id = rt.book_id\n",
    "    GROUP BY b.book_id\n",
    "    ORDER BY count_review DESC, avg_rating DESC;\n",
    "\n",
    "'''\n",
    "pd.read_sql(query, con = engine)"
   ]
  },
  {
   "cell_type": "markdown",
   "metadata": {},
   "source": [
    "### Let's determine the publisher that has released the largest number of books thicker than 50 pages (thereby excluding brochures from the analysis)"
   ]
  },
  {
   "cell_type": "code",
   "execution_count": 10,
   "metadata": {},
   "outputs": [
    {
     "data": {
      "text/html": [
       "<div>\n",
       "<style scoped>\n",
       "    .dataframe tbody tr th:only-of-type {\n",
       "        vertical-align: middle;\n",
       "    }\n",
       "\n",
       "    .dataframe tbody tr th {\n",
       "        vertical-align: top;\n",
       "    }\n",
       "\n",
       "    .dataframe thead th {\n",
       "        text-align: right;\n",
       "    }\n",
       "</style>\n",
       "<table border=\"1\" class=\"dataframe\">\n",
       "  <thead>\n",
       "    <tr style=\"text-align: right;\">\n",
       "      <th></th>\n",
       "      <th>publisher</th>\n",
       "      <th>count_book</th>\n",
       "    </tr>\n",
       "  </thead>\n",
       "  <tbody>\n",
       "    <tr>\n",
       "      <th>0</th>\n",
       "      <td>Penguin Books</td>\n",
       "      <td>42</td>\n",
       "    </tr>\n",
       "  </tbody>\n",
       "</table>\n",
       "</div>"
      ],
      "text/plain": [
       "       publisher  count_book\n",
       "0  Penguin Books          42"
      ]
     },
     "execution_count": 10,
     "metadata": {},
     "output_type": "execute_result"
    }
   ],
   "source": [
    "query = '''\n",
    "    SELECT p.publisher,\n",
    "        COUNT(b.book_id) AS count_book\n",
    "    FROM books AS b\n",
    "    LEFT JOIN publishers AS p ON b.publisher_id = p.publisher_id\n",
    "    WHERE b.num_pages > 50\n",
    "    GROUP BY p.publisher\n",
    "    ORDER BY count_book DESC\n",
    "    LIMIT 1;\n",
    "'''\n",
    "pd.read_sql(query, con = engine)"
   ]
  },
  {
   "cell_type": "markdown",
   "metadata": {},
   "source": [
    "### Let's determine the author with the highest average rating of books (we will take into account only books with 50 or more ratings)"
   ]
  },
  {
   "cell_type": "code",
   "execution_count": 11,
   "metadata": {},
   "outputs": [
    {
     "data": {
      "text/html": [
       "<div>\n",
       "<style scoped>\n",
       "    .dataframe tbody tr th:only-of-type {\n",
       "        vertical-align: middle;\n",
       "    }\n",
       "\n",
       "    .dataframe tbody tr th {\n",
       "        vertical-align: top;\n",
       "    }\n",
       "\n",
       "    .dataframe thead th {\n",
       "        text-align: right;\n",
       "    }\n",
       "</style>\n",
       "<table border=\"1\" class=\"dataframe\">\n",
       "  <thead>\n",
       "    <tr style=\"text-align: right;\">\n",
       "      <th></th>\n",
       "      <th>author</th>\n",
       "      <th>avg_rating</th>\n",
       "    </tr>\n",
       "  </thead>\n",
       "  <tbody>\n",
       "    <tr>\n",
       "      <th>0</th>\n",
       "      <td>J.K. Rowling/Mary GrandPré</td>\n",
       "      <td>4.29</td>\n",
       "    </tr>\n",
       "  </tbody>\n",
       "</table>\n",
       "</div>"
      ],
      "text/plain": [
       "                       author  avg_rating\n",
       "0  J.K. Rowling/Mary GrandPré        4.29"
      ]
     },
     "execution_count": 11,
     "metadata": {},
     "output_type": "execute_result"
    }
   ],
   "source": [
    "query = '''\n",
    "    SELECT a.author,\n",
    "        ROUND(AVG(r.rating), 2) AS avg_rating\n",
    "    FROM books AS b\n",
    "    LEFT JOIN authors AS a ON b.author_id = a.author_id\n",
    "    LEFT JOIN ratings AS r ON b.book_id = r.book_id\n",
    "    WHERE b.book_id IN (SELECT book_id\n",
    "                        FROM ratings\n",
    "                        GROUP BY book_id\n",
    "                        HAVING COUNT(rating_id) > 50)\n",
    "    GROUP BY a.author\n",
    "    ORDER BY avg_rating DESC\n",
    "    LIMIT 1;\n",
    "'''\n",
    "pd.read_sql(query, con = engine)"
   ]
  },
  {
   "cell_type": "markdown",
   "metadata": {},
   "source": [
    "### Let's calculate the average number of reviews from users who have given more than 50 ratings"
   ]
  },
  {
   "cell_type": "code",
   "execution_count": 12,
   "metadata": {
    "scrolled": true
   },
   "outputs": [
    {
     "data": {
      "text/html": [
       "<div>\n",
       "<style scoped>\n",
       "    .dataframe tbody tr th:only-of-type {\n",
       "        vertical-align: middle;\n",
       "    }\n",
       "\n",
       "    .dataframe tbody tr th {\n",
       "        vertical-align: top;\n",
       "    }\n",
       "\n",
       "    .dataframe thead th {\n",
       "        text-align: right;\n",
       "    }\n",
       "</style>\n",
       "<table border=\"1\" class=\"dataframe\">\n",
       "  <thead>\n",
       "    <tr style=\"text-align: right;\">\n",
       "      <th></th>\n",
       "      <th>round</th>\n",
       "    </tr>\n",
       "  </thead>\n",
       "  <tbody>\n",
       "    <tr>\n",
       "      <th>0</th>\n",
       "      <td>24.0</td>\n",
       "    </tr>\n",
       "  </tbody>\n",
       "</table>\n",
       "</div>"
      ],
      "text/plain": [
       "   round\n",
       "0   24.0"
      ]
     },
     "execution_count": 12,
     "metadata": {},
     "output_type": "execute_result"
    }
   ],
   "source": [
    "query = '''\n",
    "    SELECT ROUND(AVG(count_review))\n",
    "     \n",
    "    FROM (SELECT username,\n",
    "                 COUNT(review_id) AS count_review\n",
    "         FROM reviews\n",
    "         WHERE username IN (SELECT username\n",
    "                           FROM ratings\n",
    "                           GROUP BY username\n",
    "                           HAVING COUNT(rating_id) > 50)\n",
    "         GROUP BY username) as count;       \n",
    "'''\n",
    "pd.read_sql(query, con = engine)"
   ]
  },
  {
   "cell_type": "markdown",
   "metadata": {},
   "source": [
    "## General conclusions"
   ]
  },
  {
   "cell_type": "markdown",
   "metadata": {},
   "source": [
    "During the study of database containing information about books, publishers, authors, as well as user reviews of books, the following conclusions were obtained (on the basis of which a value proposition for a new product will be formulated in the future):\n",
    "1. Since January 1, 2000, 819 books have been released.\n",
    "2. For each book, the number of reviews and the average rating were calculated: the maximum number of reviews for the book **Twilight (Twilight #1)** - 7 reviews and the average rating - 3.66.\n",
    "3. **Penguin Books** published 42 books thicker than 50 pages (that is, excluding brochures), which is the maximum value among all publishers.\n",
    "4. Author **J.K. Rowling/Mary GrandPré** received the highest average book rating of 4.3 (only books with 50 or more ratings were counted).\n",
    "5. The average number of reviews from users who gave more than 50 ratings was 24 reviews."
   ]
  },
  {
   "cell_type": "code",
   "execution_count": null,
   "metadata": {},
   "outputs": [],
   "source": []
  }
 ],
 "metadata": {
  "ExecuteTimeLog": [
   {
    "duration": 1493,
    "start_time": "2022-02-11T02:25:59.518Z"
   },
   {
    "duration": 1411,
    "start_time": "2022-02-11T02:26:01.015Z"
   },
   {
    "duration": 9,
    "start_time": "2022-02-11T02:26:02.430Z"
   },
   {
    "duration": 297,
    "start_time": "2022-02-11T02:26:02.443Z"
   },
   {
    "duration": 10,
    "start_time": "2022-02-11T02:26:02.743Z"
   },
   {
    "duration": 25,
    "start_time": "2022-02-11T02:26:02.756Z"
   },
   {
    "duration": 14,
    "start_time": "2022-02-11T02:26:02.784Z"
   },
   {
    "duration": 9,
    "start_time": "2022-02-11T02:26:02.801Z"
   },
   {
    "duration": 7,
    "start_time": "2022-02-11T02:26:02.814Z"
   },
   {
    "duration": 52,
    "start_time": "2022-02-11T02:26:02.824Z"
   },
   {
    "duration": 9,
    "start_time": "2022-02-11T02:26:02.879Z"
   },
   {
    "duration": 9,
    "start_time": "2022-02-11T02:26:02.890Z"
   },
   {
    "duration": 826,
    "start_time": "2022-02-11T02:26:02.902Z"
   },
   {
    "duration": 38,
    "start_time": "2022-02-11T02:26:03.731Z"
   },
   {
    "duration": 148,
    "start_time": "2022-02-11T02:26:03.772Z"
   },
   {
    "duration": 1325,
    "start_time": "2022-02-11T02:26:03.923Z"
   },
   {
    "duration": 161,
    "start_time": "2022-02-11T02:26:05.251Z"
   },
   {
    "duration": 546,
    "start_time": "2022-02-11T02:26:05.414Z"
   },
   {
    "duration": 723,
    "start_time": "2022-02-11T02:26:05.963Z"
   },
   {
    "duration": 496,
    "start_time": "2022-02-11T02:26:06.689Z"
   },
   {
    "duration": 543,
    "start_time": "2022-02-11T02:26:07.187Z"
   },
   {
    "duration": 2482,
    "start_time": "2022-02-11T02:26:07.733Z"
   },
   {
    "duration": 3485,
    "start_time": "2022-02-11T02:26:10.218Z"
   },
   {
    "duration": 3341,
    "start_time": "2022-02-11T02:26:13.705Z"
   },
   {
    "duration": 3986,
    "start_time": "2022-02-11T02:26:17.048Z"
   },
   {
    "duration": 5254,
    "start_time": "2022-02-11T02:26:21.037Z"
   },
   {
    "duration": 7784,
    "start_time": "2022-02-11T02:26:26.296Z"
   },
   {
    "duration": 838,
    "start_time": "2022-02-12T03:58:36.621Z"
   },
   {
    "duration": 876,
    "start_time": "2022-02-12T03:58:37.461Z"
   },
   {
    "duration": 6,
    "start_time": "2022-02-12T03:58:38.339Z"
   },
   {
    "duration": 180,
    "start_time": "2022-02-12T03:58:38.346Z"
   },
   {
    "duration": 6,
    "start_time": "2022-02-12T03:58:38.527Z"
   },
   {
    "duration": 10,
    "start_time": "2022-02-12T03:58:38.535Z"
   },
   {
    "duration": 14,
    "start_time": "2022-02-12T03:58:38.546Z"
   },
   {
    "duration": 16,
    "start_time": "2022-02-12T03:58:38.561Z"
   },
   {
    "duration": 11,
    "start_time": "2022-02-12T03:58:38.579Z"
   },
   {
    "duration": 14,
    "start_time": "2022-02-12T03:58:38.592Z"
   },
   {
    "duration": 14,
    "start_time": "2022-02-12T03:58:38.607Z"
   },
   {
    "duration": 8,
    "start_time": "2022-02-12T03:58:38.623Z"
   },
   {
    "duration": 507,
    "start_time": "2022-02-12T03:58:38.632Z"
   },
   {
    "duration": 23,
    "start_time": "2022-02-12T03:58:39.140Z"
   },
   {
    "duration": 740,
    "start_time": "2022-02-12T03:58:39.164Z"
   },
   {
    "duration": 880,
    "start_time": "2022-02-12T03:58:39.919Z"
   },
   {
    "duration": 56,
    "start_time": "2022-02-12T03:58:40.801Z"
   },
   {
    "duration": 336,
    "start_time": "2022-02-12T03:58:40.858Z"
   },
   {
    "duration": 353,
    "start_time": "2022-02-12T03:58:41.196Z"
   },
   {
    "duration": 282,
    "start_time": "2022-02-12T03:58:41.550Z"
   },
   {
    "duration": 263,
    "start_time": "2022-02-12T03:58:41.834Z"
   },
   {
    "duration": 1560,
    "start_time": "2022-02-12T03:58:42.099Z"
   },
   {
    "duration": 2135,
    "start_time": "2022-02-12T03:58:43.661Z"
   },
   {
    "duration": 2004,
    "start_time": "2022-02-12T03:58:45.798Z"
   },
   {
    "duration": 2388,
    "start_time": "2022-02-12T03:58:47.804Z"
   },
   {
    "duration": 3177,
    "start_time": "2022-02-12T03:58:50.193Z"
   },
   {
    "duration": 5277,
    "start_time": "2022-02-12T03:58:53.373Z"
   },
   {
    "duration": 326,
    "start_time": "2022-02-12T04:02:29.636Z"
   },
   {
    "duration": 267,
    "start_time": "2022-02-12T04:05:27.115Z"
   },
   {
    "duration": 7,
    "start_time": "2022-02-12T04:05:41.997Z"
   },
   {
    "duration": 1466,
    "start_time": "2022-02-23T14:21:44.061Z"
   },
   {
    "duration": 64,
    "start_time": "2022-02-23T14:21:45.530Z"
   },
   {
    "duration": 15,
    "start_time": "2022-02-23T14:21:45.597Z"
   },
   {
    "duration": 115103,
    "start_time": "2022-02-23T14:21:45.615Z"
   },
   {
    "duration": 19,
    "start_time": "2022-02-23T14:23:40.721Z"
   },
   {
    "duration": 128,
    "start_time": "2022-02-23T14:23:40.743Z"
   },
   {
    "duration": 12,
    "start_time": "2022-02-23T14:23:40.873Z"
   },
   {
    "duration": 10,
    "start_time": "2022-02-23T14:23:40.889Z"
   },
   {
    "duration": 12,
    "start_time": "2022-02-23T14:23:40.902Z"
   },
   {
    "duration": 616,
    "start_time": "2022-02-23T14:23:40.917Z"
   },
   {
    "duration": 374,
    "start_time": "2022-02-23T14:23:41.536Z"
   },
   {
    "duration": 377,
    "start_time": "2022-02-23T14:23:41.913Z"
   },
   {
    "duration": 17,
    "start_time": "2022-02-23T14:23:42.293Z"
   },
   {
    "duration": 477,
    "start_time": "2022-02-23T14:23:42.313Z"
   },
   {
    "duration": 370,
    "start_time": "2022-02-23T14:23:42.793Z"
   },
   {
    "duration": 8,
    "start_time": "2022-02-23T14:23:43.166Z"
   },
   {
    "duration": 489,
    "start_time": "2022-02-23T14:23:43.178Z"
   },
   {
    "duration": 19,
    "start_time": "2022-02-23T14:23:43.671Z"
   },
   {
    "duration": 396,
    "start_time": "2022-02-23T14:23:43.712Z"
   },
   {
    "duration": 7,
    "start_time": "2022-02-23T14:23:44.111Z"
   },
   {
    "duration": 22,
    "start_time": "2022-02-23T14:23:44.121Z"
   },
   {
    "duration": 498,
    "start_time": "2022-02-23T14:23:44.146Z"
   },
   {
    "duration": 6,
    "start_time": "2022-02-23T14:23:44.650Z"
   },
   {
    "duration": 53,
    "start_time": "2022-02-23T14:23:44.658Z"
   },
   {
    "duration": 19,
    "start_time": "2022-02-23T14:23:44.714Z"
   },
   {
    "duration": 18,
    "start_time": "2022-02-23T14:23:44.736Z"
   },
   {
    "duration": 15,
    "start_time": "2022-02-23T14:23:44.758Z"
   },
   {
    "duration": 29,
    "start_time": "2022-02-23T14:23:44.812Z"
   },
   {
    "duration": 25,
    "start_time": "2022-02-23T14:23:44.844Z"
   },
   {
    "duration": 1097,
    "start_time": "2022-02-23T14:23:44.872Z"
   },
   {
    "duration": 461,
    "start_time": "2022-02-23T14:23:45.973Z"
   },
   {
    "duration": 1678,
    "start_time": "2022-02-24T18:18:08.404Z"
   },
   {
    "duration": 24,
    "start_time": "2022-02-24T18:18:10.083Z"
   },
   {
    "duration": 7,
    "start_time": "2022-02-24T18:18:10.109Z"
   },
   {
    "duration": 74334,
    "start_time": "2022-02-24T18:18:10.118Z"
   },
   {
    "duration": 27,
    "start_time": "2022-02-24T18:19:24.454Z"
   },
   {
    "duration": 54,
    "start_time": "2022-02-24T18:19:24.483Z"
   },
   {
    "duration": 7,
    "start_time": "2022-02-24T18:19:24.539Z"
   },
   {
    "duration": 5,
    "start_time": "2022-02-24T18:19:24.548Z"
   },
   {
    "duration": 17,
    "start_time": "2022-02-24T18:19:24.555Z"
   },
   {
    "duration": 7,
    "start_time": "2022-02-24T18:19:24.573Z"
   },
   {
    "duration": 6,
    "start_time": "2022-02-24T18:19:24.581Z"
   },
   {
    "duration": 374,
    "start_time": "2022-02-24T18:19:24.588Z"
   },
   {
    "duration": 243,
    "start_time": "2022-02-24T18:19:24.963Z"
   },
   {
    "duration": 240,
    "start_time": "2022-02-24T18:19:25.208Z"
   },
   {
    "duration": 5,
    "start_time": "2022-02-24T18:19:25.450Z"
   },
   {
    "duration": 331,
    "start_time": "2022-02-24T18:19:25.457Z"
   },
   {
    "duration": 207,
    "start_time": "2022-02-24T18:19:25.790Z"
   },
   {
    "duration": 5,
    "start_time": "2022-02-24T18:19:25.999Z"
   },
   {
    "duration": 344,
    "start_time": "2022-02-24T18:19:26.005Z"
   },
   {
    "duration": 10,
    "start_time": "2022-02-24T18:19:26.351Z"
   },
   {
    "duration": 255,
    "start_time": "2022-02-24T18:19:26.363Z"
   },
   {
    "duration": 4,
    "start_time": "2022-02-24T18:19:26.621Z"
   },
   {
    "duration": 23,
    "start_time": "2022-02-24T18:19:26.627Z"
   },
   {
    "duration": 266,
    "start_time": "2022-02-24T18:19:26.651Z"
   },
   {
    "duration": 3,
    "start_time": "2022-02-24T18:19:26.919Z"
   },
   {
    "duration": 31,
    "start_time": "2022-02-24T18:19:26.924Z"
   },
   {
    "duration": 14,
    "start_time": "2022-02-24T18:19:26.957Z"
   },
   {
    "duration": 12,
    "start_time": "2022-02-24T18:19:26.972Z"
   },
   {
    "duration": 8,
    "start_time": "2022-02-24T18:19:26.986Z"
   },
   {
    "duration": 19,
    "start_time": "2022-02-24T18:19:26.995Z"
   },
   {
    "duration": 48,
    "start_time": "2022-02-24T18:19:27.016Z"
   },
   {
    "duration": 585,
    "start_time": "2022-02-24T18:19:27.065Z"
   },
   {
    "duration": 279,
    "start_time": "2022-02-24T18:19:27.652Z"
   },
   {
    "duration": 9,
    "start_time": "2022-02-24T18:21:48.091Z"
   },
   {
    "duration": 404,
    "start_time": "2022-02-24T18:21:58.383Z"
   },
   {
    "duration": 6,
    "start_time": "2022-02-24T18:22:06.620Z"
   },
   {
    "duration": 7,
    "start_time": "2022-02-24T18:22:24.155Z"
   },
   {
    "duration": 3,
    "start_time": "2022-02-24T18:22:32.115Z"
   },
   {
    "duration": 21397,
    "start_time": "2022-03-12T12:31:38.105Z"
   },
   {
    "duration": 389,
    "start_time": "2022-03-12T12:31:59.506Z"
   },
   {
    "duration": 228538,
    "start_time": "2022-03-12T12:31:59.898Z"
   },
   {
    "duration": 82,
    "start_time": "2022-03-12T12:35:48.439Z"
   },
   {
    "duration": 4,
    "start_time": "2022-03-12T12:35:48.523Z"
   },
   {
    "duration": 16,
    "start_time": "2022-03-12T12:35:48.529Z"
   },
   {
    "duration": 43,
    "start_time": "2022-03-12T12:35:48.548Z"
   },
   {
    "duration": 40,
    "start_time": "2022-03-12T12:35:48.594Z"
   },
   {
    "duration": 8,
    "start_time": "2022-03-12T12:35:48.639Z"
   },
   {
    "duration": 54,
    "start_time": "2022-03-12T12:35:48.650Z"
   },
   {
    "duration": 39,
    "start_time": "2022-03-12T12:35:48.707Z"
   },
   {
    "duration": 43,
    "start_time": "2022-03-12T12:35:48.748Z"
   },
   {
    "duration": 64,
    "start_time": "2022-03-12T12:35:48.794Z"
   },
   {
    "duration": 37,
    "start_time": "2022-03-12T12:35:48.860Z"
   },
   {
    "duration": 541,
    "start_time": "2022-03-12T12:35:48.899Z"
   },
   {
    "duration": -1141,
    "start_time": "2022-03-12T12:35:50.584Z"
   },
   {
    "duration": -1295,
    "start_time": "2022-03-12T12:35:50.739Z"
   },
   {
    "duration": -1295,
    "start_time": "2022-03-12T12:35:50.741Z"
   },
   {
    "duration": -1295,
    "start_time": "2022-03-12T12:35:50.743Z"
   },
   {
    "duration": -1295,
    "start_time": "2022-03-12T12:35:50.744Z"
   },
   {
    "duration": -1296,
    "start_time": "2022-03-12T12:35:50.746Z"
   },
   {
    "duration": -1296,
    "start_time": "2022-03-12T12:35:50.748Z"
   },
   {
    "duration": -1296,
    "start_time": "2022-03-12T12:35:50.749Z"
   },
   {
    "duration": -1296,
    "start_time": "2022-03-12T12:35:50.751Z"
   },
   {
    "duration": -1298,
    "start_time": "2022-03-12T12:35:50.754Z"
   },
   {
    "duration": -1298,
    "start_time": "2022-03-12T12:35:50.755Z"
   },
   {
    "duration": -1297,
    "start_time": "2022-03-12T12:35:50.756Z"
   },
   {
    "duration": -1298,
    "start_time": "2022-03-12T12:35:50.758Z"
   },
   {
    "duration": -1297,
    "start_time": "2022-03-12T12:35:50.759Z"
   },
   {
    "duration": -1297,
    "start_time": "2022-03-12T12:35:50.761Z"
   },
   {
    "duration": -1296,
    "start_time": "2022-03-12T12:35:50.762Z"
   },
   {
    "duration": -1297,
    "start_time": "2022-03-12T12:35:50.764Z"
   },
   {
    "duration": -1326,
    "start_time": "2022-03-12T12:35:50.794Z"
   },
   {
    "duration": -1330,
    "start_time": "2022-03-12T12:35:50.800Z"
   },
   {
    "duration": -1333,
    "start_time": "2022-03-12T12:35:50.804Z"
   },
   {
    "duration": 319,
    "start_time": "2022-03-12T12:46:48.832Z"
   },
   {
    "duration": 333,
    "start_time": "2022-03-12T19:12:03.700Z"
   },
   {
    "duration": 2006,
    "start_time": "2022-03-12T19:16:03.320Z"
   },
   {
    "duration": 406,
    "start_time": "2022-03-12T19:16:21.635Z"
   },
   {
    "duration": 2006,
    "start_time": "2022-03-12T19:16:32.143Z"
   },
   {
    "duration": 132,
    "start_time": "2022-03-12T19:16:34.151Z"
   },
   {
    "duration": 5941,
    "start_time": "2022-03-12T19:16:34.286Z"
   },
   {
    "duration": 93,
    "start_time": "2022-03-12T19:16:40.230Z"
   },
   {
    "duration": 4,
    "start_time": "2022-03-12T19:16:40.326Z"
   },
   {
    "duration": 18,
    "start_time": "2022-03-12T19:16:40.332Z"
   },
   {
    "duration": 65,
    "start_time": "2022-03-12T19:16:40.352Z"
   },
   {
    "duration": 45,
    "start_time": "2022-03-12T19:16:40.421Z"
   },
   {
    "duration": 25,
    "start_time": "2022-03-12T19:16:40.469Z"
   },
   {
    "duration": 38,
    "start_time": "2022-03-12T19:16:40.497Z"
   },
   {
    "duration": 57,
    "start_time": "2022-03-12T19:16:40.537Z"
   },
   {
    "duration": 22,
    "start_time": "2022-03-12T19:16:40.597Z"
   },
   {
    "duration": 98,
    "start_time": "2022-03-12T19:16:40.621Z"
   },
   {
    "duration": 17,
    "start_time": "2022-03-12T19:16:40.721Z"
   },
   {
    "duration": 1272,
    "start_time": "2022-03-12T19:16:40.741Z"
   },
   {
    "duration": 22,
    "start_time": "2022-03-12T19:16:42.017Z"
   },
   {
    "duration": 395,
    "start_time": "2022-03-12T19:16:42.086Z"
   },
   {
    "duration": 1545,
    "start_time": "2022-03-12T19:16:42.488Z"
   },
   {
    "duration": -950,
    "start_time": "2022-03-12T19:16:44.987Z"
   },
   {
    "duration": -953,
    "start_time": "2022-03-12T19:16:44.992Z"
   },
   {
    "duration": -955,
    "start_time": "2022-03-12T19:16:44.996Z"
   },
   {
    "duration": -957,
    "start_time": "2022-03-12T19:16:45.000Z"
   },
   {
    "duration": -959,
    "start_time": "2022-03-12T19:16:45.004Z"
   },
   {
    "duration": -971,
    "start_time": "2022-03-12T19:16:45.018Z"
   },
   {
    "duration": -972,
    "start_time": "2022-03-12T19:16:45.021Z"
   },
   {
    "duration": -974,
    "start_time": "2022-03-12T19:16:45.025Z"
   },
   {
    "duration": -975,
    "start_time": "2022-03-12T19:16:45.028Z"
   },
   {
    "duration": -975,
    "start_time": "2022-03-12T19:16:45.031Z"
   },
   {
    "duration": -975,
    "start_time": "2022-03-12T19:16:45.034Z"
   },
   {
    "duration": -978,
    "start_time": "2022-03-12T19:16:45.038Z"
   },
   {
    "duration": -979,
    "start_time": "2022-03-12T19:16:45.041Z"
   },
   {
    "duration": -1002,
    "start_time": "2022-03-12T19:16:45.066Z"
   },
   {
    "duration": -1005,
    "start_time": "2022-03-12T19:16:45.071Z"
   },
   {
    "duration": -1008,
    "start_time": "2022-03-12T19:16:45.076Z"
   },
   {
    "duration": -1010,
    "start_time": "2022-03-12T19:16:45.079Z"
   },
   {
    "duration": 980,
    "start_time": "2022-03-12T19:17:10.610Z"
   },
   {
    "duration": 14,
    "start_time": "2022-03-12T19:18:01.762Z"
   },
   {
    "duration": 6070,
    "start_time": "2022-03-12T19:18:18.345Z"
   },
   {
    "duration": 5702,
    "start_time": "2022-03-12T19:18:31.019Z"
   },
   {
    "duration": 1011,
    "start_time": "2022-03-12T19:20:22.416Z"
   },
   {
    "duration": 49,
    "start_time": "2022-03-12T19:20:30.118Z"
   },
   {
    "duration": 28,
    "start_time": "2022-03-12T19:20:56.226Z"
   },
   {
    "duration": 28,
    "start_time": "2022-03-12T19:21:16.473Z"
   },
   {
    "duration": 23,
    "start_time": "2022-03-12T19:21:20.522Z"
   },
   {
    "duration": 99,
    "start_time": "2022-03-12T19:21:22.888Z"
   },
   {
    "duration": 500,
    "start_time": "2022-03-12T19:21:27.713Z"
   },
   {
    "duration": 1591,
    "start_time": "2022-03-12T19:21:31.340Z"
   },
   {
    "duration": 29,
    "start_time": "2022-03-12T19:21:37.235Z"
   },
   {
    "duration": 4,
    "start_time": "2022-03-12T19:21:41.712Z"
   },
   {
    "duration": 8,
    "start_time": "2022-03-12T19:21:41.719Z"
   },
   {
    "duration": 3385,
    "start_time": "2022-03-12T19:21:41.730Z"
   },
   {
    "duration": 76,
    "start_time": "2022-03-12T19:21:45.118Z"
   },
   {
    "duration": 3,
    "start_time": "2022-03-12T19:21:45.197Z"
   },
   {
    "duration": 24,
    "start_time": "2022-03-12T19:21:45.202Z"
   },
   {
    "duration": 30,
    "start_time": "2022-03-12T19:21:45.228Z"
   },
   {
    "duration": 64,
    "start_time": "2022-03-12T19:21:45.260Z"
   },
   {
    "duration": 9,
    "start_time": "2022-03-12T19:21:45.328Z"
   },
   {
    "duration": 47,
    "start_time": "2022-03-12T19:21:45.340Z"
   },
   {
    "duration": 44,
    "start_time": "2022-03-12T19:21:45.389Z"
   },
   {
    "duration": 23,
    "start_time": "2022-03-12T19:21:45.436Z"
   },
   {
    "duration": 68,
    "start_time": "2022-03-12T19:21:45.486Z"
   },
   {
    "duration": 33,
    "start_time": "2022-03-12T19:21:45.557Z"
   },
   {
    "duration": 367,
    "start_time": "2022-03-12T19:21:45.592Z"
   },
   {
    "duration": 32,
    "start_time": "2022-03-12T19:21:45.962Z"
   },
   {
    "duration": 187,
    "start_time": "2022-03-12T19:21:45.997Z"
   },
   {
    "duration": 10,
    "start_time": "2022-03-12T19:21:46.186Z"
   },
   {
    "duration": 67,
    "start_time": "2022-03-12T19:21:46.198Z"
   },
   {
    "duration": 500,
    "start_time": "2022-03-12T19:21:46.267Z"
   },
   {
    "duration": 1635,
    "start_time": "2022-03-12T19:21:46.770Z"
   },
   {
    "duration": 26,
    "start_time": "2022-03-12T19:21:48.407Z"
   },
   {
    "duration": 376,
    "start_time": "2022-03-12T19:21:48.435Z"
   },
   {
    "duration": 46,
    "start_time": "2022-03-12T19:21:48.814Z"
   },
   {
    "duration": 48,
    "start_time": "2022-03-12T19:21:48.862Z"
   },
   {
    "duration": 353,
    "start_time": "2022-03-12T19:21:48.915Z"
   },
   {
    "duration": 1254,
    "start_time": "2022-03-12T19:21:49.270Z"
   },
   {
    "duration": 33,
    "start_time": "2022-03-12T19:21:50.527Z"
   },
   {
    "duration": 63,
    "start_time": "2022-03-12T19:21:50.563Z"
   },
   {
    "duration": 20,
    "start_time": "2022-03-12T19:21:50.629Z"
   },
   {
    "duration": 45,
    "start_time": "2022-03-12T19:21:50.651Z"
   },
   {
    "duration": 1213,
    "start_time": "2022-03-12T19:21:50.699Z"
   },
   {
    "duration": 77,
    "start_time": "2022-03-12T19:21:51.915Z"
   },
   {
    "duration": 1038,
    "start_time": "2022-03-12T19:21:51.994Z"
   },
   {
    "duration": 592,
    "start_time": "2022-03-12T19:21:53.034Z"
   },
   {
    "duration": 507,
    "start_time": "2022-03-12T19:21:53.629Z"
   },
   {
    "duration": 1843,
    "start_time": "2022-03-12T19:22:16.719Z"
   },
   {
    "duration": 187,
    "start_time": "2022-03-12T19:22:18.564Z"
   },
   {
    "duration": 4144,
    "start_time": "2022-03-12T19:22:18.755Z"
   },
   {
    "duration": 85,
    "start_time": "2022-03-12T19:22:22.902Z"
   },
   {
    "duration": 4,
    "start_time": "2022-03-12T19:22:22.989Z"
   },
   {
    "duration": 16,
    "start_time": "2022-03-12T19:22:22.995Z"
   },
   {
    "duration": 27,
    "start_time": "2022-03-12T19:22:23.013Z"
   },
   {
    "duration": 78,
    "start_time": "2022-03-12T19:22:23.043Z"
   },
   {
    "duration": 10,
    "start_time": "2022-03-12T19:22:23.127Z"
   },
   {
    "duration": 53,
    "start_time": "2022-03-12T19:22:23.141Z"
   },
   {
    "duration": 44,
    "start_time": "2022-03-12T19:22:23.197Z"
   },
   {
    "duration": 44,
    "start_time": "2022-03-12T19:22:23.243Z"
   },
   {
    "duration": 72,
    "start_time": "2022-03-12T19:22:23.289Z"
   },
   {
    "duration": 34,
    "start_time": "2022-03-12T19:22:23.363Z"
   },
   {
    "duration": 888,
    "start_time": "2022-03-12T19:22:23.399Z"
   },
   {
    "duration": 17,
    "start_time": "2022-03-12T19:22:24.290Z"
   },
   {
    "duration": 356,
    "start_time": "2022-03-12T19:22:24.309Z"
   },
   {
    "duration": 506,
    "start_time": "2022-03-12T19:22:24.668Z"
   },
   {
    "duration": -3253,
    "start_time": "2022-03-12T19:22:28.430Z"
   },
   {
    "duration": -3256,
    "start_time": "2022-03-12T19:22:28.434Z"
   },
   {
    "duration": -3259,
    "start_time": "2022-03-12T19:22:28.439Z"
   },
   {
    "duration": -3262,
    "start_time": "2022-03-12T19:22:28.443Z"
   },
   {
    "duration": -3265,
    "start_time": "2022-03-12T19:22:28.447Z"
   },
   {
    "duration": -3267,
    "start_time": "2022-03-12T19:22:28.451Z"
   },
   {
    "duration": -3269,
    "start_time": "2022-03-12T19:22:28.455Z"
   },
   {
    "duration": -3273,
    "start_time": "2022-03-12T19:22:28.460Z"
   },
   {
    "duration": -3275,
    "start_time": "2022-03-12T19:22:28.464Z"
   },
   {
    "duration": -3277,
    "start_time": "2022-03-12T19:22:28.468Z"
   },
   {
    "duration": -3279,
    "start_time": "2022-03-12T19:22:28.471Z"
   },
   {
    "duration": -3300,
    "start_time": "2022-03-12T19:22:28.493Z"
   },
   {
    "duration": -3303,
    "start_time": "2022-03-12T19:22:28.497Z"
   },
   {
    "duration": -3305,
    "start_time": "2022-03-12T19:22:28.501Z"
   },
   {
    "duration": -3308,
    "start_time": "2022-03-12T19:22:28.505Z"
   },
   {
    "duration": -3318,
    "start_time": "2022-03-12T19:22:28.516Z"
   },
   {
    "duration": -3353,
    "start_time": "2022-03-12T19:22:28.553Z"
   },
   {
    "duration": -3362,
    "start_time": "2022-03-12T19:22:28.563Z"
   },
   {
    "duration": 105,
    "start_time": "2022-03-12T19:23:16.326Z"
   },
   {
    "duration": 606,
    "start_time": "2022-03-12T19:23:20.962Z"
   },
   {
    "duration": 1763,
    "start_time": "2022-03-12T19:23:24.465Z"
   },
   {
    "duration": 28,
    "start_time": "2022-03-12T19:23:30.482Z"
   },
   {
    "duration": 339,
    "start_time": "2022-03-12T19:23:33.362Z"
   },
   {
    "duration": 48,
    "start_time": "2022-03-12T19:23:36.727Z"
   },
   {
    "duration": 6,
    "start_time": "2022-03-12T19:23:41.264Z"
   },
   {
    "duration": 7,
    "start_time": "2022-03-12T19:23:41.272Z"
   },
   {
    "duration": 3410,
    "start_time": "2022-03-12T19:23:41.282Z"
   },
   {
    "duration": 72,
    "start_time": "2022-03-12T19:23:44.695Z"
   },
   {
    "duration": 4,
    "start_time": "2022-03-12T19:23:44.769Z"
   },
   {
    "duration": 19,
    "start_time": "2022-03-12T19:23:44.776Z"
   },
   {
    "duration": 24,
    "start_time": "2022-03-12T19:23:44.797Z"
   },
   {
    "duration": 78,
    "start_time": "2022-03-12T19:23:44.825Z"
   },
   {
    "duration": 9,
    "start_time": "2022-03-12T19:23:44.905Z"
   },
   {
    "duration": 23,
    "start_time": "2022-03-12T19:23:44.917Z"
   },
   {
    "duration": 73,
    "start_time": "2022-03-12T19:23:44.943Z"
   },
   {
    "duration": 30,
    "start_time": "2022-03-12T19:23:45.019Z"
   },
   {
    "duration": 96,
    "start_time": "2022-03-12T19:23:45.052Z"
   },
   {
    "duration": 17,
    "start_time": "2022-03-12T19:23:45.150Z"
   },
   {
    "duration": 376,
    "start_time": "2022-03-12T19:23:45.169Z"
   },
   {
    "duration": 16,
    "start_time": "2022-03-12T19:23:45.547Z"
   },
   {
    "duration": 191,
    "start_time": "2022-03-12T19:23:45.566Z"
   },
   {
    "duration": 63,
    "start_time": "2022-03-12T19:23:45.760Z"
   },
   {
    "duration": 504,
    "start_time": "2022-03-12T19:23:45.826Z"
   },
   {
    "duration": 1632,
    "start_time": "2022-03-12T19:23:46.333Z"
   },
   {
    "duration": 37,
    "start_time": "2022-03-12T19:23:47.968Z"
   },
   {
    "duration": 356,
    "start_time": "2022-03-12T19:23:48.009Z"
   },
   {
    "duration": 54,
    "start_time": "2022-03-12T19:23:48.368Z"
   },
   {
    "duration": 27,
    "start_time": "2022-03-12T19:23:48.425Z"
   },
   {
    "duration": 406,
    "start_time": "2022-03-12T19:23:48.455Z"
   },
   {
    "duration": 975,
    "start_time": "2022-03-12T19:23:48.864Z"
   },
   {
    "duration": 34,
    "start_time": "2022-03-12T19:23:49.841Z"
   },
   {
    "duration": 53,
    "start_time": "2022-03-12T19:23:49.878Z"
   },
   {
    "duration": 20,
    "start_time": "2022-03-12T19:23:49.934Z"
   },
   {
    "duration": 46,
    "start_time": "2022-03-12T19:23:49.957Z"
   },
   {
    "duration": 1208,
    "start_time": "2022-03-12T19:23:50.006Z"
   },
   {
    "duration": 92,
    "start_time": "2022-03-12T19:23:51.217Z"
   },
   {
    "duration": 904,
    "start_time": "2022-03-12T19:23:51.312Z"
   },
   {
    "duration": 594,
    "start_time": "2022-03-12T19:23:52.219Z"
   },
   {
    "duration": 514,
    "start_time": "2022-03-12T19:23:52.815Z"
   },
   {
    "duration": 1837,
    "start_time": "2022-03-12T19:27:11.319Z"
   },
   {
    "duration": 126,
    "start_time": "2022-03-12T19:27:13.159Z"
   },
   {
    "duration": 4214,
    "start_time": "2022-03-12T19:27:13.289Z"
   },
   {
    "duration": 89,
    "start_time": "2022-03-12T19:27:17.507Z"
   },
   {
    "duration": 4,
    "start_time": "2022-03-12T19:27:17.598Z"
   },
   {
    "duration": 15,
    "start_time": "2022-03-12T19:27:17.604Z"
   },
   {
    "duration": 25,
    "start_time": "2022-03-12T19:27:17.622Z"
   },
   {
    "duration": 72,
    "start_time": "2022-03-12T19:27:17.649Z"
   },
   {
    "duration": 9,
    "start_time": "2022-03-12T19:27:17.725Z"
   },
   {
    "duration": 49,
    "start_time": "2022-03-12T19:27:17.740Z"
   },
   {
    "duration": 40,
    "start_time": "2022-03-12T19:27:17.791Z"
   },
   {
    "duration": 53,
    "start_time": "2022-03-12T19:27:17.835Z"
   },
   {
    "duration": 70,
    "start_time": "2022-03-12T19:27:17.891Z"
   },
   {
    "duration": 28,
    "start_time": "2022-03-12T19:27:17.963Z"
   },
   {
    "duration": 1098,
    "start_time": "2022-03-12T19:27:17.994Z"
   },
   {
    "duration": 20,
    "start_time": "2022-03-12T19:27:19.094Z"
   },
   {
    "duration": 375,
    "start_time": "2022-03-12T19:27:19.117Z"
   },
   {
    "duration": 108,
    "start_time": "2022-03-12T19:27:19.494Z"
   },
   {
    "duration": 521,
    "start_time": "2022-03-12T19:27:19.604Z"
   },
   {
    "duration": 1585,
    "start_time": "2022-03-12T19:27:20.128Z"
   },
   {
    "duration": 25,
    "start_time": "2022-03-12T19:27:21.716Z"
   },
   {
    "duration": 369,
    "start_time": "2022-03-12T19:27:21.743Z"
   },
   {
    "duration": 50,
    "start_time": "2022-03-12T19:27:22.116Z"
   },
   {
    "duration": 26,
    "start_time": "2022-03-12T19:27:22.187Z"
   },
   {
    "duration": 366,
    "start_time": "2022-03-12T19:27:22.216Z"
   },
   {
    "duration": 1267,
    "start_time": "2022-03-12T19:27:22.587Z"
   },
   {
    "duration": 34,
    "start_time": "2022-03-12T19:27:23.859Z"
   },
   {
    "duration": 48,
    "start_time": "2022-03-12T19:27:23.896Z"
   },
   {
    "duration": 43,
    "start_time": "2022-03-12T19:27:23.948Z"
   },
   {
    "duration": 26,
    "start_time": "2022-03-12T19:27:23.994Z"
   },
   {
    "duration": 895,
    "start_time": "2022-03-12T19:27:24.023Z"
   },
   {
    "duration": 75,
    "start_time": "2022-03-12T19:27:24.920Z"
   },
   {
    "duration": 919,
    "start_time": "2022-03-12T19:27:24.998Z"
   },
   {
    "duration": 761,
    "start_time": "2022-03-12T19:27:25.919Z"
   },
   {
    "duration": 507,
    "start_time": "2022-03-12T19:27:26.682Z"
   },
   {
    "duration": 17798,
    "start_time": "2022-03-13T04:59:37.703Z"
   },
   {
    "duration": 223,
    "start_time": "2022-03-13T04:59:55.503Z"
   },
   {
    "duration": 143399,
    "start_time": "2022-03-13T04:59:55.729Z"
   },
   {
    "duration": 89,
    "start_time": "2022-03-13T05:02:19.132Z"
   },
   {
    "duration": 5,
    "start_time": "2022-03-13T05:02:19.224Z"
   },
   {
    "duration": 14,
    "start_time": "2022-03-13T05:02:19.232Z"
   },
   {
    "duration": 62,
    "start_time": "2022-03-13T05:02:19.249Z"
   },
   {
    "duration": 45,
    "start_time": "2022-03-13T05:02:19.314Z"
   },
   {
    "duration": 9,
    "start_time": "2022-03-13T05:02:19.388Z"
   },
   {
    "duration": 31,
    "start_time": "2022-03-13T05:02:19.402Z"
   },
   {
    "duration": 71,
    "start_time": "2022-03-13T05:02:19.436Z"
   },
   {
    "duration": 24,
    "start_time": "2022-03-13T05:02:19.509Z"
   },
   {
    "duration": 98,
    "start_time": "2022-03-13T05:02:19.536Z"
   },
   {
    "duration": 18,
    "start_time": "2022-03-13T05:02:19.637Z"
   },
   {
    "duration": 911,
    "start_time": "2022-03-13T05:02:19.658Z"
   },
   {
    "duration": 21,
    "start_time": "2022-03-13T05:02:20.587Z"
   },
   {
    "duration": 387,
    "start_time": "2022-03-13T05:02:20.611Z"
   },
   {
    "duration": 108,
    "start_time": "2022-03-13T05:02:21.000Z"
   },
   {
    "duration": 518,
    "start_time": "2022-03-13T05:02:21.111Z"
   },
   {
    "duration": 1560,
    "start_time": "2022-03-13T05:02:21.632Z"
   },
   {
    "duration": 26,
    "start_time": "2022-03-13T05:02:23.195Z"
   },
   {
    "duration": 350,
    "start_time": "2022-03-13T05:02:23.223Z"
   },
   {
    "duration": 55,
    "start_time": "2022-03-13T05:02:23.575Z"
   },
   {
    "duration": 27,
    "start_time": "2022-03-13T05:02:23.632Z"
   },
   {
    "duration": 359,
    "start_time": "2022-03-13T05:02:23.661Z"
   },
   {
    "duration": 1354,
    "start_time": "2022-03-13T05:02:24.023Z"
   },
   {
    "duration": 44,
    "start_time": "2022-03-13T05:02:25.382Z"
   },
   {
    "duration": 60,
    "start_time": "2022-03-13T05:02:25.428Z"
   },
   {
    "duration": 18,
    "start_time": "2022-03-13T05:02:25.491Z"
   },
   {
    "duration": 24,
    "start_time": "2022-03-13T05:02:25.512Z"
   },
   {
    "duration": 926,
    "start_time": "2022-03-13T05:02:25.538Z"
   },
   {
    "duration": 53,
    "start_time": "2022-03-13T05:02:26.467Z"
   },
   {
    "duration": 981,
    "start_time": "2022-03-13T05:02:26.522Z"
   },
   {
    "duration": 751,
    "start_time": "2022-03-13T05:02:27.506Z"
   },
   {
    "duration": 630,
    "start_time": "2022-03-13T05:02:28.261Z"
   }
  ],
  "kernelspec": {
   "display_name": "Python 3",
   "language": "python",
   "name": "python3"
  },
  "language_info": {
   "codemirror_mode": {
    "name": "ipython",
    "version": 3
   },
   "file_extension": ".py",
   "mimetype": "text/x-python",
   "name": "python",
   "nbconvert_exporter": "python",
   "pygments_lexer": "ipython3",
   "version": "3.8.8"
  },
  "toc": {
   "base_numbering": 1,
   "nav_menu": {},
   "number_sections": true,
   "sideBar": true,
   "skip_h1_title": true,
   "title_cell": "Table of Contents",
   "title_sidebar": "Contents",
   "toc_cell": false,
   "toc_position": {
    "height": "calc(100% - 180px)",
    "left": "10px",
    "top": "150px",
    "width": "165px"
   },
   "toc_section_display": true,
   "toc_window_display": true
  }
 },
 "nbformat": 4,
 "nbformat_minor": 4
}
