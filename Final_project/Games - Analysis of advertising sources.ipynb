{
 "cells": [
  {
   "cell_type": "markdown",
   "metadata": {},
   "source": [
    "# Games - Analysis of advertising sources"
   ]
  },
  {
   "cell_type": "markdown",
   "metadata": {},
   "source": [
    "# Materials\n",
    "* [Prezentation](https://drive.google.com/file/d/1_bskwJpbjnoEFxYbnqe9MtvLwI8bs-oq/view?usp=sharing)\n",
    "* [Dashboard](https://public.tableau.com/views/Games_user_sources/Dashboard?:language=en-GB&publish=yes&:display_count=n&:origin=viz_share_link)"
   ]
  },
  {
   "cell_type": "markdown",
   "metadata": {},
   "source": [
    "## Project goal"
   ]
  },
  {
   "cell_type": "markdown",
   "metadata": {},
   "source": [
    "The team of the mobile game \"Space Brothers\" has achieved the popularity of the game and plans to develop and implement a monetization system in it, this requires a preliminary analysis.\n",
    "\n",
    "The product manager set the task to analyze the behavior of the players depending on the source of the transition.\n",
    "\n",
    "- Conduct exploratory data analysis;\n",
    "- Analyze the influence of the source of transition to the game on the user's behavior;\n",
    "- Test statistical hypotheses.\n"
   ]
  },
  {
   "cell_type": "markdown",
   "metadata": {},
   "source": [
    "## Loading data and studying general information"
   ]
  },
  {
   "cell_type": "code",
   "execution_count": 33,
   "metadata": {},
   "outputs": [],
   "source": [
    "# import all package \n",
    "import pandas as pd\n",
    "import numpy as np\n",
    "import plotly.express as px\n",
    "import plotly.graph_objects as go\n",
    "from scipy import stats as st\n",
    "\n",
    "import plotly.io as pio\n",
    "pio.renderers\n",
    "\n",
    "\n",
    "import warnings\n",
    "warnings.filterwarnings('ignore')"
   ]
  },
  {
   "cell_type": "code",
   "execution_count": 34,
   "metadata": {},
   "outputs": [],
   "source": [
    "# loading data\n",
    "\n",
    "try: # local path\n",
    "    game_actions = pd.read_csv('game_actions.csv')\n",
    "    ad_costs = pd.read_csv('ad_costs.csv')\n",
    "    user_source = pd.read_csv('user_source.csv')\n",
    "except:  # server path\n",
    "    game_actions = pd.read_csv('/datasets/game_actions.csv')\n",
    "    ad_costs = pd.read_csv('/datasets/ad_costs.csv')\n",
    "    user_source = pd.read_csv('/datasets/user_source.csv')\n",
    "    \n",
    "# function for study data\n",
    "def study_data_info(data):\n",
    "    display(data.head())\n",
    "    display(data.describe())\n",
    "    display(data.info())\n",
    "    display('Missing values:', data.isna().sum()) \n",
    "    display('Duplicates:', data.duplicated().sum())\n",
    "    "
   ]
  },
  {
   "cell_type": "code",
   "execution_count": 35,
   "metadata": {
    "scrolled": true
   },
   "outputs": [
    {
     "data": {
      "text/html": [
       "<div>\n",
       "<style scoped>\n",
       "    .dataframe tbody tr th:only-of-type {\n",
       "        vertical-align: middle;\n",
       "    }\n",
       "\n",
       "    .dataframe tbody tr th {\n",
       "        vertical-align: top;\n",
       "    }\n",
       "\n",
       "    .dataframe thead th {\n",
       "        text-align: right;\n",
       "    }\n",
       "</style>\n",
       "<table border=\"1\" class=\"dataframe\">\n",
       "  <thead>\n",
       "    <tr style=\"text-align: right;\">\n",
       "      <th></th>\n",
       "      <th>event_datetime</th>\n",
       "      <th>event</th>\n",
       "      <th>building_type</th>\n",
       "      <th>user_id</th>\n",
       "      <th>project_type</th>\n",
       "    </tr>\n",
       "  </thead>\n",
       "  <tbody>\n",
       "    <tr>\n",
       "      <th>0</th>\n",
       "      <td>2020-05-04 00:00:01</td>\n",
       "      <td>building</td>\n",
       "      <td>assembly_shop</td>\n",
       "      <td>55e92310-cb8e-4754-b622-597e124b03de</td>\n",
       "      <td>NaN</td>\n",
       "    </tr>\n",
       "    <tr>\n",
       "      <th>1</th>\n",
       "      <td>2020-05-04 00:00:03</td>\n",
       "      <td>building</td>\n",
       "      <td>assembly_shop</td>\n",
       "      <td>c07b1c10-f477-44dc-81dc-ec82254b1347</td>\n",
       "      <td>NaN</td>\n",
       "    </tr>\n",
       "    <tr>\n",
       "      <th>2</th>\n",
       "      <td>2020-05-04 00:00:16</td>\n",
       "      <td>building</td>\n",
       "      <td>assembly_shop</td>\n",
       "      <td>6edd42cc-e753-4ff6-a947-2107cd560710</td>\n",
       "      <td>NaN</td>\n",
       "    </tr>\n",
       "    <tr>\n",
       "      <th>3</th>\n",
       "      <td>2020-05-04 00:00:16</td>\n",
       "      <td>building</td>\n",
       "      <td>assembly_shop</td>\n",
       "      <td>92c69003-d60a-444a-827f-8cc51bf6bf4c</td>\n",
       "      <td>NaN</td>\n",
       "    </tr>\n",
       "    <tr>\n",
       "      <th>4</th>\n",
       "      <td>2020-05-04 00:00:35</td>\n",
       "      <td>building</td>\n",
       "      <td>assembly_shop</td>\n",
       "      <td>cdc6bb92-0ccb-4490-9866-ef142f09139d</td>\n",
       "      <td>NaN</td>\n",
       "    </tr>\n",
       "  </tbody>\n",
       "</table>\n",
       "</div>"
      ],
      "text/plain": [
       "        event_datetime     event  building_type  \\\n",
       "0  2020-05-04 00:00:01  building  assembly_shop   \n",
       "1  2020-05-04 00:00:03  building  assembly_shop   \n",
       "2  2020-05-04 00:00:16  building  assembly_shop   \n",
       "3  2020-05-04 00:00:16  building  assembly_shop   \n",
       "4  2020-05-04 00:00:35  building  assembly_shop   \n",
       "\n",
       "                                user_id project_type  \n",
       "0  55e92310-cb8e-4754-b622-597e124b03de          NaN  \n",
       "1  c07b1c10-f477-44dc-81dc-ec82254b1347          NaN  \n",
       "2  6edd42cc-e753-4ff6-a947-2107cd560710          NaN  \n",
       "3  92c69003-d60a-444a-827f-8cc51bf6bf4c          NaN  \n",
       "4  cdc6bb92-0ccb-4490-9866-ef142f09139d          NaN  "
      ]
     },
     "metadata": {},
     "output_type": "display_data"
    },
    {
     "data": {
      "text/html": [
       "<div>\n",
       "<style scoped>\n",
       "    .dataframe tbody tr th:only-of-type {\n",
       "        vertical-align: middle;\n",
       "    }\n",
       "\n",
       "    .dataframe tbody tr th {\n",
       "        vertical-align: top;\n",
       "    }\n",
       "\n",
       "    .dataframe thead th {\n",
       "        text-align: right;\n",
       "    }\n",
       "</style>\n",
       "<table border=\"1\" class=\"dataframe\">\n",
       "  <thead>\n",
       "    <tr style=\"text-align: right;\">\n",
       "      <th></th>\n",
       "      <th>event_datetime</th>\n",
       "      <th>event</th>\n",
       "      <th>building_type</th>\n",
       "      <th>user_id</th>\n",
       "      <th>project_type</th>\n",
       "    </tr>\n",
       "  </thead>\n",
       "  <tbody>\n",
       "    <tr>\n",
       "      <th>count</th>\n",
       "      <td>135640</td>\n",
       "      <td>135640</td>\n",
       "      <td>127957</td>\n",
       "      <td>135640</td>\n",
       "      <td>1866</td>\n",
       "    </tr>\n",
       "    <tr>\n",
       "      <th>unique</th>\n",
       "      <td>128790</td>\n",
       "      <td>3</td>\n",
       "      <td>3</td>\n",
       "      <td>13576</td>\n",
       "      <td>1</td>\n",
       "    </tr>\n",
       "    <tr>\n",
       "      <th>top</th>\n",
       "      <td>2020-05-09 12:35:56</td>\n",
       "      <td>building</td>\n",
       "      <td>spaceport</td>\n",
       "      <td>bf542075-e3a2-4e79-82d8-3838e86d2a25</td>\n",
       "      <td>satellite_orbital_assembly</td>\n",
       "    </tr>\n",
       "    <tr>\n",
       "      <th>freq</th>\n",
       "      <td>4</td>\n",
       "      <td>127957</td>\n",
       "      <td>59325</td>\n",
       "      <td>22</td>\n",
       "      <td>1866</td>\n",
       "    </tr>\n",
       "  </tbody>\n",
       "</table>\n",
       "</div>"
      ],
      "text/plain": [
       "             event_datetime     event building_type  \\\n",
       "count                135640    135640        127957   \n",
       "unique               128790         3             3   \n",
       "top     2020-05-09 12:35:56  building     spaceport   \n",
       "freq                      4    127957         59325   \n",
       "\n",
       "                                     user_id                project_type  \n",
       "count                                 135640                        1866  \n",
       "unique                                 13576                           1  \n",
       "top     bf542075-e3a2-4e79-82d8-3838e86d2a25  satellite_orbital_assembly  \n",
       "freq                                      22                        1866  "
      ]
     },
     "metadata": {},
     "output_type": "display_data"
    },
    {
     "name": "stdout",
     "output_type": "stream",
     "text": [
      "<class 'pandas.core.frame.DataFrame'>\n",
      "RangeIndex: 135640 entries, 0 to 135639\n",
      "Data columns (total 5 columns):\n",
      " #   Column          Non-Null Count   Dtype \n",
      "---  ------          --------------   ----- \n",
      " 0   event_datetime  135640 non-null  object\n",
      " 1   event           135640 non-null  object\n",
      " 2   building_type   127957 non-null  object\n",
      " 3   user_id         135640 non-null  object\n",
      " 4   project_type    1866 non-null    object\n",
      "dtypes: object(5)\n",
      "memory usage: 5.2+ MB\n"
     ]
    },
    {
     "data": {
      "text/plain": [
       "None"
      ]
     },
     "metadata": {},
     "output_type": "display_data"
    },
    {
     "data": {
      "text/plain": [
       "'Missing values:'"
      ]
     },
     "metadata": {},
     "output_type": "display_data"
    },
    {
     "data": {
      "text/plain": [
       "event_datetime         0\n",
       "event                  0\n",
       "building_type       7683\n",
       "user_id                0\n",
       "project_type      133774\n",
       "dtype: int64"
      ]
     },
     "metadata": {},
     "output_type": "display_data"
    },
    {
     "data": {
      "text/plain": [
       "'Duplicates:'"
      ]
     },
     "metadata": {},
     "output_type": "display_data"
    },
    {
     "data": {
      "text/plain": [
       "1"
      ]
     },
     "metadata": {},
     "output_type": "display_data"
    },
    {
     "data": {
      "text/html": [
       "<div>\n",
       "<style scoped>\n",
       "    .dataframe tbody tr th:only-of-type {\n",
       "        vertical-align: middle;\n",
       "    }\n",
       "\n",
       "    .dataframe tbody tr th {\n",
       "        vertical-align: top;\n",
       "    }\n",
       "\n",
       "    .dataframe thead th {\n",
       "        text-align: right;\n",
       "    }\n",
       "</style>\n",
       "<table border=\"1\" class=\"dataframe\">\n",
       "  <thead>\n",
       "    <tr style=\"text-align: right;\">\n",
       "      <th></th>\n",
       "      <th>source</th>\n",
       "      <th>day</th>\n",
       "      <th>cost</th>\n",
       "    </tr>\n",
       "  </thead>\n",
       "  <tbody>\n",
       "    <tr>\n",
       "      <th>0</th>\n",
       "      <td>facebook_ads</td>\n",
       "      <td>2020-05-03</td>\n",
       "      <td>935.882786</td>\n",
       "    </tr>\n",
       "    <tr>\n",
       "      <th>1</th>\n",
       "      <td>facebook_ads</td>\n",
       "      <td>2020-05-04</td>\n",
       "      <td>548.354480</td>\n",
       "    </tr>\n",
       "    <tr>\n",
       "      <th>2</th>\n",
       "      <td>facebook_ads</td>\n",
       "      <td>2020-05-05</td>\n",
       "      <td>260.185754</td>\n",
       "    </tr>\n",
       "    <tr>\n",
       "      <th>3</th>\n",
       "      <td>facebook_ads</td>\n",
       "      <td>2020-05-06</td>\n",
       "      <td>177.982200</td>\n",
       "    </tr>\n",
       "    <tr>\n",
       "      <th>4</th>\n",
       "      <td>facebook_ads</td>\n",
       "      <td>2020-05-07</td>\n",
       "      <td>111.766796</td>\n",
       "    </tr>\n",
       "  </tbody>\n",
       "</table>\n",
       "</div>"
      ],
      "text/plain": [
       "         source         day        cost\n",
       "0  facebook_ads  2020-05-03  935.882786\n",
       "1  facebook_ads  2020-05-04  548.354480\n",
       "2  facebook_ads  2020-05-05  260.185754\n",
       "3  facebook_ads  2020-05-06  177.982200\n",
       "4  facebook_ads  2020-05-07  111.766796"
      ]
     },
     "metadata": {},
     "output_type": "display_data"
    },
    {
     "data": {
      "text/html": [
       "<div>\n",
       "<style scoped>\n",
       "    .dataframe tbody tr th:only-of-type {\n",
       "        vertical-align: middle;\n",
       "    }\n",
       "\n",
       "    .dataframe tbody tr th {\n",
       "        vertical-align: top;\n",
       "    }\n",
       "\n",
       "    .dataframe thead th {\n",
       "        text-align: right;\n",
       "    }\n",
       "</style>\n",
       "<table border=\"1\" class=\"dataframe\">\n",
       "  <thead>\n",
       "    <tr style=\"text-align: right;\">\n",
       "      <th></th>\n",
       "      <th>cost</th>\n",
       "    </tr>\n",
       "  </thead>\n",
       "  <tbody>\n",
       "    <tr>\n",
       "      <th>count</th>\n",
       "      <td>28.000000</td>\n",
       "    </tr>\n",
       "    <tr>\n",
       "      <th>mean</th>\n",
       "      <td>271.556321</td>\n",
       "    </tr>\n",
       "    <tr>\n",
       "      <th>std</th>\n",
       "      <td>286.867650</td>\n",
       "    </tr>\n",
       "    <tr>\n",
       "      <th>min</th>\n",
       "      <td>23.314669</td>\n",
       "    </tr>\n",
       "    <tr>\n",
       "      <th>25%</th>\n",
       "      <td>66.747365</td>\n",
       "    </tr>\n",
       "    <tr>\n",
       "      <th>50%</th>\n",
       "      <td>160.056443</td>\n",
       "    </tr>\n",
       "    <tr>\n",
       "      <th>75%</th>\n",
       "      <td>349.034473</td>\n",
       "    </tr>\n",
       "    <tr>\n",
       "      <th>max</th>\n",
       "      <td>969.139394</td>\n",
       "    </tr>\n",
       "  </tbody>\n",
       "</table>\n",
       "</div>"
      ],
      "text/plain": [
       "             cost\n",
       "count   28.000000\n",
       "mean   271.556321\n",
       "std    286.867650\n",
       "min     23.314669\n",
       "25%     66.747365\n",
       "50%    160.056443\n",
       "75%    349.034473\n",
       "max    969.139394"
      ]
     },
     "metadata": {},
     "output_type": "display_data"
    },
    {
     "name": "stdout",
     "output_type": "stream",
     "text": [
      "<class 'pandas.core.frame.DataFrame'>\n",
      "RangeIndex: 28 entries, 0 to 27\n",
      "Data columns (total 3 columns):\n",
      " #   Column  Non-Null Count  Dtype  \n",
      "---  ------  --------------  -----  \n",
      " 0   source  28 non-null     object \n",
      " 1   day     28 non-null     object \n",
      " 2   cost    28 non-null     float64\n",
      "dtypes: float64(1), object(2)\n",
      "memory usage: 800.0+ bytes\n"
     ]
    },
    {
     "data": {
      "text/plain": [
       "None"
      ]
     },
     "metadata": {},
     "output_type": "display_data"
    },
    {
     "data": {
      "text/plain": [
       "'Missing values:'"
      ]
     },
     "metadata": {},
     "output_type": "display_data"
    },
    {
     "data": {
      "text/plain": [
       "source    0\n",
       "day       0\n",
       "cost      0\n",
       "dtype: int64"
      ]
     },
     "metadata": {},
     "output_type": "display_data"
    },
    {
     "data": {
      "text/plain": [
       "'Duplicates:'"
      ]
     },
     "metadata": {},
     "output_type": "display_data"
    },
    {
     "data": {
      "text/plain": [
       "0"
      ]
     },
     "metadata": {},
     "output_type": "display_data"
    },
    {
     "data": {
      "text/html": [
       "<div>\n",
       "<style scoped>\n",
       "    .dataframe tbody tr th:only-of-type {\n",
       "        vertical-align: middle;\n",
       "    }\n",
       "\n",
       "    .dataframe tbody tr th {\n",
       "        vertical-align: top;\n",
       "    }\n",
       "\n",
       "    .dataframe thead th {\n",
       "        text-align: right;\n",
       "    }\n",
       "</style>\n",
       "<table border=\"1\" class=\"dataframe\">\n",
       "  <thead>\n",
       "    <tr style=\"text-align: right;\">\n",
       "      <th></th>\n",
       "      <th>user_id</th>\n",
       "      <th>source</th>\n",
       "    </tr>\n",
       "  </thead>\n",
       "  <tbody>\n",
       "    <tr>\n",
       "      <th>0</th>\n",
       "      <td>0001f83c-c6ac-4621-b7f0-8a28b283ac30</td>\n",
       "      <td>facebook_ads</td>\n",
       "    </tr>\n",
       "    <tr>\n",
       "      <th>1</th>\n",
       "      <td>00151b4f-ba38-44a8-a650-d7cf130a0105</td>\n",
       "      <td>yandex_direct</td>\n",
       "    </tr>\n",
       "    <tr>\n",
       "      <th>2</th>\n",
       "      <td>001aaea6-3d14-43f1-8ca8-7f48820f17aa</td>\n",
       "      <td>youtube_channel_reklama</td>\n",
       "    </tr>\n",
       "    <tr>\n",
       "      <th>3</th>\n",
       "      <td>001d39dc-366c-4021-9604-6a3b9ff01e25</td>\n",
       "      <td>instagram_new_adverts</td>\n",
       "    </tr>\n",
       "    <tr>\n",
       "      <th>4</th>\n",
       "      <td>002f508f-67b6-479f-814b-b05f00d4e995</td>\n",
       "      <td>facebook_ads</td>\n",
       "    </tr>\n",
       "  </tbody>\n",
       "</table>\n",
       "</div>"
      ],
      "text/plain": [
       "                                user_id                   source\n",
       "0  0001f83c-c6ac-4621-b7f0-8a28b283ac30             facebook_ads\n",
       "1  00151b4f-ba38-44a8-a650-d7cf130a0105            yandex_direct\n",
       "2  001aaea6-3d14-43f1-8ca8-7f48820f17aa  youtube_channel_reklama\n",
       "3  001d39dc-366c-4021-9604-6a3b9ff01e25    instagram_new_adverts\n",
       "4  002f508f-67b6-479f-814b-b05f00d4e995             facebook_ads"
      ]
     },
     "metadata": {},
     "output_type": "display_data"
    },
    {
     "data": {
      "text/html": [
       "<div>\n",
       "<style scoped>\n",
       "    .dataframe tbody tr th:only-of-type {\n",
       "        vertical-align: middle;\n",
       "    }\n",
       "\n",
       "    .dataframe tbody tr th {\n",
       "        vertical-align: top;\n",
       "    }\n",
       "\n",
       "    .dataframe thead th {\n",
       "        text-align: right;\n",
       "    }\n",
       "</style>\n",
       "<table border=\"1\" class=\"dataframe\">\n",
       "  <thead>\n",
       "    <tr style=\"text-align: right;\">\n",
       "      <th></th>\n",
       "      <th>user_id</th>\n",
       "      <th>source</th>\n",
       "    </tr>\n",
       "  </thead>\n",
       "  <tbody>\n",
       "    <tr>\n",
       "      <th>count</th>\n",
       "      <td>13576</td>\n",
       "      <td>13576</td>\n",
       "    </tr>\n",
       "    <tr>\n",
       "      <th>unique</th>\n",
       "      <td>13576</td>\n",
       "      <td>4</td>\n",
       "    </tr>\n",
       "    <tr>\n",
       "      <th>top</th>\n",
       "      <td>0001f83c-c6ac-4621-b7f0-8a28b283ac30</td>\n",
       "      <td>yandex_direct</td>\n",
       "    </tr>\n",
       "    <tr>\n",
       "      <th>freq</th>\n",
       "      <td>1</td>\n",
       "      <td>4817</td>\n",
       "    </tr>\n",
       "  </tbody>\n",
       "</table>\n",
       "</div>"
      ],
      "text/plain": [
       "                                     user_id         source\n",
       "count                                  13576          13576\n",
       "unique                                 13576              4\n",
       "top     0001f83c-c6ac-4621-b7f0-8a28b283ac30  yandex_direct\n",
       "freq                                       1           4817"
      ]
     },
     "metadata": {},
     "output_type": "display_data"
    },
    {
     "name": "stdout",
     "output_type": "stream",
     "text": [
      "<class 'pandas.core.frame.DataFrame'>\n",
      "RangeIndex: 13576 entries, 0 to 13575\n",
      "Data columns (total 2 columns):\n",
      " #   Column   Non-Null Count  Dtype \n",
      "---  ------   --------------  ----- \n",
      " 0   user_id  13576 non-null  object\n",
      " 1   source   13576 non-null  object\n",
      "dtypes: object(2)\n",
      "memory usage: 212.2+ KB\n"
     ]
    },
    {
     "data": {
      "text/plain": [
       "None"
      ]
     },
     "metadata": {},
     "output_type": "display_data"
    },
    {
     "data": {
      "text/plain": [
       "'Missing values:'"
      ]
     },
     "metadata": {},
     "output_type": "display_data"
    },
    {
     "data": {
      "text/plain": [
       "user_id    0\n",
       "source     0\n",
       "dtype: int64"
      ]
     },
     "metadata": {},
     "output_type": "display_data"
    },
    {
     "data": {
      "text/plain": [
       "'Duplicates:'"
      ]
     },
     "metadata": {},
     "output_type": "display_data"
    },
    {
     "data": {
      "text/plain": [
       "0"
      ]
     },
     "metadata": {},
     "output_type": "display_data"
    }
   ],
   "source": [
    "# study data\n",
    "data_sets = [game_actions, ad_costs, user_source]\n",
    "for data in data_sets:\n",
    "    study_data_info(data)"
   ]
  },
  {
   "cell_type": "markdown",
   "metadata": {},
   "source": [
    "**Description of datasets:**\n",
    "\n",
    "The main dataset contains data about events that took place in the Space Brothers mobile game. In it, users build their space program and try to succeed in the difficult task of colonizing the galaxy.\n",
    "\n",
    "The main monetization of the game is just planned. But it is assumed that the application will display ads on the screen with a choice of the type of object for construction.\n",
    "\n",
    "The dataset contains data on the game of users at the first level. Completing the first level requires the player to fulfill one of two conditions:\n",
    "\n",
    "- Defeat the first enemy\n",
    "- Project implementation - development of an orbital assembly of satellites\n",
    "\n",
    "The dataset contains the data of the first users of the application - a cohort of users who started using the application from May 4 to May 10 inclusive.\n",
    "\n",
    "Dataset *game_actions.csv*:\n",
    "\n",
    "- `event_datetime` — event time;\n",
    "- `event` is one of three events:\n",
    "    1. `building` - the object is built,\n",
    "    2. `finished_stage_1` - the first level is completed,\n",
    "    3. `project` - the project is completed;\n",
    "- `building_type` — one of three building types:\n",
    "    1. `assembly_shop` - assembly shop,\n",
    "    2. `spaceport` - spaceport,\n",
    "    3. `research_center` - research center;\n",
    "- `user_id` - user ID;\n",
    "- `project_type` - the type of the implemented project;\n",
    "\n",
    "In addition to the main dataset, there are two datasets with information about advertising activities. They will also help in solving the problem.\n",
    "\n",
    "Dataset *ad_cost.csv*:\n",
    "\n",
    "- `day` - the day on which the ad was clicked\n",
    "- `source` - traffic source\n",
    "- `cost` - cost of clicks\n",
    "\n",
    "The user_source.csv dataset contains the following columns:\n",
    "\n",
    "- `user_id` - user ID\n",
    "- `source` - sources from which the user who installed the application came"
   ]
  },
  {
   "cell_type": "markdown",
   "metadata": {},
   "source": [
    "***Conclusion***"
   ]
  },
  {
   "cell_type": "markdown",
   "metadata": {},
   "source": [
    "The data is presented in 3 tables and contains information about events committed by users in the mobile game \"Space Brothers\" (table `game_actions`), sources of user acquisition (table `user_source`) and costs for each source of attraction (table `ad_cost`).\n",
    "\n",
    "Previewing the data showed that the `game_actions` table contained 1 row - a complete duplicate, as well as missing values ​​in the '*building_type*' and '*project_type*' fields. In addition, fields containing information about dates have the **object** data type, which can interfere with the correct work with the data.\n",
    "At the next stages, we will perform data preprocessing and prepare them for analysis."
   ]
  },
  {
   "cell_type": "markdown",
   "metadata": {},
   "source": [
    "## Preprocessing Data"
   ]
  },
  {
   "cell_type": "markdown",
   "metadata": {},
   "source": [
    "### Changing data types"
   ]
  },
  {
   "cell_type": "markdown",
   "metadata": {},
   "source": [
    "For columns containing date and time information, we will change the data type to work correctly with dates in the future."
   ]
  },
  {
   "cell_type": "code",
   "execution_count": 36,
   "metadata": {},
   "outputs": [
    {
     "name": "stdout",
     "output_type": "stream",
     "text": [
      "<class 'pandas.core.frame.DataFrame'>\n",
      "RangeIndex: 135640 entries, 0 to 135639\n",
      "Data columns (total 5 columns):\n",
      " #   Column          Non-Null Count   Dtype         \n",
      "---  ------          --------------   -----         \n",
      " 0   event_datetime  135640 non-null  datetime64[ns]\n",
      " 1   event           135640 non-null  object        \n",
      " 2   building_type   127957 non-null  object        \n",
      " 3   user_id         135640 non-null  object        \n",
      " 4   project_type    1866 non-null    object        \n",
      "dtypes: datetime64[ns](1), object(4)\n",
      "memory usage: 5.2+ MB\n",
      "<class 'pandas.core.frame.DataFrame'>\n",
      "RangeIndex: 28 entries, 0 to 27\n",
      "Data columns (total 3 columns):\n",
      " #   Column  Non-Null Count  Dtype         \n",
      "---  ------  --------------  -----         \n",
      " 0   source  28 non-null     object        \n",
      " 1   day     28 non-null     datetime64[ns]\n",
      " 2   cost    28 non-null     float64       \n",
      "dtypes: datetime64[ns](1), float64(1), object(1)\n",
      "memory usage: 800.0+ bytes\n"
     ]
    }
   ],
   "source": [
    "# Changing data types \n",
    "game_actions['event_datetime'] = pd.to_datetime(game_actions['event_datetime'])\n",
    "ad_costs['day'] = pd.to_datetime(ad_costs['day'])\n",
    "\n",
    "# check\n",
    "game_actions.info()\n",
    "ad_costs.info()"
   ]
  },
  {
   "cell_type": "markdown",
   "metadata": {},
   "source": [
    "### Working with missing values and duplicates"
   ]
  },
  {
   "cell_type": "markdown",
   "metadata": {},
   "source": [
    "While previewing the data, 1 duplicate was noticed (2 rows are complete duplicates). Let's display this line and calculate the share of duplicates in the total amount of data."
   ]
  },
  {
   "cell_type": "code",
   "execution_count": 37,
   "metadata": {
    "scrolled": true
   },
   "outputs": [
    {
     "data": {
      "text/html": [
       "<div>\n",
       "<style scoped>\n",
       "    .dataframe tbody tr th:only-of-type {\n",
       "        vertical-align: middle;\n",
       "    }\n",
       "\n",
       "    .dataframe tbody tr th {\n",
       "        vertical-align: top;\n",
       "    }\n",
       "\n",
       "    .dataframe thead th {\n",
       "        text-align: right;\n",
       "    }\n",
       "</style>\n",
       "<table border=\"1\" class=\"dataframe\">\n",
       "  <thead>\n",
       "    <tr style=\"text-align: right;\">\n",
       "      <th></th>\n",
       "      <th>event_datetime</th>\n",
       "      <th>event</th>\n",
       "      <th>building_type</th>\n",
       "      <th>user_id</th>\n",
       "      <th>project_type</th>\n",
       "    </tr>\n",
       "  </thead>\n",
       "  <tbody>\n",
       "    <tr>\n",
       "      <th>74891</th>\n",
       "      <td>2020-05-10 18:41:56</td>\n",
       "      <td>building</td>\n",
       "      <td>research_center</td>\n",
       "      <td>c9af55d2-b0ae-4bb4-b3d5-f32aa9ac03af</td>\n",
       "      <td>NaN</td>\n",
       "    </tr>\n",
       "  </tbody>\n",
       "</table>\n",
       "</div>"
      ],
      "text/plain": [
       "           event_datetime     event    building_type  \\\n",
       "74891 2020-05-10 18:41:56  building  research_center   \n",
       "\n",
       "                                    user_id project_type  \n",
       "74891  c9af55d2-b0ae-4bb4-b3d5-f32aa9ac03af          NaN  "
      ]
     },
     "metadata": {},
     "output_type": "display_data"
    },
    {
     "name": "stdout",
     "output_type": "stream",
     "text": [
      "Share of duplicates:  0.000007\n"
     ]
    }
   ],
   "source": [
    "# rows-duplicates\n",
    "game_actions_duplicated = game_actions[game_actions.duplicated()]\n",
    "display(game_actions_duplicated)\n",
    "# share of duplicates\n",
    "print('Share of duplicates: {: .6f}'.format((game_actions_duplicated.shape[0] / game_actions.shape[0])))"
   ]
  },
  {
   "cell_type": "markdown",
   "metadata": {},
   "source": [
    "Since there is only one duplicate line and it is less than 1% of the data, we will delete it, probably the line is duplicated for technical reasons (both the time of the event and the user id are the same)."
   ]
  },
  {
   "cell_type": "code",
   "execution_count": 38,
   "metadata": {},
   "outputs": [
    {
     "name": "stdout",
     "output_type": "stream",
     "text": [
      "Rows removed: 1\n"
     ]
    }
   ],
   "source": [
    "# deleting rows-duplicates\n",
    "actions = game_actions.drop_duplicates()\n",
    "print('Rows removed:', game_actions.shape[0] - actions.shape[0]) # check"
   ]
  },
  {
   "cell_type": "markdown",
   "metadata": {},
   "source": [
    "__________\n",
    "Next, let's see what unique values the fields with types of buildings in the game, types of projects and events contain. Let's display the information along with the missing values."
   ]
  },
  {
   "cell_type": "code",
   "execution_count": 39,
   "metadata": {},
   "outputs": [
    {
     "data": {
      "text/plain": [
       "spaceport          59325\n",
       "assembly_shop      54494\n",
       "research_center    14137\n",
       "NaN                 7683\n",
       "Name: building_type, dtype: int64"
      ]
     },
     "metadata": {},
     "output_type": "display_data"
    },
    {
     "data": {
      "text/plain": [
       "NaN                           133773\n",
       "satellite_orbital_assembly      1866\n",
       "Name: project_type, dtype: int64"
      ]
     },
     "metadata": {},
     "output_type": "display_data"
    },
    {
     "data": {
      "text/plain": [
       "building            127956\n",
       "finished_stage_1      5817\n",
       "project               1866\n",
       "Name: event, dtype: int64"
      ]
     },
     "execution_count": 39,
     "metadata": {},
     "output_type": "execute_result"
    }
   ],
   "source": [
    "display(actions['building_type'].value_counts(dropna=False))\n",
    "display(actions['project_type'].value_counts(dropna=False))\n",
    "actions['event'].value_counts(dropna=False)"
   ]
  },
  {
   "cell_type": "markdown",
   "metadata": {},
   "source": [
    "There are 3 types of events in the game: 'building', 'level 1 completion' and 'project completion'. Events are filled completely and have no gaps. Probably, the `building` event corresponds to 3 types of buildings (spaceport, assembly_shop, research_center) and therefore for the other 2 events: `finished_stage_1` and `project` there should be no buildings (this may explain the presence of missing values).\n",
    "\n",
    "The project type in the game is only 1 `satellite_orbital_assembly` (the completion of this project ensures the passage of level 1) and, probably, this project type will correspond only to the `project` event, since their total number is the same and = 1866.\n",
    "\n",
    "Let's test these theories below."
   ]
  },
  {
   "cell_type": "code",
   "execution_count": 40,
   "metadata": {},
   "outputs": [
    {
     "name": "stdout",
     "output_type": "stream",
     "text": [
      "`building_type`=NaN while `event`= ['finished_stage_1' 'project']\n",
      "`project_type`=NaN while `event`= ['building' 'finished_stage_1']\n"
     ]
    }
   ],
   "source": [
    "print('`building_type`=NaN while `event`=', actions[actions['building_type'].isnull()]['event'].unique())\n",
    "print('`project_type`=NaN while `event`=', actions[actions['project_type'].isnull()]['event'].unique())"
   ]
  },
  {
   "cell_type": "markdown",
   "metadata": {},
   "source": [
    "Assumptions confirmed:\n",
    "* the `building_type` column is filled only if the building event `building` is running\n",
    "* the `project_type` column is filled only if the event `project` is running.\n",
    "\n",
    "This means that missing values are not an error in the data and do not require processing and removal, as this may lead to distortion of the analysis results."
   ]
  },
  {
   "cell_type": "markdown",
   "metadata": {},
   "source": [
    "### Combining data into a one dataset"
   ]
  },
  {
   "cell_type": "markdown",
   "metadata": {},
   "source": [
    "For the convenience of further analysis of user behavior depending on the sources, let's combine the `actions` and `user_source` tables into a one dataframe by a unique user id."
   ]
  },
  {
   "cell_type": "code",
   "execution_count": 41,
   "metadata": {
    "scrolled": true
   },
   "outputs": [
    {
     "name": "stdout",
     "output_type": "stream",
     "text": [
      "<class 'pandas.core.frame.DataFrame'>\n",
      "Int64Index: 135639 entries, 0 to 135638\n",
      "Data columns (total 6 columns):\n",
      " #   Column          Non-Null Count   Dtype         \n",
      "---  ------          --------------   -----         \n",
      " 0   event_datetime  135639 non-null  datetime64[ns]\n",
      " 1   event           135639 non-null  object        \n",
      " 2   building_type   127956 non-null  object        \n",
      " 3   user_id         135639 non-null  object        \n",
      " 4   project_type    1866 non-null    object        \n",
      " 5   source          135639 non-null  object        \n",
      "dtypes: datetime64[ns](1), object(5)\n",
      "memory usage: 7.2+ MB\n"
     ]
    },
    {
     "data": {
      "text/html": [
       "<div>\n",
       "<style scoped>\n",
       "    .dataframe tbody tr th:only-of-type {\n",
       "        vertical-align: middle;\n",
       "    }\n",
       "\n",
       "    .dataframe tbody tr th {\n",
       "        vertical-align: top;\n",
       "    }\n",
       "\n",
       "    .dataframe thead th {\n",
       "        text-align: right;\n",
       "    }\n",
       "</style>\n",
       "<table border=\"1\" class=\"dataframe\">\n",
       "  <thead>\n",
       "    <tr style=\"text-align: right;\">\n",
       "      <th></th>\n",
       "      <th>event_datetime</th>\n",
       "      <th>event</th>\n",
       "      <th>building_type</th>\n",
       "      <th>user_id</th>\n",
       "      <th>project_type</th>\n",
       "      <th>source</th>\n",
       "    </tr>\n",
       "  </thead>\n",
       "  <tbody>\n",
       "    <tr>\n",
       "      <th>0</th>\n",
       "      <td>2020-05-04 00:00:01</td>\n",
       "      <td>building</td>\n",
       "      <td>assembly_shop</td>\n",
       "      <td>55e92310-cb8e-4754-b622-597e124b03de</td>\n",
       "      <td>NaN</td>\n",
       "      <td>youtube_channel_reklama</td>\n",
       "    </tr>\n",
       "    <tr>\n",
       "      <th>1</th>\n",
       "      <td>2020-05-04 00:00:03</td>\n",
       "      <td>building</td>\n",
       "      <td>assembly_shop</td>\n",
       "      <td>c07b1c10-f477-44dc-81dc-ec82254b1347</td>\n",
       "      <td>NaN</td>\n",
       "      <td>facebook_ads</td>\n",
       "    </tr>\n",
       "    <tr>\n",
       "      <th>2</th>\n",
       "      <td>2020-05-04 00:00:16</td>\n",
       "      <td>building</td>\n",
       "      <td>assembly_shop</td>\n",
       "      <td>6edd42cc-e753-4ff6-a947-2107cd560710</td>\n",
       "      <td>NaN</td>\n",
       "      <td>instagram_new_adverts</td>\n",
       "    </tr>\n",
       "    <tr>\n",
       "      <th>3</th>\n",
       "      <td>2020-05-04 00:00:16</td>\n",
       "      <td>building</td>\n",
       "      <td>assembly_shop</td>\n",
       "      <td>92c69003-d60a-444a-827f-8cc51bf6bf4c</td>\n",
       "      <td>NaN</td>\n",
       "      <td>facebook_ads</td>\n",
       "    </tr>\n",
       "    <tr>\n",
       "      <th>4</th>\n",
       "      <td>2020-05-04 00:00:35</td>\n",
       "      <td>building</td>\n",
       "      <td>assembly_shop</td>\n",
       "      <td>cdc6bb92-0ccb-4490-9866-ef142f09139d</td>\n",
       "      <td>NaN</td>\n",
       "      <td>yandex_direct</td>\n",
       "    </tr>\n",
       "  </tbody>\n",
       "</table>\n",
       "</div>"
      ],
      "text/plain": [
       "       event_datetime     event  building_type  \\\n",
       "0 2020-05-04 00:00:01  building  assembly_shop   \n",
       "1 2020-05-04 00:00:03  building  assembly_shop   \n",
       "2 2020-05-04 00:00:16  building  assembly_shop   \n",
       "3 2020-05-04 00:00:16  building  assembly_shop   \n",
       "4 2020-05-04 00:00:35  building  assembly_shop   \n",
       "\n",
       "                                user_id project_type                   source  \n",
       "0  55e92310-cb8e-4754-b622-597e124b03de          NaN  youtube_channel_reklama  \n",
       "1  c07b1c10-f477-44dc-81dc-ec82254b1347          NaN             facebook_ads  \n",
       "2  6edd42cc-e753-4ff6-a947-2107cd560710          NaN    instagram_new_adverts  \n",
       "3  92c69003-d60a-444a-827f-8cc51bf6bf4c          NaN             facebook_ads  \n",
       "4  cdc6bb92-0ccb-4490-9866-ef142f09139d          NaN            yandex_direct  "
      ]
     },
     "execution_count": 41,
     "metadata": {},
     "output_type": "execute_result"
    }
   ],
   "source": [
    "# combining datasets\n",
    "df = pd.merge(actions, user_source, on=['user_id'], how='left')\n",
    "# check\n",
    "df.info()\n",
    "df.head()"
   ]
  },
  {
   "cell_type": "markdown",
   "metadata": {},
   "source": [
    "Let's also add an additional `date` column for ease of analysis in the future."
   ]
  },
  {
   "cell_type": "code",
   "execution_count": 42,
   "metadata": {
    "scrolled": true
   },
   "outputs": [
    {
     "data": {
      "text/html": [
       "<div>\n",
       "<style scoped>\n",
       "    .dataframe tbody tr th:only-of-type {\n",
       "        vertical-align: middle;\n",
       "    }\n",
       "\n",
       "    .dataframe tbody tr th {\n",
       "        vertical-align: top;\n",
       "    }\n",
       "\n",
       "    .dataframe thead th {\n",
       "        text-align: right;\n",
       "    }\n",
       "</style>\n",
       "<table border=\"1\" class=\"dataframe\">\n",
       "  <thead>\n",
       "    <tr style=\"text-align: right;\">\n",
       "      <th></th>\n",
       "      <th>event_datetime</th>\n",
       "      <th>date</th>\n",
       "      <th>event</th>\n",
       "      <th>building_type</th>\n",
       "      <th>user_id</th>\n",
       "      <th>project_type</th>\n",
       "      <th>source</th>\n",
       "    </tr>\n",
       "  </thead>\n",
       "  <tbody>\n",
       "    <tr>\n",
       "      <th>0</th>\n",
       "      <td>2020-05-04 00:00:01</td>\n",
       "      <td>2020-05-04</td>\n",
       "      <td>building</td>\n",
       "      <td>assembly_shop</td>\n",
       "      <td>55e92310-cb8e-4754-b622-597e124b03de</td>\n",
       "      <td>NaN</td>\n",
       "      <td>youtube_channel_reklama</td>\n",
       "    </tr>\n",
       "    <tr>\n",
       "      <th>1</th>\n",
       "      <td>2020-05-04 00:00:03</td>\n",
       "      <td>2020-05-04</td>\n",
       "      <td>building</td>\n",
       "      <td>assembly_shop</td>\n",
       "      <td>c07b1c10-f477-44dc-81dc-ec82254b1347</td>\n",
       "      <td>NaN</td>\n",
       "      <td>facebook_ads</td>\n",
       "    </tr>\n",
       "    <tr>\n",
       "      <th>2</th>\n",
       "      <td>2020-05-04 00:00:16</td>\n",
       "      <td>2020-05-04</td>\n",
       "      <td>building</td>\n",
       "      <td>assembly_shop</td>\n",
       "      <td>6edd42cc-e753-4ff6-a947-2107cd560710</td>\n",
       "      <td>NaN</td>\n",
       "      <td>instagram_new_adverts</td>\n",
       "    </tr>\n",
       "    <tr>\n",
       "      <th>3</th>\n",
       "      <td>2020-05-04 00:00:16</td>\n",
       "      <td>2020-05-04</td>\n",
       "      <td>building</td>\n",
       "      <td>assembly_shop</td>\n",
       "      <td>92c69003-d60a-444a-827f-8cc51bf6bf4c</td>\n",
       "      <td>NaN</td>\n",
       "      <td>facebook_ads</td>\n",
       "    </tr>\n",
       "    <tr>\n",
       "      <th>4</th>\n",
       "      <td>2020-05-04 00:00:35</td>\n",
       "      <td>2020-05-04</td>\n",
       "      <td>building</td>\n",
       "      <td>assembly_shop</td>\n",
       "      <td>cdc6bb92-0ccb-4490-9866-ef142f09139d</td>\n",
       "      <td>NaN</td>\n",
       "      <td>yandex_direct</td>\n",
       "    </tr>\n",
       "  </tbody>\n",
       "</table>\n",
       "</div>"
      ],
      "text/plain": [
       "       event_datetime        date     event  building_type  \\\n",
       "0 2020-05-04 00:00:01  2020-05-04  building  assembly_shop   \n",
       "1 2020-05-04 00:00:03  2020-05-04  building  assembly_shop   \n",
       "2 2020-05-04 00:00:16  2020-05-04  building  assembly_shop   \n",
       "3 2020-05-04 00:00:16  2020-05-04  building  assembly_shop   \n",
       "4 2020-05-04 00:00:35  2020-05-04  building  assembly_shop   \n",
       "\n",
       "                                user_id project_type                   source  \n",
       "0  55e92310-cb8e-4754-b622-597e124b03de          NaN  youtube_channel_reklama  \n",
       "1  c07b1c10-f477-44dc-81dc-ec82254b1347          NaN             facebook_ads  \n",
       "2  6edd42cc-e753-4ff6-a947-2107cd560710          NaN    instagram_new_adverts  \n",
       "3  92c69003-d60a-444a-827f-8cc51bf6bf4c          NaN             facebook_ads  \n",
       "4  cdc6bb92-0ccb-4490-9866-ef142f09139d          NaN            yandex_direct  "
      ]
     },
     "execution_count": 42,
     "metadata": {},
     "output_type": "execute_result"
    }
   ],
   "source": [
    "# adding 'date' column\n",
    "date = df['event_datetime'].dt.date\n",
    "df.insert(1, 'date', date)\n",
    "df.head() # check"
   ]
  },
  {
   "cell_type": "markdown",
   "metadata": {},
   "source": [
    "***Conclusion***"
   ]
  },
  {
   "cell_type": "markdown",
   "metadata": {},
   "source": [
    "During data preprocessing:\n",
    "- the data types containing information about dates in the `game_actions` and `ad_costs` tables were changing to the type corresponding to the dates for further correct work with them;\n",
    "- deleted duplicate row (less than 1% of the total amount of data), probably formed as a result of a technical error;\n",
    "- the detected missing values in the `building_type` and `project_type` columns were checked and it was found that they are not an error in the data and do not require processing and deletion, as this may lead to distortion of the analysis results;\n",
    "- combining the `actions` and `user_source` tables into a one dataframe for the convenience of further analysis of user behavior depending on the source of their involvement;\n",
    "- added `date` column for the convenience of further analysis.\n",
    "\n",
    "The preliminary data is complete and prepared for further analysis."
   ]
  },
  {
   "cell_type": "markdown",
   "metadata": {},
   "source": [
    "## Exploratory data analysis"
   ]
  },
  {
   "cell_type": "markdown",
   "metadata": {},
   "source": [
    "### Overview of user behavior in the game"
   ]
  },
  {
   "cell_type": "markdown",
   "metadata": {},
   "source": [
    "The main task of the project is to analyze the behavior of players depending on the sources. Let's take a look at the overall user behavior in the game:\n",
    "* number of unique users per day\n",
    "* user activity: the number and types of events by day, as well as the number of buildings in the game by their types\n",
    "* strategies that users choose to complite level 1."
   ]
  },
  {
   "cell_type": "markdown",
   "metadata": {},
   "source": [
    "#### Number of unique users per day"
   ]
  },
  {
   "cell_type": "markdown",
   "metadata": {},
   "source": [
    "Consider the dynamics of the number of unique users by day."
   ]
  },
  {
   "cell_type": "code",
   "execution_count": 43,
   "metadata": {},
   "outputs": [
    {
     "ename": "ValueError",
     "evalue": "\nImage export using the \"kaleido\" engine requires the kaleido package,\nwhich can be installed using pip:\n    $ pip install -U kaleido\n",
     "output_type": "error",
     "traceback": [
      "\u001b[0;31m---------------------------------------------------------------------------\u001b[0m",
      "\u001b[0;31mValueError\u001b[0m                                Traceback (most recent call last)",
      "Cell \u001b[0;32mIn[43], line 3\u001b[0m\n\u001b[1;32m      1\u001b[0m dau_total \u001b[38;5;241m=\u001b[39m df\u001b[38;5;241m.\u001b[39mgroupby(\u001b[38;5;124m'\u001b[39m\u001b[38;5;124mdate\u001b[39m\u001b[38;5;124m'\u001b[39m)[\u001b[38;5;124m'\u001b[39m\u001b[38;5;124muser_id\u001b[39m\u001b[38;5;124m'\u001b[39m]\u001b[38;5;241m.\u001b[39mnunique()\u001b[38;5;241m.\u001b[39mreset_index()\n\u001b[1;32m      2\u001b[0m fig \u001b[38;5;241m=\u001b[39m px\u001b[38;5;241m.\u001b[39mline(dau_total, x\u001b[38;5;241m=\u001b[39m\u001b[38;5;124m'\u001b[39m\u001b[38;5;124mdate\u001b[39m\u001b[38;5;124m'\u001b[39m, y\u001b[38;5;241m=\u001b[39m\u001b[38;5;124m'\u001b[39m\u001b[38;5;124muser_id\u001b[39m\u001b[38;5;124m'\u001b[39m, title\u001b[38;5;241m=\u001b[39m\u001b[38;5;124m\"\u001b[39m\u001b[38;5;124mNumber of unique users per day (DAU)\u001b[39m\u001b[38;5;124m\"\u001b[39m)\n\u001b[0;32m----> 3\u001b[0m \u001b[43mfig\u001b[49m\u001b[38;5;241;43m.\u001b[39;49m\u001b[43mshow\u001b[49m\u001b[43m(\u001b[49m\u001b[43mrenderer\u001b[49m\u001b[43m \u001b[49m\u001b[38;5;241;43m=\u001b[39;49m\u001b[43m \u001b[49m\u001b[38;5;124;43m'\u001b[39;49m\u001b[38;5;124;43msvg\u001b[39;49m\u001b[38;5;124;43m'\u001b[39;49m\u001b[43m)\u001b[49m\n",
      "File \u001b[0;32m~/anaconda3/lib/python3.10/site-packages/plotly/basedatatypes.py:3398\u001b[0m, in \u001b[0;36mBaseFigure.show\u001b[0;34m(self, *args, **kwargs)\u001b[0m\n\u001b[1;32m   3365\u001b[0m \u001b[38;5;124;03m\"\"\"\u001b[39;00m\n\u001b[1;32m   3366\u001b[0m \u001b[38;5;124;03mShow a figure using either the default renderer(s) or the renderer(s)\u001b[39;00m\n\u001b[1;32m   3367\u001b[0m \u001b[38;5;124;03mspecified by the renderer argument\u001b[39;00m\n\u001b[0;32m   (...)\u001b[0m\n\u001b[1;32m   3394\u001b[0m \u001b[38;5;124;03mNone\u001b[39;00m\n\u001b[1;32m   3395\u001b[0m \u001b[38;5;124;03m\"\"\"\u001b[39;00m\n\u001b[1;32m   3396\u001b[0m \u001b[38;5;28;01mimport\u001b[39;00m \u001b[38;5;21;01mplotly\u001b[39;00m\u001b[38;5;21;01m.\u001b[39;00m\u001b[38;5;21;01mio\u001b[39;00m \u001b[38;5;28;01mas\u001b[39;00m \u001b[38;5;21;01mpio\u001b[39;00m\n\u001b[0;32m-> 3398\u001b[0m \u001b[38;5;28;01mreturn\u001b[39;00m \u001b[43mpio\u001b[49m\u001b[38;5;241;43m.\u001b[39;49m\u001b[43mshow\u001b[49m\u001b[43m(\u001b[49m\u001b[38;5;28;43mself\u001b[39;49m\u001b[43m,\u001b[49m\u001b[43m \u001b[49m\u001b[38;5;241;43m*\u001b[39;49m\u001b[43margs\u001b[49m\u001b[43m,\u001b[49m\u001b[43m \u001b[49m\u001b[38;5;241;43m*\u001b[39;49m\u001b[38;5;241;43m*\u001b[39;49m\u001b[43mkwargs\u001b[49m\u001b[43m)\u001b[49m\n",
      "File \u001b[0;32m~/anaconda3/lib/python3.10/site-packages/plotly/io/_renderers.py:388\u001b[0m, in \u001b[0;36mshow\u001b[0;34m(fig, renderer, validate, **kwargs)\u001b[0m\n\u001b[1;32m    385\u001b[0m fig_dict \u001b[38;5;241m=\u001b[39m validate_coerce_fig_to_dict(fig, validate)\n\u001b[1;32m    387\u001b[0m \u001b[38;5;66;03m# Mimetype renderers\u001b[39;00m\n\u001b[0;32m--> 388\u001b[0m bundle \u001b[38;5;241m=\u001b[39m \u001b[43mrenderers\u001b[49m\u001b[38;5;241;43m.\u001b[39;49m\u001b[43m_build_mime_bundle\u001b[49m\u001b[43m(\u001b[49m\u001b[43mfig_dict\u001b[49m\u001b[43m,\u001b[49m\u001b[43m \u001b[49m\u001b[43mrenderers_string\u001b[49m\u001b[38;5;241;43m=\u001b[39;49m\u001b[43mrenderer\u001b[49m\u001b[43m,\u001b[49m\u001b[43m \u001b[49m\u001b[38;5;241;43m*\u001b[39;49m\u001b[38;5;241;43m*\u001b[39;49m\u001b[43mkwargs\u001b[49m\u001b[43m)\u001b[49m\n\u001b[1;32m    389\u001b[0m \u001b[38;5;28;01mif\u001b[39;00m bundle:\n\u001b[1;32m    390\u001b[0m     \u001b[38;5;28;01mif\u001b[39;00m \u001b[38;5;129;01mnot\u001b[39;00m ipython_display:\n",
      "File \u001b[0;32m~/anaconda3/lib/python3.10/site-packages/plotly/io/_renderers.py:296\u001b[0m, in \u001b[0;36mRenderersConfig._build_mime_bundle\u001b[0;34m(self, fig_dict, renderers_string, **kwargs)\u001b[0m\n\u001b[1;32m    293\u001b[0m             \u001b[38;5;28;01mif\u001b[39;00m \u001b[38;5;28mhasattr\u001b[39m(renderer, k):\n\u001b[1;32m    294\u001b[0m                 \u001b[38;5;28msetattr\u001b[39m(renderer, k, v)\n\u001b[0;32m--> 296\u001b[0m         bundle\u001b[38;5;241m.\u001b[39mupdate(\u001b[43mrenderer\u001b[49m\u001b[38;5;241;43m.\u001b[39;49m\u001b[43mto_mimebundle\u001b[49m\u001b[43m(\u001b[49m\u001b[43mfig_dict\u001b[49m\u001b[43m)\u001b[49m)\n\u001b[1;32m    298\u001b[0m \u001b[38;5;28;01mreturn\u001b[39;00m bundle\n",
      "File \u001b[0;32m~/anaconda3/lib/python3.10/site-packages/plotly/io/_base_renderers.py:127\u001b[0m, in \u001b[0;36mImageRenderer.to_mimebundle\u001b[0;34m(self, fig_dict)\u001b[0m\n\u001b[1;32m    126\u001b[0m \u001b[38;5;28;01mdef\u001b[39;00m \u001b[38;5;21mto_mimebundle\u001b[39m(\u001b[38;5;28mself\u001b[39m, fig_dict):\n\u001b[0;32m--> 127\u001b[0m     image_bytes \u001b[38;5;241m=\u001b[39m \u001b[43mto_image\u001b[49m\u001b[43m(\u001b[49m\n\u001b[1;32m    128\u001b[0m \u001b[43m        \u001b[49m\u001b[43mfig_dict\u001b[49m\u001b[43m,\u001b[49m\n\u001b[1;32m    129\u001b[0m \u001b[43m        \u001b[49m\u001b[38;5;28;43mformat\u001b[39;49m\u001b[38;5;241;43m=\u001b[39;49m\u001b[38;5;28;43mself\u001b[39;49m\u001b[38;5;241;43m.\u001b[39;49m\u001b[43mformat\u001b[49m\u001b[43m,\u001b[49m\n\u001b[1;32m    130\u001b[0m \u001b[43m        \u001b[49m\u001b[43mwidth\u001b[49m\u001b[38;5;241;43m=\u001b[39;49m\u001b[38;5;28;43mself\u001b[39;49m\u001b[38;5;241;43m.\u001b[39;49m\u001b[43mwidth\u001b[49m\u001b[43m,\u001b[49m\n\u001b[1;32m    131\u001b[0m \u001b[43m        \u001b[49m\u001b[43mheight\u001b[49m\u001b[38;5;241;43m=\u001b[39;49m\u001b[38;5;28;43mself\u001b[39;49m\u001b[38;5;241;43m.\u001b[39;49m\u001b[43mheight\u001b[49m\u001b[43m,\u001b[49m\n\u001b[1;32m    132\u001b[0m \u001b[43m        \u001b[49m\u001b[43mscale\u001b[49m\u001b[38;5;241;43m=\u001b[39;49m\u001b[38;5;28;43mself\u001b[39;49m\u001b[38;5;241;43m.\u001b[39;49m\u001b[43mscale\u001b[49m\u001b[43m,\u001b[49m\n\u001b[1;32m    133\u001b[0m \u001b[43m        \u001b[49m\u001b[43mvalidate\u001b[49m\u001b[38;5;241;43m=\u001b[39;49m\u001b[38;5;28;43;01mFalse\u001b[39;49;00m\u001b[43m,\u001b[49m\n\u001b[1;32m    134\u001b[0m \u001b[43m        \u001b[49m\u001b[43mengine\u001b[49m\u001b[38;5;241;43m=\u001b[39;49m\u001b[38;5;28;43mself\u001b[39;49m\u001b[38;5;241;43m.\u001b[39;49m\u001b[43mengine\u001b[49m\u001b[43m,\u001b[49m\n\u001b[1;32m    135\u001b[0m \u001b[43m    \u001b[49m\u001b[43m)\u001b[49m\n\u001b[1;32m    137\u001b[0m     \u001b[38;5;28;01mif\u001b[39;00m \u001b[38;5;28mself\u001b[39m\u001b[38;5;241m.\u001b[39mb64_encode:\n\u001b[1;32m    138\u001b[0m         image_str \u001b[38;5;241m=\u001b[39m base64\u001b[38;5;241m.\u001b[39mb64encode(image_bytes)\u001b[38;5;241m.\u001b[39mdecode(\u001b[38;5;124m\"\u001b[39m\u001b[38;5;124mutf8\u001b[39m\u001b[38;5;124m\"\u001b[39m)\n",
      "File \u001b[0;32m~/anaconda3/lib/python3.10/site-packages/plotly/io/_kaleido.py:133\u001b[0m, in \u001b[0;36mto_image\u001b[0;34m(fig, format, width, height, scale, validate, engine)\u001b[0m\n\u001b[1;32m    131\u001b[0m     \u001b[38;5;66;03m# Raise informative error message if Kaleido is not installed\u001b[39;00m\n\u001b[1;32m    132\u001b[0m     \u001b[38;5;28;01mif\u001b[39;00m scope \u001b[38;5;129;01mis\u001b[39;00m \u001b[38;5;28;01mNone\u001b[39;00m:\n\u001b[0;32m--> 133\u001b[0m         \u001b[38;5;28;01mraise\u001b[39;00m \u001b[38;5;167;01mValueError\u001b[39;00m(\n\u001b[1;32m    134\u001b[0m             \u001b[38;5;124;03m\"\"\"\u001b[39;00m\n\u001b[1;32m    135\u001b[0m \u001b[38;5;124;03mImage export using the \"kaleido\" engine requires the kaleido package,\u001b[39;00m\n\u001b[1;32m    136\u001b[0m \u001b[38;5;124;03mwhich can be installed using pip:\u001b[39;00m\n\u001b[1;32m    137\u001b[0m \u001b[38;5;124;03m    $ pip install -U kaleido\u001b[39;00m\n\u001b[1;32m    138\u001b[0m \u001b[38;5;124;03m\"\"\"\u001b[39;00m\n\u001b[1;32m    139\u001b[0m         )\n\u001b[1;32m    141\u001b[0m     \u001b[38;5;66;03m# Validate figure\u001b[39;00m\n\u001b[1;32m    142\u001b[0m     \u001b[38;5;66;03m# ---------------\u001b[39;00m\n\u001b[1;32m    143\u001b[0m     fig_dict \u001b[38;5;241m=\u001b[39m validate_coerce_fig_to_dict(fig, validate)\n",
      "\u001b[0;31mValueError\u001b[0m: \nImage export using the \"kaleido\" engine requires the kaleido package,\nwhich can be installed using pip:\n    $ pip install -U kaleido\n"
     ]
    }
   ],
   "source": [
    "dau_total = df.groupby('date')['user_id'].nunique().reset_index()\n",
    "fig = px.line(dau_total, x='date', y='user_id', title=\"Number of unique users per day (DAU)\")\n",
    "fig.show(renderer = 'svg')"
   ]
  },
  {
   "cell_type": "code",
   "execution_count": null,
   "metadata": {
    "scrolled": true
   },
   "outputs": [],
   "source": [
    "dau_total.describe()"
   ]
  },
  {
   "cell_type": "markdown",
   "metadata": {},
   "source": [
    "According to the graph, one can note an increase in the number of users by May 10 to 9219 and a sharp decline from May 11 to 5995 users and a further smoother decline until the end of the month to a minimum value = 4 users. A jump on 11.05 may mean the end of the advertising campaign or the end of the weekend, it is also possible that further user activity is not visible, since we only have data for 1 level. Let's pay attention to this at the stage of analysis of advertising sources."
   ]
  },
  {
   "cell_type": "markdown",
   "metadata": {},
   "source": [
    "#### User activity"
   ]
  },
  {
   "cell_type": "markdown",
   "metadata": {},
   "source": [
    "Let's look at user activity by day and by type of events in the game."
   ]
  },
  {
   "cell_type": "code",
   "execution_count": null,
   "metadata": {},
   "outputs": [],
   "source": [
    "data_events = df.groupby(['date', 'event'])['event_datetime'].count().reset_index()\n",
    "fig = px.bar(data_events, x='date', y='event_datetime', color='event',\\\n",
    "             title=\"Number of events in the game per day\")\n",
    "fig.show()"
   ]
  },
  {
   "cell_type": "code",
   "execution_count": null,
   "metadata": {},
   "outputs": [],
   "source": [
    "# number of events per user\n",
    "events_per_user = df.groupby('user_id')['event'].count().reset_index()\n",
    "events_per_user.event.describe()"
   ]
  },
  {
   "cell_type": "markdown",
   "metadata": {},
   "source": [
    "The graph of user activity by day correlates with the number of users by day and also has a sharp decline on May 11 (decrease in events from 15k to 7k). Buildings predominate in events (which are needed in greater numbers than other events to complete the level), the share of 'level 1 completion' events is maximum 16.05 (649 events).\n",
    "\n",
    "On average, there are 9.9 events per 1 user, which coincides with the median = 10 events, while the standard deviation = 4, which indicates quite a significant spread in values.\n",
    "\n",
    "Next, consider which buildings are the most popular."
   ]
  },
  {
   "cell_type": "code",
   "execution_count": null,
   "metadata": {},
   "outputs": [],
   "source": [
    "data_building = df.groupby('building_type')['event'].count().reset_index().sort_values('event', ascending=False)\n",
    "fig = px.bar(data_building, x='building_type', y='event', \\\n",
    "             title=\"Number of buildings in the game by type of building\")\n",
    "fig.show()"
   ]
  },
  {
   "cell_type": "markdown",
   "metadata": {},
   "source": [
    "The `assembly_shop` and `spaceport` builds are the most popular (absolute value 54k and 59k respectively), while the `research_center` building is significantly less popular (absolute value 14k). This information should be studied in more detail when planning the monetization model, which is planned to be done on the object construction pages."
   ]
  },
  {
   "cell_type": "markdown",
   "metadata": {},
   "source": [
    "#### User strategies in the game"
   ]
  },
  {
   "cell_type": "markdown",
   "metadata": {},
   "source": [
    "For further analysis, we will collect information on users: the source from which they came and what strategy they chose to pass level 1 (in case the level was completed by the user)."
   ]
  },
  {
   "cell_type": "code",
   "execution_count": null,
   "metadata": {},
   "outputs": [],
   "source": [
    "user_profiles = df.groupby(['user_id', 'source'])['event'].nunique().reset_index()\n",
    "user_profiles['level_1_strategy'] = user_profiles['event'].map({1: 'not finished', 2: 'fight', 3: 'project'})\n",
    "user_profiles.drop('event', axis=1, inplace=True)\n",
    "user_profiles.head()"
   ]
  },
  {
   "cell_type": "markdown",
   "metadata": {},
   "source": [
    "Let's look at the share of strategies, including how many users completed Level 1."
   ]
  },
  {
   "cell_type": "code",
   "execution_count": null,
   "metadata": {},
   "outputs": [],
   "source": [
    "# user strategies on Level 1\n",
    "data=user_profiles.groupby('level_1_strategy')['user_id'].count().reset_index()\n",
    "fig = px.pie(data, values='user_id', names='level_1_strategy', title='User strategies on Level 1')\n",
    "fig.show()"
   ]
  },
  {
   "cell_type": "markdown",
   "metadata": {},
   "source": [
    "On the graph, 57% of users did not complete Level 1. Of the 43% of players who completed the first level, the majority chooses battle as a strategy, those who choose the project to build an orbital station are more than 2 times less."
   ]
  },
  {
   "cell_type": "markdown",
   "metadata": {},
   "source": [
    "### Analysis of user acquisition sources"
   ]
  },
  {
   "cell_type": "markdown",
   "metadata": {},
   "source": [
    "At this stage, we will consider the behavior of users in the context of the sources of their attraction.\n",
    "First, let's see which source brings the most users."
   ]
  },
  {
   "cell_type": "code",
   "execution_count": null,
   "metadata": {},
   "outputs": [],
   "source": [
    "data_source = df.groupby('source')['user_id'].nunique().reset_index()\n",
    "fig = px.pie(data_source, values='user_id', names='source', title='Distribution of users by acquisition channels')\n",
    "fig.show()"
   ]
  },
  {
   "cell_type": "markdown",
   "metadata": {},
   "source": [
    "The largest number of users comes from yandex_direct (35.5%), followed by instagram - 24.7%, then facebook - 20.1% and the least number of users comes from youtube - 19.8% of the total number of users.\n",
    "\n",
    "Let's also consider whether the strategies of users in level 1 differ depending on the source from which they came."
   ]
  },
  {
   "cell_type": "code",
   "execution_count": null,
   "metadata": {},
   "outputs": [],
   "source": [
    "# user strategies by sources\n",
    "data_strategy_by_sources = user_profiles.groupby(['source', 'level_1_strategy'])['user_id'].count().reset_index()\\\n",
    "                                                                         .sort_values('user_id', ascending=False)\n",
    "fig = px.bar(data_strategy_by_sources, x='source', y='user_id', color='level_1_strategy', barmode='group', \\\n",
    "                             text_auto=True, title=\"User strategies in the game by sources of their attraction\")\n",
    "fig.show()"
   ]
  },
  {
   "cell_type": "code",
   "execution_count": null,
   "metadata": {},
   "outputs": [],
   "source": [
    "users_strategy = user_profiles.query('level_1_strategy != \"not finished\"').pivot_table(index='source', \\\n",
    "                columns='level_1_strategy', values='user_id', aggfunc='nunique').reset_index()\n",
    "\n",
    "users_strategy['%_fight'] = users_strategy['fight'] / (users_strategy['fight'] + users_strategy['project'])\n",
    "users_strategy['%_project'] = users_strategy['project'] / (users_strategy['fight'] + users_strategy['project'])\n",
    "\n",
    "users_strategy.style.format({'%_fight': '{:.1%}', '%_project': '{:.1%}'}).background_gradient(cmap='Greens',\\\n",
    "                                                                                              axis=0)"
   ]
  },
  {
   "cell_type": "markdown",
   "metadata": {},
   "source": [
    "The graph and table above show that the distribution of strategies that users have chosen practically does not change depending on the source from which they came. It can be concluded that the strategies of users in level 1 do not envy the source from which the user came."
   ]
  },
  {
   "cell_type": "code",
   "execution_count": null,
   "metadata": {},
   "outputs": [],
   "source": [
    "data_events = df.groupby(['date', 'source'])['event_datetime'].count().reset_index()\n",
    "fig = px.line(data_events, x='date', y='event_datetime', color='source', \\\n",
    "              title=\"The number of events in the game by day, by source\")\n",
    "fig.show()"
   ]
  },
  {
   "cell_type": "markdown",
   "metadata": {},
   "source": [
    "The number of events in the game correlates with the overall schedule of events and with the number of users that are attracted from each of the sources. At the same time, most of the events for users are from yandex_direct. According to all sources, there is also a sharp drop in activity on May 11, which is also likely due to changes in the advertising campaign or the weekend."
   ]
  },
  {
   "cell_type": "code",
   "execution_count": null,
   "metadata": {},
   "outputs": [],
   "source": [
    "# number of events per user by sources of attraction\n",
    "events_per_user_by_source = df.groupby(['source', 'user_id'])['event'].count().reset_index()\\\n",
    "                                                                         .sort_values('event', ascending=False)\n",
    "fig = px.box(events_per_user_by_source, x='source', y='event', title='Number of events per user by sources')\n",
    "fig.show()"
   ]
  },
  {
   "cell_type": "markdown",
   "metadata": {},
   "source": [
    "The average number of events per 1 user differs insignificantly, in addition, the values of the median, minimum and maximum values of the number of events per user also do not have critical differences."
   ]
  },
  {
   "cell_type": "markdown",
   "metadata": {},
   "source": [
    "### User acquisition cost analysis"
   ]
  },
  {
   "cell_type": "markdown",
   "metadata": {},
   "source": [
    "To analyze user acquisition costs, let's combine data on users and acquisition channels, for this:\n",
    "* Determine the date of the first entry into the game for each user."
   ]
  },
  {
   "cell_type": "code",
   "execution_count": null,
   "metadata": {},
   "outputs": [],
   "source": [
    "# the date of the first entry\n",
    "first_enter_by_user = df.groupby(['source', 'user_id'])['date'].min().reset_index()\\\n",
    "                       .rename(columns={'source': 'user_source', 'date': 'first_enter'})\n",
    "first_enter_by_user['first_enter'] = pd.to_datetime(first_enter_by_user['first_enter'])\n",
    "# the number of users by the dates of their first entry into the game\n",
    "first_enter_by_user_grouped = first_enter_by_user.groupby(['first_enter', 'user_source'])['user_id'].nunique()\\\n",
    "                                    .reset_index().rename(columns={'user_id': 'number_of_users'})\n",
    "fig = px.bar(first_enter_by_user_grouped, x='first_enter', y='number_of_users', color='user_source', \\\n",
    "                   barmode='group', title=\"New users per day\")\n",
    "fig.show()"
   ]
  },
  {
   "cell_type": "markdown",
   "metadata": {},
   "source": [
    "* Let's compare the distribution by dates of clicks on ads in the context of the sources of user acquisition."
   ]
  },
  {
   "cell_type": "code",
   "execution_count": null,
   "metadata": {},
   "outputs": [],
   "source": [
    "total_costs = ad_costs.groupby(['day', 'source'])['cost'].sum().reset_index()\n",
    "fig = px.bar(total_costs, x='day', y='cost', color='source', barmode='group', \\\n",
    "                                 title=\"Ad spend by day-click on ad\")\n",
    "fig.show()"
   ]
  },
  {
   "cell_type": "markdown",
   "metadata": {},
   "source": [
    "From the graphs above: the ad spend date is before the first login date. For the purposes of calculating the cost of attracting 1 user, let's align the dates: we will consider the date of acquiring a user as the date of entry 1 - 1 day. Next, we connect the tables to calculate the total costs."
   ]
  },
  {
   "cell_type": "code",
   "execution_count": null,
   "metadata": {},
   "outputs": [],
   "source": [
    "# align 1 entry date with user acquisition date\n",
    "first_enter_by_user_grouped['first_enter'] = first_enter_by_user_grouped['first_enter'] - pd.Timedelta(days=1)\n",
    "# joining tables to calculate total costs\n",
    "total_costs = pd.merge(total_costs, first_enter_by_user_grouped, how='outer', \\\n",
    "                       left_on=['day','source'], right_on = ['first_enter', 'user_source'])\n",
    "total_costs.head()"
   ]
  },
  {
   "cell_type": "code",
   "execution_count": null,
   "metadata": {
    "scrolled": true
   },
   "outputs": [],
   "source": [
    "# grouping total costs and total number of users by source\n",
    "total_costs_final = total_costs.pivot_table(index='source', margins=True, aggfunc=sum, margins_name='Total')\\\n",
    "                                                                                                .reset_index()\n",
    "total_costs_final.style.format({'cost': '{:.2f}'}).background_gradient(cmap='Greens', axis=0)"
   ]
  },
  {
   "cell_type": "markdown",
   "metadata": {},
   "source": [
    "In total, 7603.53 were spent on advertising and 13576 users were attracted. The most expensive source is yandex_direct, but it was he who attracted the largest number of users in comparison with other sources. We visualize the costs of attracting users by day in the context of sources."
   ]
  },
  {
   "cell_type": "code",
   "execution_count": null,
   "metadata": {},
   "outputs": [],
   "source": [
    "# expenses by day by source\n",
    "ad_costs_grouped = total_costs.groupby(['day', 'source'])['cost'].sum().reset_index()\n",
    "fig = px.bar(ad_costs_grouped, x='day', y='cost', color='source', barmode='group', \\\n",
    "                         title=\"User acquisition aosts by day/source\")\n",
    "fig.show()"
   ]
  },
  {
   "cell_type": "markdown",
   "metadata": {},
   "source": [
    "According to the graph above, indeed, advertising costs across all sources were reduced by almost 2 times on May 4 compared to May 3, which was reflected in the number of new users. It is also worth noting that the costs for the 3 first most popular sources differ insignificantly, while the attracted users differ more significantly. Let's check this assumption by calculating the costs per 1 user for each source."
   ]
  },
  {
   "cell_type": "code",
   "execution_count": null,
   "metadata": {
    "scrolled": true
   },
   "outputs": [],
   "source": [
    "# САС\n",
    "total_costs_final['CAC'] = total_costs_final['cost'] / total_costs_final['number_of_users']\n",
    "total_costs_final.style.format({'cost': '{:.2f}'}).background_gradient(cmap='Greens', axis=0)"
   ]
  },
  {
   "cell_type": "markdown",
   "metadata": {},
   "source": [
    "YouTube turned out to be the most profitable source in terms of price per 1 user, but yandex_direct should be considered the most effective of the other sources - the cost of attracting 1 user was 0.46. Facebook can be considered the most inefficient with the price per 1 user = 0.78."
   ]
  },
  {
   "cell_type": "markdown",
   "metadata": {},
   "source": [
    "***Conclusion***"
   ]
  },
  {
   "cell_type": "markdown",
   "metadata": {},
   "source": [
    "During exploratory analysis of user behavior data in the game, as well as user acquisition sources:\n",
    "1. The average number of users in the game was 2884 users. The dynamics of the number of users showed a sharp increase in users on May 10 and a sharp decrease on May 11 - the jump correlates with a decrease in advertising costs on the indicated dates across all sources.\n",
    "2. The graph of user activity by day correlates with the number of users by day and also has a sharp decline on 11.05 (Events are dominated by buildings (which are needed in greater numbers than other events to complete the level).\n",
    "3. The `assembly_shop` and `spaceport` buildings are the most popular, while the `research_center` building is much less popular. This information should be studied in more detail when planning the monetization model, which is planned to be done on the object construction pages.\n",
    "4. Only 43% completed the first level, most of them chose 'battle' as a strategy, those who choose 'orbital station construction project' are 2 times less.\n",
    "5. The largest number of users comes from yandex_direct (35.5%), in second place is instagram - 24.7%, then facebook - 20.1% and the least number of users comes from youtube - 19.8% of the total number of users. User strategies in the game do not differ depending on the source of their attraction.\n",
    "6. In total, 7603.53 were spent on advertising and 13576 users were attracted. The most expensive source is yandex_direct (2233), but it was he who attracted the largest number of users in comparison with other sources. The lowest CAC for youtube is 0.39 and the highest for facebook is 0.78."
   ]
  },
  {
   "cell_type": "markdown",
   "metadata": {},
   "source": [
    "## Hypothesis testing"
   ]
  },
  {
   "cell_type": "markdown",
   "metadata": {},
   "source": [
    "### Hypothesis test: the time to complete the level differs depending on the way of passing: through the implementation of the project or through the victory over the first player"
   ]
  },
  {
   "cell_type": "markdown",
   "metadata": {},
   "source": [
    "To test the hypothesis that the average time to complete a level differs depending on the chosen strategy:\n",
    "- time of the first entry into the game by the user;\n",
    "- let's connect the data about the first entry into the game with the data about the chosen strategy by each of the users;\n",
    "- calculate the probility of passing the 1st level by users (who completed it)."
   ]
  },
  {
   "cell_type": "code",
   "execution_count": null,
   "metadata": {},
   "outputs": [],
   "source": [
    "# calculation of the time of the first entry into the game by users and its joining with the general dataset\n",
    "first_enter_datetime = df.groupby(['source', 'user_id'])['event_datetime'].min().reset_index()\\\n",
    "                         .rename(columns={'event_datetime': 'first_enter_datetime'})\n",
    "df = df.merge(first_enter_datetime[['user_id', 'first_enter_datetime']])\n",
    "\n",
    "# adding information about the strategy by players to the one dataset\n",
    "df = df.merge(user_profiles[['user_id', 'level_1_strategy']])\n",
    "\n",
    "# calculation of the time spent on level 1 by each player who completed the level\n",
    "df_level_timing = df.query('level_1_strategy != \"not finished\" and event == \"finished_stage_1\"')\n",
    "df_level_timing['level_timing'] = (df_level_timing['event_datetime'] - df_level_timing['first_enter_datetime'])\\\n",
    "                                                                                     .astype('timedelta64[D]')\n",
    "df_level_timing.head()"
   ]
  },
  {
   "cell_type": "markdown",
   "metadata": {},
   "source": [
    "Next, let's look at the distribution of time for players to complete level 1, depending on the chosen strategy."
   ]
  },
  {
   "cell_type": "code",
   "execution_count": null,
   "metadata": {},
   "outputs": [],
   "source": [
    "# distribution of time to pass the 1st level depending on the chosen strategies\n",
    "fig = px.histogram(df_level_timing, x='level_timing', color='level_1_strategy', \\\n",
    "                           title='Distribution of time to complete level 1 depending on the player strategy')\n",
    "fig.show()"
   ]
  },
  {
   "cell_type": "markdown",
   "metadata": {},
   "source": [
    "Further, to test the hypothesis, we will use the Student's T-test:\n",
    "\n",
    "- after analyzing the graph, we see that the data is distributed according to the law of normal distribution\n",
    "- 2 independent samples (different strategies)\n",
    "- compare the averages of 2 general populations\n",
    "\n",
    "The significance criterion or the level of significance is defined as 0.05 (5%). Thus, when testing statistical hypotheses, the probability of making a Type I error, that is, rejecting a true null hypothesis, will be 5%.\n",
    "\n",
    "We formulate and test a hypothesis.\n",
    "* **H₀** (null hypothesis) - there are no differences in the average values of the passage time of level 1 between the sample of users who complete the level by building the project and the sample of users who complete the level by winning the battle.\n",
    "* **H₁** (alternative Hypothesis) - There are differences in the average values of the time to pass level 1 between samples of users, depending on the strategy they choose."
   ]
  },
  {
   "cell_type": "markdown",
   "metadata": {},
   "source": [
    "Next, we form the samples and check their variances."
   ]
  },
  {
   "cell_type": "code",
   "execution_count": null,
   "metadata": {
    "scrolled": true
   },
   "outputs": [],
   "source": [
    "# forming the samples\n",
    "project_strategy = df_level_timing[df_level_timing['level_1_strategy'] == 'project']['level_timing']\n",
    "fight_strategy = df_level_timing[df_level_timing['level_1_strategy'] == 'fight']['level_timing']\n",
    "# checking variances\n",
    "print('project_strategy: {:.2f}'.format(np.var(project_strategy)))\n",
    "print('fight_strategy: {:.2f}'.format(np.var(fight_strategy)))"
   ]
  },
  {
   "cell_type": "markdown",
   "metadata": {},
   "source": [
    "The samples have different variance - let's add the parameter equal_var = False when testing the hypothesis."
   ]
  },
  {
   "cell_type": "code",
   "execution_count": null,
   "metadata": {},
   "outputs": [],
   "source": [
    "# t-test hypothesis test function\n",
    "def ttest(sample1, sample2, alpha, equal_var):\n",
    "    # threshold value \n",
    "    alpha = alpha\n",
    "    results = st.ttest_ind(sample1, sample2, equal_var=equal_var)\n",
    "\n",
    "    if results.pvalue < alpha:\n",
    "        print(\"Rejecting the null hypothesis\")\n",
    "    else:\n",
    "        print(\"Failed to reject the null hypothesis\")"
   ]
  },
  {
   "cell_type": "code",
   "execution_count": null,
   "metadata": {},
   "outputs": [],
   "source": [
    "# testing hypothesis \n",
    "ttest(project_strategy, fight_strategy, 0.05, False)"
   ]
  },
  {
   "cell_type": "markdown",
   "metadata": {},
   "source": [
    "Hypothesis testing showed that the average time to complete level 1 differs depending on the strategy chosen by the player. On average, players who complete a project to complete level 1 take longer to complete a level than those who choose combat as a strategy."
   ]
  },
  {
   "cell_type": "markdown",
   "metadata": {},
   "source": [
    "### Hypothesis test: the frequency of visiting the game differs depending on the source from which the users came"
   ]
  },
  {
   "cell_type": "markdown",
   "metadata": {},
   "source": [
    "To test the hypothesis that the frequency of visiting the game is different depending on the source from which the users came: we calculate the number of days that users spent in the game in the context of the sources of their attraction."
   ]
  },
  {
   "cell_type": "code",
   "execution_count": null,
   "metadata": {},
   "outputs": [],
   "source": [
    "# number of days that users spent in the game (per user)\n",
    "data = df.groupby(['source', 'user_id'])['date'].count().reset_index()\n",
    "# histogram of the distribution of the frequency of visiting the game by sources of user acquisition\n",
    "fig = px.histogram(data, x='date', color='source',\\\n",
    "                   title='Distribution of the frequency of visiting the game by sources of user acquisition')\n",
    "fig.show()"
   ]
  },
  {
   "cell_type": "markdown",
   "metadata": {},
   "source": [
    "The distribution of the number of in-game days is not normal (harmonic). Therefore, in this case, the Mann-Whitney U-test is applicable.\n",
    "\n",
    "Formulation of second hypothesis:\n",
    "* **H₀** (null hypothesis) - the average number of in-game days for user samples, depending on the sources of their attraction, are equel.\n",
    "* **H₁** (alternative hypothesis) - the average number of in-game days for user samples varies depending on the sources of their attraction."
   ]
  },
  {
   "cell_type": "code",
   "execution_count": null,
   "metadata": {},
   "outputs": [],
   "source": [
    "# samples for test\n",
    "facebook = df.query('source == \"facebook_ads\"').groupby(['source', 'user_id'])['date'].count()\\\n",
    "                                                                                        .reset_index()['date']\n",
    "instagram = df.query('source == \"instagram_new_adverts\"').groupby(['source', 'user_id'])['date'].count()\\\n",
    "                                                                                        .reset_index()['date']\n",
    "yandex = df.query('source == \"yandex_direct\"').groupby(['source', 'user_id'])['date'].count()\\\n",
    "                                                                                        .reset_index()['date']\n",
    "youtube = df.query('source == \"youtube_channel_reklama\"').groupby(['source', 'user_id'])['date'].count()\\\n",
    "                                                                                        .reset_index()['date']"
   ]
  },
  {
   "cell_type": "code",
   "execution_count": null,
   "metadata": {},
   "outputs": [],
   "source": [
    "# function for testing hypotheses using the Mann-Whitney U-test\n",
    "def mann_whit(sample1, sample2, alpha): \n",
    "    alpha = alpha\n",
    "    results = st.mannwhitneyu(sample1, sample2)\n",
    "\n",
    "    if results.pvalue < alpha:\n",
    "        print(\"Rejecting the null hypothesis\")\n",
    "    else:\n",
    "        print(\"Failed to reject the null hypothesis\")"
   ]
  },
  {
   "cell_type": "markdown",
   "metadata": {},
   "source": [
    "Let's perform a hypothesis test in pairs by user sources. In order to reduce the probability of a false positive result in multiple hypothesis testing, different methods of adjusting the level of significance are used to reduce FWER. We will use the Bonferroni Method (Bonferroni correction): the significance levels in each of the m comparisons are m times less than the significance level required for a single comparison. Simply, we divide the significance level of alpha by the number of comparisons (in our case =6)."
   ]
  },
  {
   "cell_type": "code",
   "execution_count": null,
   "metadata": {
    "scrolled": true
   },
   "outputs": [],
   "source": [
    "mann_whit(facebook, instagram, 0.05/6)"
   ]
  },
  {
   "cell_type": "code",
   "execution_count": null,
   "metadata": {},
   "outputs": [],
   "source": [
    "mann_whit(facebook, yandex, 0.05/6)"
   ]
  },
  {
   "cell_type": "code",
   "execution_count": null,
   "metadata": {},
   "outputs": [],
   "source": [
    "mann_whit(facebook, youtube, 0.05/6)"
   ]
  },
  {
   "cell_type": "code",
   "execution_count": null,
   "metadata": {},
   "outputs": [],
   "source": [
    "mann_whit(instagram, yandex, 0.05/6)"
   ]
  },
  {
   "cell_type": "code",
   "execution_count": null,
   "metadata": {},
   "outputs": [],
   "source": [
    "mann_whit(instagram, youtube, 0.05/6)"
   ]
  },
  {
   "cell_type": "code",
   "execution_count": null,
   "metadata": {
    "scrolled": true
   },
   "outputs": [],
   "source": [
    "mann_whit(yandex, youtube, 0.05/6)"
   ]
  },
  {
   "cell_type": "markdown",
   "metadata": {},
   "source": [
    "Based on the hypothesis tests, we can conclude:\n",
    "- statistical differences were found in the average values of in-game days for users from: *facebook* and *yandex*. For other sources, there are no statistical differences, that is, the average number of in-game days is the same."
   ]
  },
  {
   "cell_type": "markdown",
   "metadata": {},
   "source": [
    "### Hypothesis test: the number of buildings in the game differs depending on the source from which the users came"
   ]
  },
  {
   "cell_type": "markdown",
   "metadata": {},
   "source": [
    "Next, we will check whether there is a dependence on the number of buildings by users and the source of their attraction."
   ]
  },
  {
   "cell_type": "code",
   "execution_count": null,
   "metadata": {},
   "outputs": [],
   "source": [
    "# calculating the number of buildings by users and the source\n",
    "data_building = df.groupby(['source', 'user_id'])['building_type'].count().reset_index()\n",
    "# distribution of the number of buildings by users and by sources of user acquisition\n",
    "fig = px.histogram(data_building, x='building_type', color='source', \\\n",
    "                    title='Distribution of the number of buildings by users and by sources of user acquisition')\n",
    "fig.show()"
   ]
  },
  {
   "cell_type": "markdown",
   "metadata": {},
   "source": [
    "The distribution of the number of in-game days is not normal (harmonic). Therefore, in this case, the Mann-Whitney U-test is applicable.\n",
    "\n",
    "Formulation of third hypothesis:\n",
    "* **H₀** (null hypothesis) - the average number of buildings among user samples according to the source of their attraction are equal.\n",
    "* **H₁** (alternative hypothesis) - the average number of buildings among user samples in accordance with the source of their attraction has differences."
   ]
  },
  {
   "cell_type": "code",
   "execution_count": null,
   "metadata": {},
   "outputs": [],
   "source": [
    "# samples\n",
    "facebook = df.query('source == \"facebook_ads\"').groupby(['source', 'user_id'])['building_type']\\\n",
    "                                                .count().reset_index()['building_type']\n",
    "instagram = df.query('source == \"instagram_new_adverts\"').groupby(['source', 'user_id'])['building_type']\\\n",
    "                                                            .count().reset_index()['building_type']\n",
    "yandex = df.query('source == \"yandex_direct\"').groupby(['source', 'user_id'])['building_type']\\\n",
    "                                                .count().reset_index()['building_type']\n",
    "youtube = df.query('source == \"youtube_channel_reklama\"').groupby(['source', 'user_id'])['building_type']\\\n",
    "                                                .count().reset_index()['building_type']"
   ]
  },
  {
   "cell_type": "markdown",
   "metadata": {},
   "source": [
    "Let's check the hypothesis in pairs by sources. We also apply the Bonferroni correction to reduce FWER: we divide the significance level by the number of checks for these samples (=6)."
   ]
  },
  {
   "cell_type": "code",
   "execution_count": null,
   "metadata": {
    "scrolled": true
   },
   "outputs": [],
   "source": [
    "mann_whit(facebook, instagram, 0.05/6)"
   ]
  },
  {
   "cell_type": "code",
   "execution_count": null,
   "metadata": {},
   "outputs": [],
   "source": [
    "mann_whit(facebook, yandex, 0.05/6)"
   ]
  },
  {
   "cell_type": "code",
   "execution_count": null,
   "metadata": {},
   "outputs": [],
   "source": [
    "mann_whit(facebook, youtube, 0.05/6)"
   ]
  },
  {
   "cell_type": "code",
   "execution_count": null,
   "metadata": {},
   "outputs": [],
   "source": [
    "mann_whit(instagram, yandex, 0.05/6)"
   ]
  },
  {
   "cell_type": "code",
   "execution_count": null,
   "metadata": {},
   "outputs": [],
   "source": [
    "mann_whit(instagram, youtube, 0.05/6)"
   ]
  },
  {
   "cell_type": "code",
   "execution_count": null,
   "metadata": {},
   "outputs": [],
   "source": [
    "mann_whit(yandex, youtube, 0.05/6)"
   ]
  },
  {
   "cell_type": "markdown",
   "metadata": {},
   "source": [
    "Based on the hypothesis tests, we can conclude:\n",
    "- Statistical differences were found in the average number of buildings for user samples from two pairs of sources: *facebook* and *yandex*, as well as *facebook* and *youtube*. For other sources, there are no statistical differences, i.e. the average number of buildings in user samples according to the sources of their attraction is the same."
   ]
  },
  {
   "cell_type": "markdown",
   "metadata": {},
   "source": [
    "***Conclusion***"
   ]
  },
  {
   "cell_type": "markdown",
   "metadata": {},
   "source": [
    "Three hypotheses were tested:\n",
    "1. The average time to complete level 1 differs depending on the strategy chosen by the player: players who complete the project to pass level 1 complete the level longer than those who chose combat as a strategy.\n",
    "2. The frequency of entering the game (the average number of game days) differs only by a couple of sources of user acquisition: *facebook* and *yandex*, for the rest we can assume that there are no differences in game days.\n",
    "3. The average number of buildings by users is also different only for pairs: *facebook* and *yandex*, as well as *facebook* and *youtube*, there are no differences for other sources."
   ]
  },
  {
   "cell_type": "markdown",
   "metadata": {},
   "source": [
    "## General conclusion"
   ]
  },
  {
   "cell_type": "markdown",
   "metadata": {},
   "source": [
    "In the course of the project, data on events committed by users in the mobile game \"Space Brothers\" (table `game_actions`), sources of user acquisition (table `user_source`) and costs for each source of attraction (table `ad_cost`) were studied. In preparation data and their pre-processing:\n",
    "- The data types containing information about dates in the `game_actions` and `ad_costs` tables have been converted to the type corresponding to the dates for further correct work with them.\n",
    "- Removed duplicates and revealed that data gaps are not an error and do not require processing and deletion.\n",
    "- Merged the `actions` and `user_source` tables into a common dataframe for the convenience of further analysis of user behavior depending on the source of their involvement, and added the `date` column for the convenience of further analysis.\n",
    "\n",
    "**Exploratory analysis**\n",
    "* The average number of unique users per day in the game 2884; a sharp increase in users was observed on May 10 and a sharp decrease on May 11 - the jump correlates with a decrease in advertising costs on the indicated dates across all sources.\n",
    "* The average number of buildings per 1 user was 9 buildings; the `assembly_shop` and `spaceport` builds are the most popular, while the `research_center` build is significantly less popular, which can be useful when planning the monetization model that is planned to be done on the object build pages.\n",
    "* Only 43% completed the first level, most of them chose 'battle' as a strategy, those who choose 'orbital station construction project' are 2 times less.\n",
    "* The most productive traffic source: *yandex_direct* (35.5%), in second place *instagram* - 24.7%, then *facebook* - 20.1% and the least number of users brings *youtube* - 19.8% of the total number of users.\n",
    "* User strategies in the game do not differ depending on the source of their attraction.\n",
    "* In total, 7603.53 were spent on advertising and 13,576 users were attracted, while the most expensive source was *yandex_direct* (2233), but it was he who attracted the largest number of users compared to other sources.\n",
    "* The most profitable traffic source is *youtube* (САС = 0.39) and the most unprofitable in terms of the cost of attracting 1 user is *facebook* (САС = 0.78).\n",
    "\n",
    "**Hypothesis Testing**\n",
    "1. Users who choose 'Combat' rather than 'Project' as their strategy will complete the level faster.\n",
    "2. The frequency of entering the game (average number of game days) differs only for sources: *facebook* and *yandex*.\n",
    "3. The average number of buildings by users is also different only for two pairs of sources: *facebook* and *yandex*, as well as *facebook* and *youtube*.\n",
    "\n",
    "_______\n",
    "**Result**\n",
    "\n",
    "Answering the product manager's question about differences in user behavior depending on the channels of their acquisition, let's summarize: more effective and profitable sources of user acquisition were identified, but there were no clear differences in behavior, activity and strategies in the game among users from different traffic sources. It is worth noting separately a clear imbalance in strategies: a bias towards 'combat', which requires fewer buildings and faster completion of the level, which means that you can probably lose with the monetization model through the building windows of objects, which requires further study."
   ]
  },
  {
   "cell_type": "markdown",
   "metadata": {},
   "source": []
  }
 ],
 "metadata": {
  "ExecuteTimeLog": [
   {
    "duration": 1493,
    "start_time": "2022-02-11T02:25:59.518Z"
   },
   {
    "duration": 1411,
    "start_time": "2022-02-11T02:26:01.015Z"
   },
   {
    "duration": 9,
    "start_time": "2022-02-11T02:26:02.430Z"
   },
   {
    "duration": 297,
    "start_time": "2022-02-11T02:26:02.443Z"
   },
   {
    "duration": 10,
    "start_time": "2022-02-11T02:26:02.743Z"
   },
   {
    "duration": 25,
    "start_time": "2022-02-11T02:26:02.756Z"
   },
   {
    "duration": 14,
    "start_time": "2022-02-11T02:26:02.784Z"
   },
   {
    "duration": 9,
    "start_time": "2022-02-11T02:26:02.801Z"
   },
   {
    "duration": 7,
    "start_time": "2022-02-11T02:26:02.814Z"
   },
   {
    "duration": 52,
    "start_time": "2022-02-11T02:26:02.824Z"
   },
   {
    "duration": 9,
    "start_time": "2022-02-11T02:26:02.879Z"
   },
   {
    "duration": 9,
    "start_time": "2022-02-11T02:26:02.890Z"
   },
   {
    "duration": 826,
    "start_time": "2022-02-11T02:26:02.902Z"
   },
   {
    "duration": 38,
    "start_time": "2022-02-11T02:26:03.731Z"
   },
   {
    "duration": 148,
    "start_time": "2022-02-11T02:26:03.772Z"
   },
   {
    "duration": 1325,
    "start_time": "2022-02-11T02:26:03.923Z"
   },
   {
    "duration": 161,
    "start_time": "2022-02-11T02:26:05.251Z"
   },
   {
    "duration": 546,
    "start_time": "2022-02-11T02:26:05.414Z"
   },
   {
    "duration": 723,
    "start_time": "2022-02-11T02:26:05.963Z"
   },
   {
    "duration": 496,
    "start_time": "2022-02-11T02:26:06.689Z"
   },
   {
    "duration": 543,
    "start_time": "2022-02-11T02:26:07.187Z"
   },
   {
    "duration": 2482,
    "start_time": "2022-02-11T02:26:07.733Z"
   },
   {
    "duration": 3485,
    "start_time": "2022-02-11T02:26:10.218Z"
   },
   {
    "duration": 3341,
    "start_time": "2022-02-11T02:26:13.705Z"
   },
   {
    "duration": 3986,
    "start_time": "2022-02-11T02:26:17.048Z"
   },
   {
    "duration": 5254,
    "start_time": "2022-02-11T02:26:21.037Z"
   },
   {
    "duration": 7784,
    "start_time": "2022-02-11T02:26:26.296Z"
   },
   {
    "duration": 838,
    "start_time": "2022-02-12T03:58:36.621Z"
   },
   {
    "duration": 876,
    "start_time": "2022-02-12T03:58:37.461Z"
   },
   {
    "duration": 6,
    "start_time": "2022-02-12T03:58:38.339Z"
   },
   {
    "duration": 180,
    "start_time": "2022-02-12T03:58:38.346Z"
   },
   {
    "duration": 6,
    "start_time": "2022-02-12T03:58:38.527Z"
   },
   {
    "duration": 10,
    "start_time": "2022-02-12T03:58:38.535Z"
   },
   {
    "duration": 14,
    "start_time": "2022-02-12T03:58:38.546Z"
   },
   {
    "duration": 16,
    "start_time": "2022-02-12T03:58:38.561Z"
   },
   {
    "duration": 11,
    "start_time": "2022-02-12T03:58:38.579Z"
   },
   {
    "duration": 14,
    "start_time": "2022-02-12T03:58:38.592Z"
   },
   {
    "duration": 14,
    "start_time": "2022-02-12T03:58:38.607Z"
   },
   {
    "duration": 8,
    "start_time": "2022-02-12T03:58:38.623Z"
   },
   {
    "duration": 507,
    "start_time": "2022-02-12T03:58:38.632Z"
   },
   {
    "duration": 23,
    "start_time": "2022-02-12T03:58:39.140Z"
   },
   {
    "duration": 740,
    "start_time": "2022-02-12T03:58:39.164Z"
   },
   {
    "duration": 880,
    "start_time": "2022-02-12T03:58:39.919Z"
   },
   {
    "duration": 56,
    "start_time": "2022-02-12T03:58:40.801Z"
   },
   {
    "duration": 336,
    "start_time": "2022-02-12T03:58:40.858Z"
   },
   {
    "duration": 353,
    "start_time": "2022-02-12T03:58:41.196Z"
   },
   {
    "duration": 282,
    "start_time": "2022-02-12T03:58:41.550Z"
   },
   {
    "duration": 263,
    "start_time": "2022-02-12T03:58:41.834Z"
   },
   {
    "duration": 1560,
    "start_time": "2022-02-12T03:58:42.099Z"
   },
   {
    "duration": 2135,
    "start_time": "2022-02-12T03:58:43.661Z"
   },
   {
    "duration": 2004,
    "start_time": "2022-02-12T03:58:45.798Z"
   },
   {
    "duration": 2388,
    "start_time": "2022-02-12T03:58:47.804Z"
   },
   {
    "duration": 3177,
    "start_time": "2022-02-12T03:58:50.193Z"
   },
   {
    "duration": 5277,
    "start_time": "2022-02-12T03:58:53.373Z"
   },
   {
    "duration": 326,
    "start_time": "2022-02-12T04:02:29.636Z"
   },
   {
    "duration": 267,
    "start_time": "2022-02-12T04:05:27.115Z"
   },
   {
    "duration": 7,
    "start_time": "2022-02-12T04:05:41.997Z"
   },
   {
    "duration": 1466,
    "start_time": "2022-02-23T14:21:44.061Z"
   },
   {
    "duration": 64,
    "start_time": "2022-02-23T14:21:45.530Z"
   },
   {
    "duration": 15,
    "start_time": "2022-02-23T14:21:45.597Z"
   },
   {
    "duration": 115103,
    "start_time": "2022-02-23T14:21:45.615Z"
   },
   {
    "duration": 19,
    "start_time": "2022-02-23T14:23:40.721Z"
   },
   {
    "duration": 128,
    "start_time": "2022-02-23T14:23:40.743Z"
   },
   {
    "duration": 12,
    "start_time": "2022-02-23T14:23:40.873Z"
   },
   {
    "duration": 10,
    "start_time": "2022-02-23T14:23:40.889Z"
   },
   {
    "duration": 12,
    "start_time": "2022-02-23T14:23:40.902Z"
   },
   {
    "duration": 616,
    "start_time": "2022-02-23T14:23:40.917Z"
   },
   {
    "duration": 374,
    "start_time": "2022-02-23T14:23:41.536Z"
   },
   {
    "duration": 377,
    "start_time": "2022-02-23T14:23:41.913Z"
   },
   {
    "duration": 17,
    "start_time": "2022-02-23T14:23:42.293Z"
   },
   {
    "duration": 477,
    "start_time": "2022-02-23T14:23:42.313Z"
   },
   {
    "duration": 370,
    "start_time": "2022-02-23T14:23:42.793Z"
   },
   {
    "duration": 8,
    "start_time": "2022-02-23T14:23:43.166Z"
   },
   {
    "duration": 489,
    "start_time": "2022-02-23T14:23:43.178Z"
   },
   {
    "duration": 19,
    "start_time": "2022-02-23T14:23:43.671Z"
   },
   {
    "duration": 396,
    "start_time": "2022-02-23T14:23:43.712Z"
   },
   {
    "duration": 7,
    "start_time": "2022-02-23T14:23:44.111Z"
   },
   {
    "duration": 22,
    "start_time": "2022-02-23T14:23:44.121Z"
   },
   {
    "duration": 498,
    "start_time": "2022-02-23T14:23:44.146Z"
   },
   {
    "duration": 6,
    "start_time": "2022-02-23T14:23:44.650Z"
   },
   {
    "duration": 53,
    "start_time": "2022-02-23T14:23:44.658Z"
   },
   {
    "duration": 19,
    "start_time": "2022-02-23T14:23:44.714Z"
   },
   {
    "duration": 18,
    "start_time": "2022-02-23T14:23:44.736Z"
   },
   {
    "duration": 15,
    "start_time": "2022-02-23T14:23:44.758Z"
   },
   {
    "duration": 29,
    "start_time": "2022-02-23T14:23:44.812Z"
   },
   {
    "duration": 25,
    "start_time": "2022-02-23T14:23:44.844Z"
   },
   {
    "duration": 1097,
    "start_time": "2022-02-23T14:23:44.872Z"
   },
   {
    "duration": 461,
    "start_time": "2022-02-23T14:23:45.973Z"
   },
   {
    "duration": 1678,
    "start_time": "2022-02-24T18:18:08.404Z"
   },
   {
    "duration": 24,
    "start_time": "2022-02-24T18:18:10.083Z"
   },
   {
    "duration": 7,
    "start_time": "2022-02-24T18:18:10.109Z"
   },
   {
    "duration": 74334,
    "start_time": "2022-02-24T18:18:10.118Z"
   },
   {
    "duration": 27,
    "start_time": "2022-02-24T18:19:24.454Z"
   },
   {
    "duration": 54,
    "start_time": "2022-02-24T18:19:24.483Z"
   },
   {
    "duration": 7,
    "start_time": "2022-02-24T18:19:24.539Z"
   },
   {
    "duration": 5,
    "start_time": "2022-02-24T18:19:24.548Z"
   },
   {
    "duration": 17,
    "start_time": "2022-02-24T18:19:24.555Z"
   },
   {
    "duration": 7,
    "start_time": "2022-02-24T18:19:24.573Z"
   },
   {
    "duration": 6,
    "start_time": "2022-02-24T18:19:24.581Z"
   },
   {
    "duration": 374,
    "start_time": "2022-02-24T18:19:24.588Z"
   },
   {
    "duration": 243,
    "start_time": "2022-02-24T18:19:24.963Z"
   },
   {
    "duration": 240,
    "start_time": "2022-02-24T18:19:25.208Z"
   },
   {
    "duration": 5,
    "start_time": "2022-02-24T18:19:25.450Z"
   },
   {
    "duration": 331,
    "start_time": "2022-02-24T18:19:25.457Z"
   },
   {
    "duration": 207,
    "start_time": "2022-02-24T18:19:25.790Z"
   },
   {
    "duration": 5,
    "start_time": "2022-02-24T18:19:25.999Z"
   },
   {
    "duration": 344,
    "start_time": "2022-02-24T18:19:26.005Z"
   },
   {
    "duration": 10,
    "start_time": "2022-02-24T18:19:26.351Z"
   },
   {
    "duration": 255,
    "start_time": "2022-02-24T18:19:26.363Z"
   },
   {
    "duration": 4,
    "start_time": "2022-02-24T18:19:26.621Z"
   },
   {
    "duration": 23,
    "start_time": "2022-02-24T18:19:26.627Z"
   },
   {
    "duration": 266,
    "start_time": "2022-02-24T18:19:26.651Z"
   },
   {
    "duration": 3,
    "start_time": "2022-02-24T18:19:26.919Z"
   },
   {
    "duration": 31,
    "start_time": "2022-02-24T18:19:26.924Z"
   },
   {
    "duration": 14,
    "start_time": "2022-02-24T18:19:26.957Z"
   },
   {
    "duration": 12,
    "start_time": "2022-02-24T18:19:26.972Z"
   },
   {
    "duration": 8,
    "start_time": "2022-02-24T18:19:26.986Z"
   },
   {
    "duration": 19,
    "start_time": "2022-02-24T18:19:26.995Z"
   },
   {
    "duration": 48,
    "start_time": "2022-02-24T18:19:27.016Z"
   },
   {
    "duration": 585,
    "start_time": "2022-02-24T18:19:27.065Z"
   },
   {
    "duration": 279,
    "start_time": "2022-02-24T18:19:27.652Z"
   },
   {
    "duration": 9,
    "start_time": "2022-02-24T18:21:48.091Z"
   },
   {
    "duration": 404,
    "start_time": "2022-02-24T18:21:58.383Z"
   },
   {
    "duration": 6,
    "start_time": "2022-02-24T18:22:06.620Z"
   },
   {
    "duration": 7,
    "start_time": "2022-02-24T18:22:24.155Z"
   },
   {
    "duration": 3,
    "start_time": "2022-02-24T18:22:32.115Z"
   },
   {
    "duration": 21397,
    "start_time": "2022-03-12T12:31:38.105Z"
   },
   {
    "duration": 389,
    "start_time": "2022-03-12T12:31:59.506Z"
   },
   {
    "duration": 228538,
    "start_time": "2022-03-12T12:31:59.898Z"
   },
   {
    "duration": 82,
    "start_time": "2022-03-12T12:35:48.439Z"
   },
   {
    "duration": 4,
    "start_time": "2022-03-12T12:35:48.523Z"
   },
   {
    "duration": 16,
    "start_time": "2022-03-12T12:35:48.529Z"
   },
   {
    "duration": 43,
    "start_time": "2022-03-12T12:35:48.548Z"
   },
   {
    "duration": 40,
    "start_time": "2022-03-12T12:35:48.594Z"
   },
   {
    "duration": 8,
    "start_time": "2022-03-12T12:35:48.639Z"
   },
   {
    "duration": 54,
    "start_time": "2022-03-12T12:35:48.650Z"
   },
   {
    "duration": 39,
    "start_time": "2022-03-12T12:35:48.707Z"
   },
   {
    "duration": 43,
    "start_time": "2022-03-12T12:35:48.748Z"
   },
   {
    "duration": 64,
    "start_time": "2022-03-12T12:35:48.794Z"
   },
   {
    "duration": 37,
    "start_time": "2022-03-12T12:35:48.860Z"
   },
   {
    "duration": 541,
    "start_time": "2022-03-12T12:35:48.899Z"
   },
   {
    "duration": -1141,
    "start_time": "2022-03-12T12:35:50.584Z"
   },
   {
    "duration": -1295,
    "start_time": "2022-03-12T12:35:50.739Z"
   },
   {
    "duration": -1295,
    "start_time": "2022-03-12T12:35:50.741Z"
   },
   {
    "duration": -1295,
    "start_time": "2022-03-12T12:35:50.743Z"
   },
   {
    "duration": -1295,
    "start_time": "2022-03-12T12:35:50.744Z"
   },
   {
    "duration": -1296,
    "start_time": "2022-03-12T12:35:50.746Z"
   },
   {
    "duration": -1296,
    "start_time": "2022-03-12T12:35:50.748Z"
   },
   {
    "duration": -1296,
    "start_time": "2022-03-12T12:35:50.749Z"
   },
   {
    "duration": -1296,
    "start_time": "2022-03-12T12:35:50.751Z"
   },
   {
    "duration": -1298,
    "start_time": "2022-03-12T12:35:50.754Z"
   },
   {
    "duration": -1298,
    "start_time": "2022-03-12T12:35:50.755Z"
   },
   {
    "duration": -1297,
    "start_time": "2022-03-12T12:35:50.756Z"
   },
   {
    "duration": -1298,
    "start_time": "2022-03-12T12:35:50.758Z"
   },
   {
    "duration": -1297,
    "start_time": "2022-03-12T12:35:50.759Z"
   },
   {
    "duration": -1297,
    "start_time": "2022-03-12T12:35:50.761Z"
   },
   {
    "duration": -1296,
    "start_time": "2022-03-12T12:35:50.762Z"
   },
   {
    "duration": -1297,
    "start_time": "2022-03-12T12:35:50.764Z"
   },
   {
    "duration": -1326,
    "start_time": "2022-03-12T12:35:50.794Z"
   },
   {
    "duration": -1330,
    "start_time": "2022-03-12T12:35:50.800Z"
   },
   {
    "duration": -1333,
    "start_time": "2022-03-12T12:35:50.804Z"
   },
   {
    "duration": 319,
    "start_time": "2022-03-12T12:46:48.832Z"
   },
   {
    "duration": 333,
    "start_time": "2022-03-12T19:12:03.700Z"
   },
   {
    "duration": 2006,
    "start_time": "2022-03-12T19:16:03.320Z"
   },
   {
    "duration": 406,
    "start_time": "2022-03-12T19:16:21.635Z"
   },
   {
    "duration": 2006,
    "start_time": "2022-03-12T19:16:32.143Z"
   },
   {
    "duration": 132,
    "start_time": "2022-03-12T19:16:34.151Z"
   },
   {
    "duration": 5941,
    "start_time": "2022-03-12T19:16:34.286Z"
   },
   {
    "duration": 93,
    "start_time": "2022-03-12T19:16:40.230Z"
   },
   {
    "duration": 4,
    "start_time": "2022-03-12T19:16:40.326Z"
   },
   {
    "duration": 18,
    "start_time": "2022-03-12T19:16:40.332Z"
   },
   {
    "duration": 65,
    "start_time": "2022-03-12T19:16:40.352Z"
   },
   {
    "duration": 45,
    "start_time": "2022-03-12T19:16:40.421Z"
   },
   {
    "duration": 25,
    "start_time": "2022-03-12T19:16:40.469Z"
   },
   {
    "duration": 38,
    "start_time": "2022-03-12T19:16:40.497Z"
   },
   {
    "duration": 57,
    "start_time": "2022-03-12T19:16:40.537Z"
   },
   {
    "duration": 22,
    "start_time": "2022-03-12T19:16:40.597Z"
   },
   {
    "duration": 98,
    "start_time": "2022-03-12T19:16:40.621Z"
   },
   {
    "duration": 17,
    "start_time": "2022-03-12T19:16:40.721Z"
   },
   {
    "duration": 1272,
    "start_time": "2022-03-12T19:16:40.741Z"
   },
   {
    "duration": 22,
    "start_time": "2022-03-12T19:16:42.017Z"
   },
   {
    "duration": 395,
    "start_time": "2022-03-12T19:16:42.086Z"
   },
   {
    "duration": 1545,
    "start_time": "2022-03-12T19:16:42.488Z"
   },
   {
    "duration": -950,
    "start_time": "2022-03-12T19:16:44.987Z"
   },
   {
    "duration": -953,
    "start_time": "2022-03-12T19:16:44.992Z"
   },
   {
    "duration": -955,
    "start_time": "2022-03-12T19:16:44.996Z"
   },
   {
    "duration": -957,
    "start_time": "2022-03-12T19:16:45.000Z"
   },
   {
    "duration": -959,
    "start_time": "2022-03-12T19:16:45.004Z"
   },
   {
    "duration": -971,
    "start_time": "2022-03-12T19:16:45.018Z"
   },
   {
    "duration": -972,
    "start_time": "2022-03-12T19:16:45.021Z"
   },
   {
    "duration": -974,
    "start_time": "2022-03-12T19:16:45.025Z"
   },
   {
    "duration": -975,
    "start_time": "2022-03-12T19:16:45.028Z"
   },
   {
    "duration": -975,
    "start_time": "2022-03-12T19:16:45.031Z"
   },
   {
    "duration": -975,
    "start_time": "2022-03-12T19:16:45.034Z"
   },
   {
    "duration": -978,
    "start_time": "2022-03-12T19:16:45.038Z"
   },
   {
    "duration": -979,
    "start_time": "2022-03-12T19:16:45.041Z"
   },
   {
    "duration": -1002,
    "start_time": "2022-03-12T19:16:45.066Z"
   },
   {
    "duration": -1005,
    "start_time": "2022-03-12T19:16:45.071Z"
   },
   {
    "duration": -1008,
    "start_time": "2022-03-12T19:16:45.076Z"
   },
   {
    "duration": -1010,
    "start_time": "2022-03-12T19:16:45.079Z"
   },
   {
    "duration": 980,
    "start_time": "2022-03-12T19:17:10.610Z"
   },
   {
    "duration": 14,
    "start_time": "2022-03-12T19:18:01.762Z"
   },
   {
    "duration": 6070,
    "start_time": "2022-03-12T19:18:18.345Z"
   },
   {
    "duration": 5702,
    "start_time": "2022-03-12T19:18:31.019Z"
   },
   {
    "duration": 1011,
    "start_time": "2022-03-12T19:20:22.416Z"
   },
   {
    "duration": 49,
    "start_time": "2022-03-12T19:20:30.118Z"
   },
   {
    "duration": 28,
    "start_time": "2022-03-12T19:20:56.226Z"
   },
   {
    "duration": 28,
    "start_time": "2022-03-12T19:21:16.473Z"
   },
   {
    "duration": 23,
    "start_time": "2022-03-12T19:21:20.522Z"
   },
   {
    "duration": 99,
    "start_time": "2022-03-12T19:21:22.888Z"
   },
   {
    "duration": 500,
    "start_time": "2022-03-12T19:21:27.713Z"
   },
   {
    "duration": 1591,
    "start_time": "2022-03-12T19:21:31.340Z"
   },
   {
    "duration": 29,
    "start_time": "2022-03-12T19:21:37.235Z"
   },
   {
    "duration": 4,
    "start_time": "2022-03-12T19:21:41.712Z"
   },
   {
    "duration": 8,
    "start_time": "2022-03-12T19:21:41.719Z"
   },
   {
    "duration": 3385,
    "start_time": "2022-03-12T19:21:41.730Z"
   },
   {
    "duration": 76,
    "start_time": "2022-03-12T19:21:45.118Z"
   },
   {
    "duration": 3,
    "start_time": "2022-03-12T19:21:45.197Z"
   },
   {
    "duration": 24,
    "start_time": "2022-03-12T19:21:45.202Z"
   },
   {
    "duration": 30,
    "start_time": "2022-03-12T19:21:45.228Z"
   },
   {
    "duration": 64,
    "start_time": "2022-03-12T19:21:45.260Z"
   },
   {
    "duration": 9,
    "start_time": "2022-03-12T19:21:45.328Z"
   },
   {
    "duration": 47,
    "start_time": "2022-03-12T19:21:45.340Z"
   },
   {
    "duration": 44,
    "start_time": "2022-03-12T19:21:45.389Z"
   },
   {
    "duration": 23,
    "start_time": "2022-03-12T19:21:45.436Z"
   },
   {
    "duration": 68,
    "start_time": "2022-03-12T19:21:45.486Z"
   },
   {
    "duration": 33,
    "start_time": "2022-03-12T19:21:45.557Z"
   },
   {
    "duration": 367,
    "start_time": "2022-03-12T19:21:45.592Z"
   },
   {
    "duration": 32,
    "start_time": "2022-03-12T19:21:45.962Z"
   },
   {
    "duration": 187,
    "start_time": "2022-03-12T19:21:45.997Z"
   },
   {
    "duration": 10,
    "start_time": "2022-03-12T19:21:46.186Z"
   },
   {
    "duration": 67,
    "start_time": "2022-03-12T19:21:46.198Z"
   },
   {
    "duration": 500,
    "start_time": "2022-03-12T19:21:46.267Z"
   },
   {
    "duration": 1635,
    "start_time": "2022-03-12T19:21:46.770Z"
   },
   {
    "duration": 26,
    "start_time": "2022-03-12T19:21:48.407Z"
   },
   {
    "duration": 376,
    "start_time": "2022-03-12T19:21:48.435Z"
   },
   {
    "duration": 46,
    "start_time": "2022-03-12T19:21:48.814Z"
   },
   {
    "duration": 48,
    "start_time": "2022-03-12T19:21:48.862Z"
   },
   {
    "duration": 353,
    "start_time": "2022-03-12T19:21:48.915Z"
   },
   {
    "duration": 1254,
    "start_time": "2022-03-12T19:21:49.270Z"
   },
   {
    "duration": 33,
    "start_time": "2022-03-12T19:21:50.527Z"
   },
   {
    "duration": 63,
    "start_time": "2022-03-12T19:21:50.563Z"
   },
   {
    "duration": 20,
    "start_time": "2022-03-12T19:21:50.629Z"
   },
   {
    "duration": 45,
    "start_time": "2022-03-12T19:21:50.651Z"
   },
   {
    "duration": 1213,
    "start_time": "2022-03-12T19:21:50.699Z"
   },
   {
    "duration": 77,
    "start_time": "2022-03-12T19:21:51.915Z"
   },
   {
    "duration": 1038,
    "start_time": "2022-03-12T19:21:51.994Z"
   },
   {
    "duration": 592,
    "start_time": "2022-03-12T19:21:53.034Z"
   },
   {
    "duration": 507,
    "start_time": "2022-03-12T19:21:53.629Z"
   },
   {
    "duration": 1843,
    "start_time": "2022-03-12T19:22:16.719Z"
   },
   {
    "duration": 187,
    "start_time": "2022-03-12T19:22:18.564Z"
   },
   {
    "duration": 4144,
    "start_time": "2022-03-12T19:22:18.755Z"
   },
   {
    "duration": 85,
    "start_time": "2022-03-12T19:22:22.902Z"
   },
   {
    "duration": 4,
    "start_time": "2022-03-12T19:22:22.989Z"
   },
   {
    "duration": 16,
    "start_time": "2022-03-12T19:22:22.995Z"
   },
   {
    "duration": 27,
    "start_time": "2022-03-12T19:22:23.013Z"
   },
   {
    "duration": 78,
    "start_time": "2022-03-12T19:22:23.043Z"
   },
   {
    "duration": 10,
    "start_time": "2022-03-12T19:22:23.127Z"
   },
   {
    "duration": 53,
    "start_time": "2022-03-12T19:22:23.141Z"
   },
   {
    "duration": 44,
    "start_time": "2022-03-12T19:22:23.197Z"
   },
   {
    "duration": 44,
    "start_time": "2022-03-12T19:22:23.243Z"
   },
   {
    "duration": 72,
    "start_time": "2022-03-12T19:22:23.289Z"
   },
   {
    "duration": 34,
    "start_time": "2022-03-12T19:22:23.363Z"
   },
   {
    "duration": 888,
    "start_time": "2022-03-12T19:22:23.399Z"
   },
   {
    "duration": 17,
    "start_time": "2022-03-12T19:22:24.290Z"
   },
   {
    "duration": 356,
    "start_time": "2022-03-12T19:22:24.309Z"
   },
   {
    "duration": 506,
    "start_time": "2022-03-12T19:22:24.668Z"
   },
   {
    "duration": -3253,
    "start_time": "2022-03-12T19:22:28.430Z"
   },
   {
    "duration": -3256,
    "start_time": "2022-03-12T19:22:28.434Z"
   },
   {
    "duration": -3259,
    "start_time": "2022-03-12T19:22:28.439Z"
   },
   {
    "duration": -3262,
    "start_time": "2022-03-12T19:22:28.443Z"
   },
   {
    "duration": -3265,
    "start_time": "2022-03-12T19:22:28.447Z"
   },
   {
    "duration": -3267,
    "start_time": "2022-03-12T19:22:28.451Z"
   },
   {
    "duration": -3269,
    "start_time": "2022-03-12T19:22:28.455Z"
   },
   {
    "duration": -3273,
    "start_time": "2022-03-12T19:22:28.460Z"
   },
   {
    "duration": -3275,
    "start_time": "2022-03-12T19:22:28.464Z"
   },
   {
    "duration": -3277,
    "start_time": "2022-03-12T19:22:28.468Z"
   },
   {
    "duration": -3279,
    "start_time": "2022-03-12T19:22:28.471Z"
   },
   {
    "duration": -3300,
    "start_time": "2022-03-12T19:22:28.493Z"
   },
   {
    "duration": -3303,
    "start_time": "2022-03-12T19:22:28.497Z"
   },
   {
    "duration": -3305,
    "start_time": "2022-03-12T19:22:28.501Z"
   },
   {
    "duration": -3308,
    "start_time": "2022-03-12T19:22:28.505Z"
   },
   {
    "duration": -3318,
    "start_time": "2022-03-12T19:22:28.516Z"
   },
   {
    "duration": -3353,
    "start_time": "2022-03-12T19:22:28.553Z"
   },
   {
    "duration": -3362,
    "start_time": "2022-03-12T19:22:28.563Z"
   },
   {
    "duration": 105,
    "start_time": "2022-03-12T19:23:16.326Z"
   },
   {
    "duration": 606,
    "start_time": "2022-03-12T19:23:20.962Z"
   },
   {
    "duration": 1763,
    "start_time": "2022-03-12T19:23:24.465Z"
   },
   {
    "duration": 28,
    "start_time": "2022-03-12T19:23:30.482Z"
   },
   {
    "duration": 339,
    "start_time": "2022-03-12T19:23:33.362Z"
   },
   {
    "duration": 48,
    "start_time": "2022-03-12T19:23:36.727Z"
   },
   {
    "duration": 6,
    "start_time": "2022-03-12T19:23:41.264Z"
   },
   {
    "duration": 7,
    "start_time": "2022-03-12T19:23:41.272Z"
   },
   {
    "duration": 3410,
    "start_time": "2022-03-12T19:23:41.282Z"
   },
   {
    "duration": 72,
    "start_time": "2022-03-12T19:23:44.695Z"
   },
   {
    "duration": 4,
    "start_time": "2022-03-12T19:23:44.769Z"
   },
   {
    "duration": 19,
    "start_time": "2022-03-12T19:23:44.776Z"
   },
   {
    "duration": 24,
    "start_time": "2022-03-12T19:23:44.797Z"
   },
   {
    "duration": 78,
    "start_time": "2022-03-12T19:23:44.825Z"
   },
   {
    "duration": 9,
    "start_time": "2022-03-12T19:23:44.905Z"
   },
   {
    "duration": 23,
    "start_time": "2022-03-12T19:23:44.917Z"
   },
   {
    "duration": 73,
    "start_time": "2022-03-12T19:23:44.943Z"
   },
   {
    "duration": 30,
    "start_time": "2022-03-12T19:23:45.019Z"
   },
   {
    "duration": 96,
    "start_time": "2022-03-12T19:23:45.052Z"
   },
   {
    "duration": 17,
    "start_time": "2022-03-12T19:23:45.150Z"
   },
   {
    "duration": 376,
    "start_time": "2022-03-12T19:23:45.169Z"
   },
   {
    "duration": 16,
    "start_time": "2022-03-12T19:23:45.547Z"
   },
   {
    "duration": 191,
    "start_time": "2022-03-12T19:23:45.566Z"
   },
   {
    "duration": 63,
    "start_time": "2022-03-12T19:23:45.760Z"
   },
   {
    "duration": 504,
    "start_time": "2022-03-12T19:23:45.826Z"
   },
   {
    "duration": 1632,
    "start_time": "2022-03-12T19:23:46.333Z"
   },
   {
    "duration": 37,
    "start_time": "2022-03-12T19:23:47.968Z"
   },
   {
    "duration": 356,
    "start_time": "2022-03-12T19:23:48.009Z"
   },
   {
    "duration": 54,
    "start_time": "2022-03-12T19:23:48.368Z"
   },
   {
    "duration": 27,
    "start_time": "2022-03-12T19:23:48.425Z"
   },
   {
    "duration": 406,
    "start_time": "2022-03-12T19:23:48.455Z"
   },
   {
    "duration": 975,
    "start_time": "2022-03-12T19:23:48.864Z"
   },
   {
    "duration": 34,
    "start_time": "2022-03-12T19:23:49.841Z"
   },
   {
    "duration": 53,
    "start_time": "2022-03-12T19:23:49.878Z"
   },
   {
    "duration": 20,
    "start_time": "2022-03-12T19:23:49.934Z"
   },
   {
    "duration": 46,
    "start_time": "2022-03-12T19:23:49.957Z"
   },
   {
    "duration": 1208,
    "start_time": "2022-03-12T19:23:50.006Z"
   },
   {
    "duration": 92,
    "start_time": "2022-03-12T19:23:51.217Z"
   },
   {
    "duration": 904,
    "start_time": "2022-03-12T19:23:51.312Z"
   },
   {
    "duration": 594,
    "start_time": "2022-03-12T19:23:52.219Z"
   },
   {
    "duration": 514,
    "start_time": "2022-03-12T19:23:52.815Z"
   },
   {
    "duration": 1837,
    "start_time": "2022-03-12T19:27:11.319Z"
   },
   {
    "duration": 126,
    "start_time": "2022-03-12T19:27:13.159Z"
   },
   {
    "duration": 4214,
    "start_time": "2022-03-12T19:27:13.289Z"
   },
   {
    "duration": 89,
    "start_time": "2022-03-12T19:27:17.507Z"
   },
   {
    "duration": 4,
    "start_time": "2022-03-12T19:27:17.598Z"
   },
   {
    "duration": 15,
    "start_time": "2022-03-12T19:27:17.604Z"
   },
   {
    "duration": 25,
    "start_time": "2022-03-12T19:27:17.622Z"
   },
   {
    "duration": 72,
    "start_time": "2022-03-12T19:27:17.649Z"
   },
   {
    "duration": 9,
    "start_time": "2022-03-12T19:27:17.725Z"
   },
   {
    "duration": 49,
    "start_time": "2022-03-12T19:27:17.740Z"
   },
   {
    "duration": 40,
    "start_time": "2022-03-12T19:27:17.791Z"
   },
   {
    "duration": 53,
    "start_time": "2022-03-12T19:27:17.835Z"
   },
   {
    "duration": 70,
    "start_time": "2022-03-12T19:27:17.891Z"
   },
   {
    "duration": 28,
    "start_time": "2022-03-12T19:27:17.963Z"
   },
   {
    "duration": 1098,
    "start_time": "2022-03-12T19:27:17.994Z"
   },
   {
    "duration": 20,
    "start_time": "2022-03-12T19:27:19.094Z"
   },
   {
    "duration": 375,
    "start_time": "2022-03-12T19:27:19.117Z"
   },
   {
    "duration": 108,
    "start_time": "2022-03-12T19:27:19.494Z"
   },
   {
    "duration": 521,
    "start_time": "2022-03-12T19:27:19.604Z"
   },
   {
    "duration": 1585,
    "start_time": "2022-03-12T19:27:20.128Z"
   },
   {
    "duration": 25,
    "start_time": "2022-03-12T19:27:21.716Z"
   },
   {
    "duration": 369,
    "start_time": "2022-03-12T19:27:21.743Z"
   },
   {
    "duration": 50,
    "start_time": "2022-03-12T19:27:22.116Z"
   },
   {
    "duration": 26,
    "start_time": "2022-03-12T19:27:22.187Z"
   },
   {
    "duration": 366,
    "start_time": "2022-03-12T19:27:22.216Z"
   },
   {
    "duration": 1267,
    "start_time": "2022-03-12T19:27:22.587Z"
   },
   {
    "duration": 34,
    "start_time": "2022-03-12T19:27:23.859Z"
   },
   {
    "duration": 48,
    "start_time": "2022-03-12T19:27:23.896Z"
   },
   {
    "duration": 43,
    "start_time": "2022-03-12T19:27:23.948Z"
   },
   {
    "duration": 26,
    "start_time": "2022-03-12T19:27:23.994Z"
   },
   {
    "duration": 895,
    "start_time": "2022-03-12T19:27:24.023Z"
   },
   {
    "duration": 75,
    "start_time": "2022-03-12T19:27:24.920Z"
   },
   {
    "duration": 919,
    "start_time": "2022-03-12T19:27:24.998Z"
   },
   {
    "duration": 761,
    "start_time": "2022-03-12T19:27:25.919Z"
   },
   {
    "duration": 507,
    "start_time": "2022-03-12T19:27:26.682Z"
   },
   {
    "duration": 17798,
    "start_time": "2022-03-13T04:59:37.703Z"
   },
   {
    "duration": 223,
    "start_time": "2022-03-13T04:59:55.503Z"
   },
   {
    "duration": 143399,
    "start_time": "2022-03-13T04:59:55.729Z"
   },
   {
    "duration": 89,
    "start_time": "2022-03-13T05:02:19.132Z"
   },
   {
    "duration": 5,
    "start_time": "2022-03-13T05:02:19.224Z"
   },
   {
    "duration": 14,
    "start_time": "2022-03-13T05:02:19.232Z"
   },
   {
    "duration": 62,
    "start_time": "2022-03-13T05:02:19.249Z"
   },
   {
    "duration": 45,
    "start_time": "2022-03-13T05:02:19.314Z"
   },
   {
    "duration": 9,
    "start_time": "2022-03-13T05:02:19.388Z"
   },
   {
    "duration": 31,
    "start_time": "2022-03-13T05:02:19.402Z"
   },
   {
    "duration": 71,
    "start_time": "2022-03-13T05:02:19.436Z"
   },
   {
    "duration": 24,
    "start_time": "2022-03-13T05:02:19.509Z"
   },
   {
    "duration": 98,
    "start_time": "2022-03-13T05:02:19.536Z"
   },
   {
    "duration": 18,
    "start_time": "2022-03-13T05:02:19.637Z"
   },
   {
    "duration": 911,
    "start_time": "2022-03-13T05:02:19.658Z"
   },
   {
    "duration": 21,
    "start_time": "2022-03-13T05:02:20.587Z"
   },
   {
    "duration": 387,
    "start_time": "2022-03-13T05:02:20.611Z"
   },
   {
    "duration": 108,
    "start_time": "2022-03-13T05:02:21.000Z"
   },
   {
    "duration": 518,
    "start_time": "2022-03-13T05:02:21.111Z"
   },
   {
    "duration": 1560,
    "start_time": "2022-03-13T05:02:21.632Z"
   },
   {
    "duration": 26,
    "start_time": "2022-03-13T05:02:23.195Z"
   },
   {
    "duration": 350,
    "start_time": "2022-03-13T05:02:23.223Z"
   },
   {
    "duration": 55,
    "start_time": "2022-03-13T05:02:23.575Z"
   },
   {
    "duration": 27,
    "start_time": "2022-03-13T05:02:23.632Z"
   },
   {
    "duration": 359,
    "start_time": "2022-03-13T05:02:23.661Z"
   },
   {
    "duration": 1354,
    "start_time": "2022-03-13T05:02:24.023Z"
   },
   {
    "duration": 44,
    "start_time": "2022-03-13T05:02:25.382Z"
   },
   {
    "duration": 60,
    "start_time": "2022-03-13T05:02:25.428Z"
   },
   {
    "duration": 18,
    "start_time": "2022-03-13T05:02:25.491Z"
   },
   {
    "duration": 24,
    "start_time": "2022-03-13T05:02:25.512Z"
   },
   {
    "duration": 926,
    "start_time": "2022-03-13T05:02:25.538Z"
   },
   {
    "duration": 53,
    "start_time": "2022-03-13T05:02:26.467Z"
   },
   {
    "duration": 981,
    "start_time": "2022-03-13T05:02:26.522Z"
   },
   {
    "duration": 751,
    "start_time": "2022-03-13T05:02:27.506Z"
   },
   {
    "duration": 630,
    "start_time": "2022-03-13T05:02:28.261Z"
   },
   {
    "duration": 444,
    "start_time": "2022-05-04T16:46:52.545Z"
   },
   {
    "duration": 299,
    "start_time": "2022-05-04T16:46:52.992Z"
   },
   {
    "duration": 460,
    "start_time": "2022-05-04T16:47:03.243Z"
   },
   {
    "duration": 1167,
    "start_time": "2022-05-13T15:00:33.734Z"
   },
   {
    "duration": 294,
    "start_time": "2022-05-13T15:00:34.903Z"
   },
   {
    "duration": 413,
    "start_time": "2022-05-13T15:00:35.199Z"
   },
   {
    "duration": 88,
    "start_time": "2022-05-13T15:00:35.614Z"
   },
   {
    "duration": 87,
    "start_time": "2022-05-13T15:00:35.704Z"
   },
   {
    "duration": 102,
    "start_time": "2022-05-13T15:00:35.793Z"
   },
   {
    "duration": 48,
    "start_time": "2022-05-13T15:00:35.897Z"
   },
   {
    "duration": 43,
    "start_time": "2022-05-13T15:00:35.962Z"
   },
   {
    "duration": 124,
    "start_time": "2022-05-13T15:00:36.007Z"
   },
   {
    "duration": 87,
    "start_time": "2022-05-13T15:00:36.135Z"
   },
   {
    "duration": 592,
    "start_time": "2022-05-13T15:00:36.224Z"
   },
   {
    "duration": 11,
    "start_time": "2022-05-13T15:00:36.818Z"
   },
   {
    "duration": 167,
    "start_time": "2022-05-13T15:00:36.831Z"
   },
   {
    "duration": 86,
    "start_time": "2022-05-13T15:00:37.000Z"
   },
   {
    "duration": 74,
    "start_time": "2022-05-13T15:00:37.088Z"
   },
   {
    "duration": 71,
    "start_time": "2022-05-13T15:00:37.164Z"
   },
   {
    "duration": 72,
    "start_time": "2022-05-13T15:00:37.237Z"
   },
   {
    "duration": 76,
    "start_time": "2022-05-13T15:00:37.310Z"
   },
   {
    "duration": 143,
    "start_time": "2022-05-13T15:00:37.388Z"
   },
   {
    "duration": 0,
    "start_time": "2022-05-13T15:00:37.533Z"
   },
   {
    "duration": 0,
    "start_time": "2022-05-13T15:00:37.534Z"
   },
   {
    "duration": 0,
    "start_time": "2022-05-13T15:00:37.536Z"
   },
   {
    "duration": 0,
    "start_time": "2022-05-13T15:00:37.537Z"
   },
   {
    "duration": 0,
    "start_time": "2022-05-13T15:00:37.538Z"
   },
   {
    "duration": 0,
    "start_time": "2022-05-13T15:00:37.539Z"
   },
   {
    "duration": 0,
    "start_time": "2022-05-13T15:00:37.540Z"
   },
   {
    "duration": 0,
    "start_time": "2022-05-13T15:00:37.562Z"
   },
   {
    "duration": 0,
    "start_time": "2022-05-13T15:00:37.563Z"
   },
   {
    "duration": 0,
    "start_time": "2022-05-13T15:00:37.565Z"
   },
   {
    "duration": 0,
    "start_time": "2022-05-13T15:00:37.566Z"
   },
   {
    "duration": 0,
    "start_time": "2022-05-13T15:00:37.567Z"
   },
   {
    "duration": 0,
    "start_time": "2022-05-13T15:00:37.568Z"
   },
   {
    "duration": 0,
    "start_time": "2022-05-13T15:00:37.569Z"
   },
   {
    "duration": 0,
    "start_time": "2022-05-13T15:00:37.570Z"
   },
   {
    "duration": 0,
    "start_time": "2022-05-13T15:00:37.571Z"
   },
   {
    "duration": 0,
    "start_time": "2022-05-13T15:00:37.572Z"
   },
   {
    "duration": 0,
    "start_time": "2022-05-13T15:00:37.573Z"
   },
   {
    "duration": 0,
    "start_time": "2022-05-13T15:00:37.574Z"
   },
   {
    "duration": 0,
    "start_time": "2022-05-13T15:00:37.575Z"
   },
   {
    "duration": 0,
    "start_time": "2022-05-13T15:00:37.575Z"
   },
   {
    "duration": 0,
    "start_time": "2022-05-13T15:00:37.576Z"
   },
   {
    "duration": 0,
    "start_time": "2022-05-13T15:00:37.577Z"
   },
   {
    "duration": 0,
    "start_time": "2022-05-13T15:00:37.578Z"
   },
   {
    "duration": 0,
    "start_time": "2022-05-13T15:00:37.579Z"
   },
   {
    "duration": 0,
    "start_time": "2022-05-13T15:00:37.580Z"
   },
   {
    "duration": 0,
    "start_time": "2022-05-13T15:00:37.581Z"
   },
   {
    "duration": 0,
    "start_time": "2022-05-13T15:00:37.582Z"
   },
   {
    "duration": 0,
    "start_time": "2022-05-13T15:00:37.583Z"
   },
   {
    "duration": 0,
    "start_time": "2022-05-13T15:00:37.584Z"
   },
   {
    "duration": 0,
    "start_time": "2022-05-13T15:00:37.585Z"
   },
   {
    "duration": 0,
    "start_time": "2022-05-13T15:00:37.586Z"
   },
   {
    "duration": 438,
    "start_time": "2022-05-13T17:25:43.057Z"
   },
   {
    "duration": 65,
    "start_time": "2022-05-13T17:25:50.742Z"
   },
   {
    "duration": 118,
    "start_time": "2022-05-13T17:25:50.810Z"
   },
   {
    "duration": 86,
    "start_time": "2022-05-13T17:25:50.929Z"
   },
   {
    "duration": 1299,
    "start_time": "2022-05-13T17:25:51.017Z"
   },
   {
    "duration": 89,
    "start_time": "2022-05-13T17:25:52.319Z"
   },
   {
    "duration": 18,
    "start_time": "2022-05-13T17:25:52.410Z"
   },
   {
    "duration": 48,
    "start_time": "2022-05-13T17:25:52.430Z"
   },
   {
    "duration": 94,
    "start_time": "2022-05-13T17:25:52.480Z"
   },
   {
    "duration": 18,
    "start_time": "2022-05-13T17:25:52.576Z"
   },
   {
    "duration": 241,
    "start_time": "2022-05-13T17:25:52.595Z"
   },
   {
    "duration": 137,
    "start_time": "2022-05-13T17:25:52.838Z"
   },
   {
    "duration": 11,
    "start_time": "2022-05-13T17:25:52.979Z"
   },
   {
    "duration": 26,
    "start_time": "2022-05-13T17:25:52.992Z"
   },
   {
    "duration": 17,
    "start_time": "2022-05-13T17:25:53.021Z"
   },
   {
    "duration": 255,
    "start_time": "2022-05-13T17:25:53.040Z"
   },
   {
    "duration": 142,
    "start_time": "2022-05-13T17:25:53.299Z"
   },
   {
    "duration": 4,
    "start_time": "2022-05-13T17:25:53.443Z"
   },
   {
    "duration": 61,
    "start_time": "2022-05-13T17:25:53.449Z"
   },
   {
    "duration": 15,
    "start_time": "2022-05-13T17:25:53.512Z"
   },
   {
    "duration": 12,
    "start_time": "2022-05-13T17:25:53.530Z"
   },
   {
    "duration": 10,
    "start_time": "2022-05-13T17:25:53.544Z"
   },
   {
    "duration": 54,
    "start_time": "2022-05-13T17:25:53.556Z"
   },
   {
    "duration": 15,
    "start_time": "2022-05-13T17:25:53.612Z"
   },
   {
    "duration": 203,
    "start_time": "2022-05-13T17:25:53.629Z"
   },
   {
    "duration": 120,
    "start_time": "2022-05-13T17:25:53.834Z"
   },
   {
    "duration": 25,
    "start_time": "2022-05-13T17:25:53.956Z"
   },
   {
    "duration": 25,
    "start_time": "2022-05-13T17:25:53.987Z"
   },
   {
    "duration": 13,
    "start_time": "2022-05-13T17:25:54.015Z"
   },
   {
    "duration": 23,
    "start_time": "2022-05-13T17:25:54.030Z"
   },
   {
    "duration": 16,
    "start_time": "2022-05-13T17:25:54.055Z"
   },
   {
    "duration": 41,
    "start_time": "2022-05-13T17:25:54.073Z"
   },
   {
    "duration": 2377,
    "start_time": "2022-05-13T17:25:54.117Z"
   }
  ],
  "kernelspec": {
   "display_name": "Python 3 (ipykernel)",
   "language": "python",
   "name": "python3"
  },
  "language_info": {
   "codemirror_mode": {
    "name": "ipython",
    "version": 3
   },
   "file_extension": ".py",
   "mimetype": "text/x-python",
   "name": "python",
   "nbconvert_exporter": "python",
   "pygments_lexer": "ipython3",
   "version": "3.10.9"
  },
  "toc": {
   "base_numbering": 1,
   "nav_menu": {},
   "number_sections": true,
   "sideBar": true,
   "skip_h1_title": true,
   "title_cell": "Table of Contents",
   "title_sidebar": "Contents",
   "toc_cell": false,
   "toc_position": {
    "height": "calc(100% - 180px)",
    "left": "10px",
    "top": "150px",
    "width": "165px"
   },
   "toc_section_display": true,
   "toc_window_display": true
  }
 },
 "nbformat": 4,
 "nbformat_minor": 4
}
